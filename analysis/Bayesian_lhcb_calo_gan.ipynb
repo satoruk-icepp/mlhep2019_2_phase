{
  "nbformat": 4,
  "nbformat_minor": 0,
  "metadata": {
    "colab": {
      "name": "Bayesian_lhcb_calo_gan.ipynb のコピー",
      "version": "0.3.2",
      "provenance": [],
      "collapsed_sections": [],
      "toc_visible": true,
      "include_colab_link": true
    },
    "language_info": {
      "codemirror_mode": {
        "name": "ipython",
        "version": 3
      },
      "file_extension": ".py",
      "mimetype": "text/x-python",
      "name": "python",
      "nbconvert_exporter": "python",
      "pygments_lexer": "ipython3",
      "version": "3.6.8"
    },
    "kernelspec": {
      "name": "python3",
      "display_name": "Python 3"
    },
    "accelerator": "GPU"
  },
  "cells": [
    {
      "cell_type": "markdown",
      "metadata": {
        "id": "view-in-github",
        "colab_type": "text"
      },
      "source": [
        "<a href=\"https://colab.research.google.com/github/satoruk-icepp/mlhep2019_2_phase/blob/master/analysis/Bayesian_lhcb_calo_gan.ipynb\" target=\"_parent\"><img src=\"https://colab.research.google.com/assets/colab-badge.svg\" alt=\"Open In Colab\"/></a>"
      ]
    },
    {
      "cell_type": "code",
      "metadata": {
        "id": "Ud8PAMb2mDK9",
        "colab_type": "code",
        "outputId": "1efaebc0-cffd-406a-e912-34f6d5005175",
        "colab": {
          "base_uri": "https://localhost:8080/",
          "height": 440
        }
      },
      "source": [
        "! wget https://raw.githubusercontent.com/SchattenGenie/mlhep2019_2_phase/master/analysis/calogan_metrics.py -nc\n",
        "! wget https://raw.githubusercontent.com/SchattenGenie/mlhep2019_2_phase/master/analysis/prd_score.py -nc\n",
        "! wget https://raw.githubusercontent.com/SchattenGenie/mlhep2019_2_phase/master/analysis/score.py -nc\n",
        "! wget https://github.com/SchattenGenie/mlhep2019_2_phase/raw/master/analysis/embedder.tp -nc\n",
        "! wget https://github.com/satoruk-icepp/mlhep2019_2_phase/raw/master/analysis/generator.py"
      ],
      "execution_count": 0,
      "outputs": [
        {
          "output_type": "stream",
          "text": [
            "File ‘calogan_metrics.py’ already there; not retrieving.\n",
            "\n",
            "File ‘prd_score.py’ already there; not retrieving.\n",
            "\n",
            "File ‘score.py’ already there; not retrieving.\n",
            "\n",
            "File ‘embedder.tp’ already there; not retrieving.\n",
            "\n",
            "--2019-07-26 00:20:17--  https://github.com/satoruk-icepp/mlhep2019_2_phase/raw/master/analysis/generator.py\n",
            "Resolving github.com (github.com)... 140.82.114.4\n",
            "Connecting to github.com (github.com)|140.82.114.4|:443... connected.\n",
            "HTTP request sent, awaiting response... 302 Found\n",
            "Location: https://raw.githubusercontent.com/satoruk-icepp/mlhep2019_2_phase/master/analysis/generator.py [following]\n",
            "--2019-07-26 00:20:18--  https://raw.githubusercontent.com/satoruk-icepp/mlhep2019_2_phase/master/analysis/generator.py\n",
            "Resolving raw.githubusercontent.com (raw.githubusercontent.com)... 151.101.0.133, 151.101.64.133, 151.101.128.133, ...\n",
            "Connecting to raw.githubusercontent.com (raw.githubusercontent.com)|151.101.0.133|:443... connected.\n",
            "HTTP request sent, awaiting response... 200 OK\n",
            "Length: 2673 (2.6K) [text/plain]\n",
            "Saving to: ‘generator.py.8’\n",
            "\n",
            "generator.py.8      100%[===================>]   2.61K  --.-KB/s    in 0s      \n",
            "\n",
            "2019-07-26 00:20:19 (26.3 MB/s) - ‘generator.py.8’ saved [2673/2673]\n",
            "\n"
          ],
          "name": "stdout"
        }
      ]
    },
    {
      "cell_type": "code",
      "metadata": {
        "id": "UXxnaK7TH6vO",
        "colab_type": "code",
        "outputId": "0e548685-cb0c-47bf-dfe3-f24343b640ed",
        "colab": {
          "base_uri": "https://localhost:8080/",
          "height": 34
        }
      },
      "source": [
        "%%writefile .comet.config\n",
        "[comet]\n",
        "api_key=mIel5ZAPOioTs0Cij75dSSQXs\n",
        "logging_file = /tmp/comet.log\n",
        "logging_file_level = info\n"
      ],
      "execution_count": 0,
      "outputs": [
        {
          "output_type": "stream",
          "text": [
            "Overwriting .comet.config\n"
          ],
          "name": "stdout"
        }
      ]
    },
    {
      "cell_type": "code",
      "metadata": {
        "id": "ZlDzipgxH9kV",
        "colab_type": "code",
        "outputId": "bc8a9857-1656-4f3a-b6ae-ac53d29e4318",
        "colab": {
          "base_uri": "https://localhost:8080/",
          "height": 406
        }
      },
      "source": [
        "! [ ! -z \"$COLAB_GPU\" ] && pip install skorch comet_ml"
      ],
      "execution_count": 0,
      "outputs": [
        {
          "output_type": "stream",
          "text": [
            "Requirement already satisfied: skorch in /usr/local/lib/python3.6/dist-packages (0.6.0)\n",
            "Requirement already satisfied: comet_ml in /usr/local/lib/python3.6/dist-packages (2.0.5)\n",
            "Requirement already satisfied: tabulate>=0.7.7 in /usr/local/lib/python3.6/dist-packages (from skorch) (0.8.3)\n",
            "Requirement already satisfied: numpy>=1.13.3 in /usr/local/lib/python3.6/dist-packages (from skorch) (1.16.4)\n",
            "Requirement already satisfied: scipy>=1.1.0 in /usr/local/lib/python3.6/dist-packages (from skorch) (1.3.0)\n",
            "Requirement already satisfied: tqdm>=4.14.0 in /usr/local/lib/python3.6/dist-packages (from skorch) (4.28.1)\n",
            "Requirement already satisfied: scikit-learn>=0.19.1 in /usr/local/lib/python3.6/dist-packages (from skorch) (0.21.2)\n",
            "Requirement already satisfied: netifaces>=0.10.7 in /usr/local/lib/python3.6/dist-packages (from comet_ml) (0.10.9)\n",
            "Requirement already satisfied: comet-git-pure>=0.19.11 in /usr/local/lib/python3.6/dist-packages (from comet_ml) (0.19.11)\n",
            "Requirement already satisfied: wurlitzer>=1.0.2 in /usr/local/lib/python3.6/dist-packages (from comet_ml) (1.0.3)\n",
            "Requirement already satisfied: everett[ini]>=1.0.1; python_version >= \"3.0\" in /usr/local/lib/python3.6/dist-packages (from comet_ml) (1.0.2)\n",
            "Requirement already satisfied: websocket-client>=0.55.0 in /usr/local/lib/python3.6/dist-packages (from comet_ml) (0.56.0)\n",
            "Requirement already satisfied: requests>=2.18.4 in /usr/local/lib/python3.6/dist-packages (from comet_ml) (2.21.0)\n",
            "Requirement already satisfied: nvidia-ml-py3>=7.352.0 in /usr/local/lib/python3.6/dist-packages (from comet_ml) (7.352.0)\n",
            "Requirement already satisfied: jsonschema>=2.6.0 in /usr/local/lib/python3.6/dist-packages (from comet_ml) (2.6.0)\n",
            "Requirement already satisfied: six in /usr/local/lib/python3.6/dist-packages (from comet_ml) (1.12.0)\n",
            "Requirement already satisfied: joblib>=0.11 in /usr/local/lib/python3.6/dist-packages (from scikit-learn>=0.19.1->skorch) (0.13.2)\n",
            "Requirement already satisfied: urllib3>=1.23 in /usr/local/lib/python3.6/dist-packages (from comet-git-pure>=0.19.11->comet_ml) (1.24.3)\n",
            "Requirement already satisfied: certifi in /usr/local/lib/python3.6/dist-packages (from comet-git-pure>=0.19.11->comet_ml) (2019.6.16)\n",
            "Requirement already satisfied: configobj; extra == \"ini\" in /usr/local/lib/python3.6/dist-packages (from everett[ini]>=1.0.1; python_version >= \"3.0\"->comet_ml) (5.0.6)\n",
            "Requirement already satisfied: idna<2.9,>=2.5 in /usr/local/lib/python3.6/dist-packages (from requests>=2.18.4->comet_ml) (2.8)\n",
            "Requirement already satisfied: chardet<3.1.0,>=3.0.2 in /usr/local/lib/python3.6/dist-packages (from requests>=2.18.4->comet_ml) (3.0.4)\n"
          ],
          "name": "stdout"
        }
      ]
    },
    {
      "cell_type": "code",
      "metadata": {
        "id": "XOlzCD-oIA-S",
        "colab_type": "code",
        "outputId": "2c4ca36a-e619-4a0b-a88e-88e3ab1073d7",
        "colab": {
          "base_uri": "https://localhost:8080/",
          "height": 70
        }
      },
      "source": [
        "from comet_ml import Experiment\n",
        "experiment = Experiment(project_name=\"BayesGAN\")"
      ],
      "execution_count": 0,
      "outputs": [
        {
          "output_type": "stream",
          "text": [
            "COMET INFO: Experiment is live on comet.ml https://www.comet.ml/satoruk-icepp/bayesgan/062e60f21fc94c08b64946c626060193\n",
            "\n"
          ],
          "name": "stderr"
        }
      ]
    },
    {
      "cell_type": "code",
      "metadata": {
        "id": "oLgVy1i9zZiA",
        "colab_type": "code",
        "colab": {}
      },
      "source": [
        "BATCH_SIZE         = 150\n",
        "N_EPOCH            = 200\n",
        "\n",
        "learning_rate      = 0.00005\n",
        "dnoise_alpha       = 0.001\n",
        "gnoise_alpha       = 0.001\n",
        "N=50250\n",
        "NOISE_DIM = 100\n",
        "Ngen = 1\n",
        "Ndisc = 1\n",
        "EnergyDepositScale = 4000\n",
        "PXscale = 30\n",
        "PYscale = 30\n",
        "PZscale = 100\n",
        "PZoffset=10\n",
        "XPosscale = 10\n",
        "YPosscale = 10\n",
        "PDGscale = 11\n",
        "Nresblock = 5\n",
        "CONDITION_DIM=6\n",
        "IMAGE_DIM=30\n",
        "params={'batch_size' : BATCH_SIZE,\n",
        "        'data_size'  : N,\n",
        "        'epochs'     : N_EPOCH,\n",
        "        'energyscale': EnergyDepositScale,\n",
        "        'noise_dim'   : NOISE_DIM,\n",
        "        'learning_rate':learning_rate,\n",
        "        'dnoise_alpha':dnoise_alpha,\n",
        "        'gnoise_alpha':gnoise_alpha,\n",
        "        'Ngen':Ngen,\n",
        "        'Ndisc':Ndisc,\n",
        "        'PXscale':PXscale,\n",
        "        'PYscale':PYscale,\n",
        "        'PZscale':PZscale,\n",
        "        'XPosscale':XPosscale,\n",
        "        'YPosscale':YPosscale,\n",
        "        'Nresblock':Nresblock\n",
        "}\n",
        "experiment.log_parameters(params)"
      ],
      "execution_count": 0,
      "outputs": []
    },
    {
      "cell_type": "code",
      "metadata": {
        "id": "mLY8nIkZLn24",
        "colab_type": "code",
        "colab": {}
      },
      "source": [
        "from skorch import NeuralNetClassifier"
      ],
      "execution_count": 0,
      "outputs": []
    },
    {
      "cell_type": "code",
      "metadata": {
        "id": "790_h5rSmDLA",
        "colab_type": "code",
        "colab": {}
      },
      "source": [
        "import torch\n",
        "import torch.nn as nn\n",
        "import torch.nn.functional as F\n",
        "import torch.optim as optim\n",
        "import torch.utils.data as utils\n",
        "from torch.autograd import Variable\n",
        "from torchvision import datasets, transforms\n",
        "import numpy as np\n",
        "import math\n",
        "import matplotlib.pyplot as plt\n",
        "from tqdm import tqdm, tqdm_notebook\n",
        "import seaborn as sns\n",
        "from IPython.display import clear_output\n",
        "sns.set()\n",
        "\n",
        "def one_hot(a, num_classes):\n",
        "    return np.squeeze(np.eye(num_classes)[a.reshape(-1)])\n",
        "\n",
        "device = 'cuda' if torch.cuda.is_available() else 'cpu'"
      ],
      "execution_count": 0,
      "outputs": []
    },
    {
      "cell_type": "code",
      "metadata": {
        "id": "KW0lyRVGmDLC",
        "colab_type": "code",
        "outputId": "a2d8a0a6-50ff-47bd-993c-0671ec7e9507",
        "colab": {
          "base_uri": "https://localhost:8080/",
          "height": 34
        }
      },
      "source": [
        "device"
      ],
      "execution_count": 0,
      "outputs": [
        {
          "output_type": "execute_result",
          "data": {
            "text/plain": [
              "'cuda'"
            ]
          },
          "metadata": {
            "tags": []
          },
          "execution_count": 8
        }
      ]
    },
    {
      "cell_type": "code",
      "metadata": {
        "id": "giyM_o8bmDLI",
        "colab_type": "code",
        "outputId": "ae1a9c57-b65e-4fa6-bc0c-b890cf4aeb2f",
        "colab": {
          "base_uri": "https://localhost:8080/",
          "height": 54
        }
      },
      "source": [
        "from google.colab import drive\n",
        "drive.mount('/gdrive')"
      ],
      "execution_count": 0,
      "outputs": [
        {
          "output_type": "stream",
          "text": [
            "Drive already mounted at /gdrive; to attempt to forcibly remount, call drive.mount(\"/gdrive\", force_remount=True).\n"
          ],
          "name": "stdout"
        }
      ]
    },
    {
      "cell_type": "markdown",
      "metadata": {
        "id": "QJbcY6IwmDLK",
        "colab_type": "text"
      },
      "source": [
        "## Data pathes"
      ]
    },
    {
      "cell_type": "code",
      "metadata": {
        "id": "-5muy7MJmDLK",
        "colab_type": "code",
        "colab": {}
      },
      "source": [
        "train_data_path = '/gdrive/My Drive/mlhep2019_gan/data_train.npz'\n",
        "val_data_path = '/gdrive/My Drive/mlhep2019_gan/data_val.npz'\n",
        "test_data_path = '/gdrive/My Drive/mlhep2019_gan/data_test.npz'\n",
        "\n",
        "# train_data_path = '../data_train.npz'\n",
        "# val_data_path = '../data_val.npz'\n",
        "# test_data_path = '../data_test.npz'"
      ],
      "execution_count": 0,
      "outputs": []
    },
    {
      "cell_type": "markdown",
      "metadata": {
        "id": "JqklR3OHmDLM",
        "colab_type": "text"
      },
      "source": [
        "# Loading data\n",
        "\n",
        "Data is stored in `.npz`-format which is a special filetype for persisting multiple NumPy arrays on disk. \n",
        "\n",
        "More info: https://docs.scipy.org/doc/numpy/reference/generated/numpy.lib.format.html#module-numpy.lib.format.\n",
        "\n",
        "File `dat_train.npz` contains four arrays: \n",
        "\n",
        "  * `EnergyDeposit` - images of calorimeters responses\n",
        "  * `ParticleMomentum` - $p_x, p_y, p_z$ of initial partice\n",
        "  * `ParticlePoint` - $x, y$ of initial particle\n",
        "  * `ParticlePDG` - particle type(either $e^-$ or $\\gamma$)"
      ]
    },
    {
      "cell_type": "code",
      "metadata": {
        "id": "NHExMR7Bwf8g",
        "colab_type": "code",
        "outputId": "c09ad31e-c5c7-4bc4-a53b-b1d20b42ca68",
        "colab": {
          "base_uri": "https://localhost:8080/",
          "height": 34
        }
      },
      "source": [
        "EnergyDepositScale = torch.tensor([EnergyDepositScale]).float().to(device)\n",
        "MomentumScale      = torch.tensor([PXscale,PYscale,PZscale]).float().to(device)\n",
        "PointScale         = torch.tensor([XPosscale,YPosscale]).float().to(device)\n",
        "ParticlePDGScale   = torch.tensor([PDGscale]).float().to(device)\n",
        "MomentumPointPDGScale = torch.cat([MomentumScale,PointScale,ParticlePDGScale])\n",
        "print(MomentumPointPDGScale.shape)"
      ],
      "execution_count": 0,
      "outputs": [
        {
          "output_type": "stream",
          "text": [
            "torch.Size([6])\n"
          ],
          "name": "stdout"
        }
      ]
    },
    {
      "cell_type": "code",
      "metadata": {
        "id": "DcLIRNvMmDLN",
        "colab_type": "code",
        "outputId": "6c61ccc8-c520-44c8-cbbf-7191ba4de504",
        "colab": {
          "base_uri": "https://localhost:8080/",
          "height": 34
        }
      },
      "source": [
        "# N = 1000\n",
        "\n",
        "data_train = np.load(train_data_path, allow_pickle=True)\n",
        "print(list(data_train.keys()))\n",
        "# N = len(data_train)\n",
        "\n",
        "# N=1500\n",
        "# [data_size, 900]\n",
        "EnergyDeposit = data_train['EnergyDeposit'][:N]\n",
        "# reshaping it as [data_size, channels, img_size_x, img_size_y]\n",
        "# channels are needed for pytorch conv2d-layers\n",
        "EnergyDeposit = EnergyDeposit.reshape(-1,1,30,30)\n",
        "# EnergyDeposit = EnergyDeposit/EnergyDepositScale\n",
        "\n",
        "# [data_size, 3]\n",
        "# ParticleMomentumScale = [PXscale,PYscale,PZscale]\n",
        "ParticleMomentum = data_train['ParticleMomentum'][:N]\n",
        "# ParticleMomentum = np.divide(ParticleMomentum,ParticleMomentumScale) \n",
        "\n",
        "# [data_size, 2]\n",
        "# ParticlePointScale = [XPosscale,YPosscale]\n",
        "ParticlePoint = data_train['ParticlePoint'][:, :2][:N]\n",
        "# ParticlePoint = np.divide(ParticlePoint,ParticlePointScale)\n",
        "\n",
        "# [data_size, 1]\n",
        "ParticlePDG = data_train['ParticlePDG'][:N]"
      ],
      "execution_count": 0,
      "outputs": [
        {
          "output_type": "stream",
          "text": [
            "['EnergyDeposit', 'ParticlePoint', 'ParticleMomentum', 'ParticlePDG']\n"
          ],
          "name": "stdout"
        }
      ]
    },
    {
      "cell_type": "code",
      "metadata": {
        "id": "Qz8A_3Znvyu9",
        "colab_type": "code",
        "outputId": "22450372-1703-41a2-fa5c-8e139b2e83c3",
        "colab": {
          "base_uri": "https://localhost:8080/",
          "height": 290
        }
      },
      "source": [
        "print(EnergyDeposit.shape)\n",
        "EnergyDeposit_1d = EnergyDeposit.reshape(-1,900).mean(axis=1)\n",
        "plt.hist(EnergyDeposit_1d)\n",
        "plt.show()"
      ],
      "execution_count": 0,
      "outputs": [
        {
          "output_type": "stream",
          "text": [
            "(50250, 1, 30, 30)\n"
          ],
          "name": "stdout"
        },
        {
          "output_type": "display_data",
          "data": {
            "image/png": "[encoded data removed]",
            "text/plain": [
              "<Figure size 432x288 with 1 Axes>"
            ]
          },
          "metadata": {
            "tags": []
          }
        }
      ]
    },
    {
      "cell_type": "code",
      "metadata": {
        "id": "p85ufIdJFrn8",
        "colab_type": "code",
        "colab": {}
      },
      "source": [
        "# print(EnergyDeposit.shape)\n",
        "# EnergyDeposit_1d = EnergyDeposit.reshape(-1,900).sum(axis=1)\n",
        "# plt.hist(ParticleMomentum[:,2])\n",
        "# plt.hist(ParticlePoint[:,0])\n",
        "# plt.show()"
      ],
      "execution_count": 0,
      "outputs": []
    },
    {
      "cell_type": "markdown",
      "metadata": {
        "id": "ExAROHySmDLP",
        "colab_type": "text"
      },
      "source": [
        "## Load it to pytorch `DataLoader`"
      ]
    },
    {
      "cell_type": "code",
      "metadata": {
        "id": "XtEr15sdmDLQ",
        "colab_type": "code",
        "colab": {}
      },
      "source": [
        "EnergyDeposit    = torch.tensor(EnergyDeposit).float()\n",
        "ParticleMomentum = torch.tensor(ParticleMomentum).float()\n",
        "ParticlePoint    = torch.tensor(ParticlePoint).float()\n",
        "ParticlePDG      = torch.tensor(ParticlePDG).float()\n",
        "# EnergyDeposit    = transforms.functional.normalize(EnergyDeposit,mean= (0.5,), std= (0.5,))\n",
        "# ParticleMomentum = transforms.functional.normalize(ParticleMomentum,mean= (0.5,), std= (0.5,))\n",
        "# ParticlePoint    = transforms.functional.normalize(ParticlePoint,mean= (0.5,), std= (0.5,))\n",
        "\n",
        "calo_dataset = utils.TensorDataset(EnergyDeposit, ParticleMomentum, ParticlePoint, ParticlePDG)\n",
        "calo_dataloader = torch.utils.data.DataLoader(calo_dataset, batch_size=BATCH_SIZE, pin_memory=True, shuffle=True)"
      ],
      "execution_count": 0,
      "outputs": []
    },
    {
      "cell_type": "code",
      "metadata": {
        "id": "crC_kDGkmDLR",
        "colab_type": "code",
        "colab": {}
      },
      "source": [
        "for EnergyDeposit_b, ParticleMomentum_b, ParticlePoint_b, ParticlePDG_b in calo_dataloader:\n",
        "    break"
      ],
      "execution_count": 0,
      "outputs": []
    },
    {
      "cell_type": "markdown",
      "metadata": {
        "id": "inm6pj7DmDLU",
        "colab_type": "text"
      },
      "source": [
        "## Training GAN\n",
        "###### ...is not a simple matter\n",
        "\n",
        "It depends on architecture, loss, instance noise, augmentation and even luck(recommend to take a look https://arxiv.org/pdf/1801.04406.pdf)\n",
        "\n",
        "\n",
        "In this notebook I have prepared some basic parts that you could use for your experiments."
      ]
    },
    {
      "cell_type": "code",
      "metadata": {
        "id": "uU8Gxli9mDLV",
        "colab_type": "code",
        "colab": {}
      },
      "source": [
        "TASKS = ['KL', 'REVERSED_KL', 'WASSERSTEIN', 'BAYESIAN']\n",
        "\n",
        "TASK = 'BAYESIAN'\n",
        "# TASK = 'WASSERSTEIN'"
      ],
      "execution_count": 0,
      "outputs": []
    },
    {
      "cell_type": "markdown",
      "metadata": {
        "id": "NNKTOTNkmDLb",
        "colab_type": "text"
      },
      "source": [
        "#### Small hack that can speed-up training and improve generalization"
      ]
    },
    {
      "cell_type": "code",
      "metadata": {
        "id": "OKv7lRsG01Px",
        "colab_type": "code",
        "colab": {}
      },
      "source": [
        "INSTANCE_NOISE = True\n",
        "\n",
        "def add_instance_noise(data, std=0.01):\n",
        "    return data + torch.distributions.Normal(0, std).sample(data.shape).to(device)"
      ],
      "execution_count": 0,
      "outputs": []
    },
    {
      "cell_type": "code",
      "metadata": {
        "id": "wOhNZ2IDxK-L",
        "colab_type": "code",
        "colab": {}
      },
      "source": [
        "def LabelToImages(row,col,MomentumPoint):\n",
        "    images = np.zeros((BATCH_SIZE,CONDITION_DIM,row,col))\n",
        "    for image,mp in zip(images,MomentumPoint):\n",
        "#         print(label.shape)\n",
        "#         for cond in range(CONDITION_DIM):\n",
        "        for i in range(CONDITION_DIM):\n",
        "            image[i,:,:]+=mp[i].cpu().numpy()\n",
        "#         print(image)\n",
        "    return torch.Tensor(images)"
      ],
      "execution_count": 0,
      "outputs": []
    },
    {
      "cell_type": "code",
      "metadata": {
        "id": "bWQqgdmQ2QDV",
        "colab_type": "code",
        "colab": {}
      },
      "source": [
        "class NoiseLoss(torch.nn.Module):\n",
        "  # need the scale for noise standard deviation\n",
        "  # scale = noise  std\n",
        "    def __init__(self, params, noise_std, observed=None):\n",
        "        super(NoiseLoss, self).__init__()\n",
        "        self.observed = observed\n",
        "        self.noise_std = noise_std\n",
        "\n",
        "    def forward(self, params,  observed=None):\n",
        "    # scale should be sqrt(2*alpha/eta)\n",
        "    # where eta is the learning rate and alpha is the strength of drag term\n",
        "        if observed is None:\n",
        "            observed = self.observed\n",
        "\n",
        "#         assert scale is not None, \"Please provide scale\"\n",
        "        noise_loss = 0.0\n",
        "        for var in params:\n",
        "            # This is scale * z^T*v\n",
        "            # The derivative wrt v will become scale*z\n",
        "#             _noise = noise.normal_(0.,self.noise_std)\n",
        "            _noise = self.noise_std*torch.randn(1)\n",
        "            noise_loss += torch.sum(Variable(_noise.to(device))*var)\n",
        "        noise_loss /= observed\n",
        "        return noise_loss\n",
        "\n",
        "class PriorLoss(torch.nn.Module):\n",
        "  # negative log Gaussian prior\n",
        "    def __init__(self, prior_std=1., observed=None):\n",
        "        super(PriorLoss, self).__init__()\n",
        "        self.observed = observed\n",
        "        self.prior_std = prior_std\n",
        "\n",
        "    def forward(self, params, observed=None):\n",
        "        if observed is None:\n",
        "            observed = self.observed\n",
        "        prior_loss = 0.0\n",
        "        for var in params:\n",
        "            prior_loss += torch.sum(var*var/(self.prior_std*self.prior_std))\n",
        "        prior_loss /= observed\n",
        "        return prior_loss"
      ],
      "execution_count": 0,
      "outputs": []
    },
    {
      "cell_type": "code",
      "metadata": {
        "id": "UA5ResSp2WXb",
        "colab_type": "code",
        "colab": {}
      },
      "source": [
        "# criterion = nn.CrossEntropyLoss()\n",
        "criterion = nn.BCELoss()\n",
        "# use the default index = 0 - equivalent to summing all other probabilities\n",
        "# criterion_comp = ComplementCrossEntropyLoss(except_index=0)"
      ],
      "execution_count": 0,
      "outputs": []
    },
    {
      "cell_type": "code",
      "metadata": {
        "id": "x2KWr_7ciW54",
        "colab_type": "code",
        "outputId": "c08d4feb-1867-4a77-b2aa-ec396f244241",
        "colab": {
          "base_uri": "https://localhost:8080/",
          "height": 34
        }
      },
      "source": [
        "sample_real = torch.zeros(10,1)\n",
        "label_fake = torch.ones(10,1)\n",
        "print(criterion(sample_real,label_fake).item())"
      ],
      "execution_count": 0,
      "outputs": [
        {
          "output_type": "stream",
          "text": [
            "27.631023406982422\n"
          ],
          "name": "stdout"
        }
      ]
    },
    {
      "cell_type": "markdown",
      "metadata": {
        "id": "KT8YWKN5mDLg",
        "colab_type": "text"
      },
      "source": [
        "## Defining discriminator"
      ]
    },
    {
      "cell_type": "code",
      "metadata": {
        "id": "BtF8RqlxCR0e",
        "colab_type": "code",
        "colab": {}
      },
      "source": [
        "def normal_init(m, mean, std):\n",
        "    if isinstance(m, (nn.Linear, nn.Conv2d, nn.BatchNorm2d, nn.BatchNorm1d)):\n",
        "        m.weight.data.normal_(mean, std)\n",
        "        if m.bias.data is not None:\n",
        "            m.bias.data.zero_()"
      ],
      "execution_count": 0,
      "outputs": []
    },
    {
      "cell_type": "code",
      "metadata": {
        "id": "TrHzXEggAwPl",
        "colab_type": "code",
        "colab": {}
      },
      "source": [
        "class ReducedConv(nn.Module):\n",
        "    def __init__(self,input_size,output_size, input_dim, output_dim,kernel_size):\n",
        "        super(ReducedConv, self).__init__()\n",
        "        eps = 1e-3\n",
        "        scale = float(output_dim+kernel_size-3+eps)/float(input_dim)\n",
        "        self.ups = nn.Upsample(scale_factor = scale,mode = 'bilinear',align_corners=False )\n",
        "        self.ref = nn.ReflectionPad2d(1)\n",
        "        self.conv = nn.Conv2d(input_size,output_size,kernel_size)\n",
        "    def forward(self,x):\n",
        "        return self.conv(self.ref(self.ups(x)))\n",
        "#         return self.ref(self.ups(x))"
      ],
      "execution_count": 0,
      "outputs": []
    },
    {
      "cell_type": "code",
      "metadata": {
        "id": "bbpW5fVPAxSU",
        "colab_type": "code",
        "colab": {}
      },
      "source": [
        "class ResidualBlock(nn.Module):\n",
        "    def __init__(self,input_size):\n",
        "        super(ResidualBlock, self).__init__()        \n",
        "        self.conv1 = nn.Conv2d(input_size,input_size,3,padding=1)\n",
        "        self.conv2 = nn.Conv2d(input_size,input_size,3,padding=1)\n",
        "        self.bn1 = nn.BatchNorm2d(self.conv1.out_channels)\n",
        "        self.bn2 = nn.BatchNorm2d(self.conv2.out_channels)        \n",
        "    def forward(self,xraw):\n",
        "        x = F.leaky_relu(self.bn1(self.conv1(xraw)))\n",
        "        x = F.leaky_relu(self.bn2(self.conv2(x))+xraw)\n",
        "        return x"
      ],
      "execution_count": 0,
      "outputs": []
    },
    {
      "cell_type": "code",
      "metadata": {
        "id": "Skiem1EXmDLg",
        "colab_type": "code",
        "colab": {}
      },
      "source": [
        "class ModelD(nn.Module):\n",
        "    def __init__(self):\n",
        "        super(ModelD, self).__init__()\n",
        "        self.conv1 = nn.Conv2d(1+CONDITION_DIM, 16, 4, stride=2)#30->14\n",
        "        self.bn1 = nn.BatchNorm2d(16)\n",
        "        self.dropout = nn.Dropout(p=0.2)\n",
        "        self.conv2 = nn.Conv2d(16, 32, 4)##14->11\n",
        "        self.bn2 = nn.BatchNorm2d(32)\n",
        "        self.conv3 = nn.Conv2d(32, 64, 4)##11->8\n",
        "        self.bn3 = nn.BatchNorm2d(64)        \n",
        "        self.conv4 = nn.Conv2d(64, 128, 3)##8->6\n",
        "        self.bn4 = nn.BatchNorm2d(128)\n",
        "        self.conv5 = nn.Conv2d(128, 1, 6)##6->4\n",
        "        self.bn5 = nn.BatchNorm2d(256)\n",
        "        self.resblock = ResidualBlock(128)\n",
        "        \n",
        "        # size\n",
        "        self.fc1 = nn.Linear(256*4*4, 1) \n",
        "#         self.fc2 = nn.Linear(1024, 512)         \n",
        "#         self.fc3 = nn.Linear(512, 128)\n",
        "#         self.fc4 = nn.Linear(128, 64)\n",
        "#         self.fc5 = nn.Linear(64, 1)\n",
        "        \n",
        "        self.bn_fc1 = nn.BatchNorm1d(1024)\n",
        "        self.bn_fc2 = nn.BatchNorm1d(512)\n",
        "        self.bn_fc3 = nn.BatchNorm1d(128)\n",
        "        self.bn_fc4 = nn.BatchNorm1d(64)        \n",
        "        \n",
        "    def forward(self, EnergyDeposit, ParticleMomentum_ParticlePoint_ParticlePDG):\n",
        "#         EnergyDeposit = NormalizeImage(EnergyDeposit_raw)\n",
        "        EnergyDeposit = EnergyDeposit/EnergyDepositScale\n",
        "        ParticleMomentum_ParticlePoint_ParticlePDG = torch.div(ParticleMomentum_ParticlePoint_ParticlePDG,MomentumPointPDGScale)\n",
        "        LabelImages = LabelToImages(IMAGE_DIM,IMAGE_DIM,ParticleMomentum_ParticlePoint_ParticlePDG)\n",
        "        EnergyDeposit = torch.cat([EnergyDeposit,LabelImages.cuda()],dim=1)\n",
        "        EnergyDeposit = F.leaky_relu(self.conv1(EnergyDeposit))\n",
        "        EnergyDeposut = self.dropout(EnergyDeposit)        \n",
        "        EnergyDeposit = F.leaky_relu(self.bn2(self.conv2(EnergyDeposit)))\n",
        "        EnergyDeposut = self.dropout(EnergyDeposit)\n",
        "        EnergyDeposit = F.leaky_relu(self.bn3(self.conv3(EnergyDeposit)))\n",
        "        EnergyDeposut = self.dropout(EnergyDeposit)\n",
        "        EnergyDeposit = F.leaky_relu(self.bn4(self.conv4(EnergyDeposit)))\n",
        "        EnergyDeposut = self.dropout(EnergyDeposit)\n",
        "        # for ires in range(Nresblock):\n",
        "        #     EnergyDeposit = self.dropout(self.resblock(EnergyDeposit))\n",
        "        EnergyDeposit = self.conv5(EnergyDeposit) # 32, 9, 9\n",
        "        EnergyDeposit = EnergyDeposit.view(EnergyDeposit.shape[0], -1)\n",
        "\n",
        "        return torch.sigmoid(EnergyDeposit)\n",
        "#         else:\n",
        "#         return torch.sigmoid(self.fc5(t))\n",
        "    def weight_init(self, mean, std):\n",
        "            for m in self._modules:\n",
        "                normal_init(self._modules[m], mean, std)\n"
      ],
      "execution_count": 0,
      "outputs": []
    },
    {
      "cell_type": "markdown",
      "metadata": {
        "id": "F4_WffK-mDLi",
        "colab_type": "text"
      },
      "source": [
        "## Defining generator"
      ]
    },
    {
      "cell_type": "code",
      "metadata": {
        "id": "15gNgQ-ymDLj",
        "colab_type": "code",
        "colab": {}
      },
      "source": [
        "class ModelGConvTranspose(nn.Module):\n",
        "    def __init__(self, z_dim):\n",
        "        self.z_dim = z_dim\n",
        "        super(ModelGConvTranspose, self).__init__()\n",
        "        self.fc1 = nn.Linear(self.z_dim + CONDITION_DIM, 256*4*4)\n",
        "        self.resblock = ResidualBlock(16)\n",
        "        self.resconv1 = ReducedConv(256,128,4,10,3)\n",
        "        self.bn1 = nn.BatchNorm2d(128)\n",
        "        self.resconv2 = ReducedConv(128,64,10,14,3)\n",
        "        self.bn2 = nn.BatchNorm2d(64)\n",
        "        self.resconv3 = ReducedConv(64,32,14,18,3)\n",
        "        self.bn3 = nn.BatchNorm2d(32)\n",
        "        self.resconv4 = ReducedConv(32,16,18,22,3)\n",
        "        self.bn4 = nn.BatchNorm2d(16)        \n",
        "        self.resconv5 = ReducedConv(16,8,22,26,3)\n",
        "        self.bn5 = nn.BatchNorm2d(8)        \n",
        "        self.resconv6 = ReducedConv(8,1,26,30,3)\n",
        "        self.dropout = nn.Dropout(p=0.2)\n",
        "        self.finout = nn.Tanh()\n",
        "        \n",
        "    def forward(self, z, ParticleMomentum_ParticlePoint_ParticlePDG):\n",
        "#         ParticleMomentum_ParticlePoint = NormalizeMomentumPoint(ParticleMomentum_ParticlePoint)\n",
        "        ParticleMomentum_ParticlePoint_ParticlePDG = torch.div(ParticleMomentum_ParticlePoint_ParticlePDG,MomentumPointPDGScale)\n",
        "        x = F.leaky_relu(self.fc1(\n",
        "            torch.cat([z, ParticleMomentum_ParticlePoint_ParticlePDG], dim=1)\n",
        "        ))\n",
        "#         x = F.leaky_relu(self.fc2(x))\n",
        "#         x = F.leaky_relu(self.fc3(x))\n",
        "#         x = F.leaky_relu(self.fc4(x))\n",
        "        \n",
        "        EnergyDeposit = x.view(-1, 256, 4, 4)\n",
        "        \n",
        "        EnergyDeposit = F.relu(self.bn1(self.resconv1(EnergyDeposit)))\n",
        "        EnergyDeposit = F.relu(self.bn2(self.resconv2(EnergyDeposit)))\n",
        "        EnergyDeposit = F.relu(self.bn3(self.resconv3(EnergyDeposit)))\n",
        "        EnergyDeposit = F.relu(self.bn4(self.resconv4(EnergyDeposit)))\n",
        "        EnergyDeposit = F.leaky_relu(self.bn5(self.resconv5(EnergyDeposit)))\n",
        "#         for i in range(Nresblock):\n",
        "#             EnergyDeposit = self.resblock(EnergyDeposit)\n",
        "\n",
        "        EnergyDeposit = self.resconv6(EnergyDeposit)\n",
        "        EnergyDeposit = torch.tanh(EnergyDeposit)\n",
        "        EnergyDeposit = EnergyDeposit*EnergyDepositScale\n",
        "#         EnergyDeposit = RescaleImage(EnergyDeposit)\n",
        "\n",
        "        return EnergyDeposit\n",
        "\n",
        "    def weight_init(self, mean, std):\n",
        "            for m in self._modules:\n",
        "                normal_init(self._modules[m], mean, std)"
      ],
      "execution_count": 0,
      "outputs": []
    },
    {
      "cell_type": "markdown",
      "metadata": {
        "id": "ys1Z545TmDLl",
        "colab_type": "text"
      },
      "source": [
        "## Check our models on one batch "
      ]
    },
    {
      "cell_type": "code",
      "metadata": {
        "id": "Oe748y6nmDLl",
        "colab_type": "code",
        "colab": {}
      },
      "source": [
        "\n",
        "gens = []\n",
        "discs = []\n",
        "\n",
        "gen = ModelGConvTranspose(z_dim=NOISE_DIM).to(device)\n",
        "disc = ModelD().to(device)\n",
        "\n",
        "gen.weight_init(mean=0.0, std=0.02)\n",
        "disc.weight_init(mean=0.0, std=0.02)"
      ],
      "execution_count": 0,
      "outputs": []
    },
    {
      "cell_type": "code",
      "metadata": {
        "id": "NUk-rAs1mDLn",
        "colab_type": "code",
        "colab": {}
      },
      "source": [
        "# EnergyDeposit_b, ParticleMomentum_b, ParticlePoint_b = EnergyDeposit_b.to(device), \\\n",
        "#                                                        ParticleMomentum_b.to(device), \\\n",
        "#                                                        ParticlePoint_b.to(device)\n",
        "# ParticleMomentum_ParticlePoint_b = torch.cat([ParticleMomentum_b.to(device), ParticlePoint_b.to(device)], dim=1)"
      ],
      "execution_count": 0,
      "outputs": []
    },
    {
      "cell_type": "code",
      "metadata": {
        "id": "OxV-qa2YmDLq",
        "colab_type": "code",
        "colab": {}
      },
      "source": [
        "# EnergyDeposit_b.shape"
      ],
      "execution_count": 0,
      "outputs": []
    },
    {
      "cell_type": "code",
      "metadata": {
        "id": "jcrCO7wRmDLv",
        "colab_type": "code",
        "colab": {}
      },
      "source": [
        "# disc(EnergyDeposit_b, ParticleMomentum_ParticlePoint_b).shape"
      ],
      "execution_count": 0,
      "outputs": []
    },
    {
      "cell_type": "code",
      "metadata": {
        "id": "BxagWRP6mDLx",
        "colab_type": "code",
        "colab": {}
      },
      "source": [
        "# noise = torch.randn(len(EnergyDeposit_b), NOISE_DIM).to(device)\n",
        "# gen(noise, ParticleMomentum_ParticlePoint_b).shape"
      ],
      "execution_count": 0,
      "outputs": []
    },
    {
      "cell_type": "code",
      "metadata": {
        "id": "qgnGKjGF4MPB",
        "colab_type": "code",
        "colab": {}
      },
      "source": [
        "gprior_criterion = PriorLoss(prior_std=1., observed=N)\n",
        "gnoise_criterion = NoiseLoss(params=gen.parameters(), noise_std=math.sqrt(2 * gnoise_alpha * learning_rate), observed=N)\n",
        "dprior_criterion = PriorLoss(prior_std=1., observed=N)\n",
        "dnoise_criterion = NoiseLoss(params=disc.parameters(), noise_std=math.sqrt(2 * dnoise_alpha * learning_rate), observed=N)"
      ],
      "execution_count": 0,
      "outputs": []
    },
    {
      "cell_type": "markdown",
      "metadata": {
        "id": "cCaPksu4mDLz",
        "colab_type": "text"
      },
      "source": [
        "## Defining optimiser"
      ]
    },
    {
      "cell_type": "code",
      "metadata": {
        "id": "BXVckXSZmDL0",
        "colab_type": "code",
        "colab": {}
      },
      "source": [
        "# learning_rate_dis = 1e-5\n",
        "# learning_rate_gen = 1e-5\n",
        "# gens_opt = []\n",
        "# for gen in gens:\n",
        "gen_opt = optim.Adam(gen.parameters(), lr=learning_rate, betas=(0.5, 0.999))\n",
        "#     gens_opt.append(gen_opt)\n",
        "# gen_opt = optim.Adam(gen.parameters(), lr=learning_rate, weight_decay=1e-6)\n",
        "# g_optimizer = optim.RMSprop(discriminator.parameters(), lr=learning_rate_dis, weight_decay=1e-6)\n",
        "# d_optimizer = optim.SGD(discriminator.parameters(), lr=learning_rate_dis, weight_decay=1e-6)\n",
        "# d_optimizer = optim.RMSprop(discriminator.parameters(), lr=learning_rate_dis, weight_decay=1e-6)\n",
        "# discs_opt = []\n",
        "# for disc in discs:\n",
        "disc_opt = optim.Adam(disc.parameters(), lr=learning_rate, betas=(0.5, 0.999))\n",
        "# disc_opt = optim.SGD(disc.parameters(), lr=learning_rate)\n",
        "#     discs_opt.append(disc_opt)"
      ],
      "execution_count": 0,
      "outputs": []
    },
    {
      "cell_type": "markdown",
      "metadata": {
        "id": "FpBbUF9DmDL2",
        "colab_type": "text"
      },
      "source": [
        "## Load scores"
      ]
    },
    {
      "cell_type": "code",
      "metadata": {
        "id": "m9v-IZO8mDL3",
        "colab_type": "code",
        "colab": {}
      },
      "source": [
        "from prd_score import compute_prd, compute_prd_from_embedding, _prd_to_f_beta\n",
        "from sklearn.metrics import auc"
      ],
      "execution_count": 0,
      "outputs": []
    },
    {
      "cell_type": "code",
      "metadata": {
        "id": "jumtrlNo2Gq7",
        "colab_type": "code",
        "colab": {}
      },
      "source": [
        "def D_train(EnergyDeposit_b,ParticleMomentum_ParticlePoint_ParticlePDG_b):\n",
        "    #=======================Train the discriminator=======================#\n",
        "    disc_opt.zero_grad()\n",
        "    # ParticleMomentum_ParticlePoint_b = torch.cat([ParticleMomentum_b.to(device), ParticlePoint_b.to(device)], dim=1)\n",
        "    noise = torch.randn(len(EnergyDeposit_b), NOISE_DIM).to(device)\n",
        "    EnergyDeposit_gen = gen(noise, ParticleMomentum_ParticlePoint_ParticlePDG_b)\n",
        "\n",
        "    if INSTANCE_NOISE:\n",
        "        EnergyDeposit_b   = add_instance_noise(EnergyDeposit_b)\n",
        "        EnergyDeposit_gen = add_instance_noise(EnergyDeposit_gen)\n",
        "    output_real = disc(EnergyDeposit_b,ParticleMomentum_ParticlePoint_ParticlePDG_b)\n",
        "    \n",
        "#     labelv_real = Variable(.to(device))\n",
        "#     real_label_noise = 0.1\n",
        "    # labelv_real = Variable(torch.add(torch.ones(BATCH_SIZE, 1),real_label_noise,torch.rand(BATCH_SIZE, 1)).to(device))\n",
        "    # labelv_real = Variable(torch.ones(len(EnergyDeposit_b), 1).to(device))\n",
        "    labelv_real = Variable(0.9+0.1*torch.rand(len(EnergyDeposit_b), 1).to(device))\n",
        "#     print(labelv_real)\n",
        "    disc_real = criterion(output_real,labelv_real)\n",
        "    disc_real.backward()\n",
        "    output_fake = disc(EnergyDeposit_gen.detach(),ParticleMomentum_ParticlePoint_ParticlePDG_b)\n",
        "#     fake_label_noise = 0.1\n",
        "#     labelv_fake = Variable(torch.add(torch.zeros(BATCH_SIZE, 1),fake_label_noise,torch.rand(BATCH_SIZE, 1)).to(device))\n",
        "    # labelv_fake = Variable(torch.zeros(len(EnergyDeposit_b), 1).to(device))\n",
        "    labelv_fake = Variable(0.1*torch.rand(len(EnergyDeposit_b), 1).to(device)) \n",
        "#     print(labelv_fake)\n",
        "    disc_fake = criterion(output_fake, labelv_fake)\n",
        "    disc_fake.backward()\n",
        "\n",
        "    disc_prior = dprior_criterion(disc.parameters())\n",
        "    disc_prior.backward()\n",
        "    disc_noise = dnoise_criterion(disc.parameters())\n",
        "    disc_noise.backward()\n",
        "    disc_loss = disc_real + disc_fake + disc_prior + disc_noise\n",
        "#                 disc_loss = disc_real + disc_fake\n",
        "#     disc_loss.backward()\n",
        "    disc_opt.step()\n",
        "        \n",
        "    return  disc_loss.data.item(), disc_real.data.item(),disc_fake.data.item(),disc_prior.data.item(),disc_noise.data.item()"
      ],
      "execution_count": 0,
      "outputs": []
    },
    {
      "cell_type": "code",
      "metadata": {
        "id": "oHv4ORXp5BpP",
        "colab_type": "code",
        "colab": {}
      },
      "source": [
        "def G_train(EnergyDeposit_b,ParticleMomentum_ParticlePoint_ParticlePDG_b):\n",
        "    #=======================Train the generator=======================#\n",
        "    gen_opt.zero_grad()\n",
        "    # ParticleMomentum_ParticlePoint_b = torch.cat([ParticleMomentum_b.to(device), ParticlePoint_b.to(device)], dim=1)\n",
        "    noise = torch.randn(len(EnergyDeposit_b), NOISE_DIM).to(device)\n",
        "    EnergyDeposit_gen = gen(noise, ParticleMomentum_ParticlePoint_ParticlePDG_b)\n",
        "    if INSTANCE_NOISE:\n",
        "        EnergyDeposit_b   = add_instance_noise(EnergyDeposit_b)\n",
        "        EnergyDeposit_gen = add_instance_noise(EnergyDeposit_gen)\n",
        "    output = disc(EnergyDeposit_gen,ParticleMomentum_ParticlePoint_ParticlePDG_b)\n",
        "    labelv_real = Variable(torch.ones(BATCH_SIZE, 1).to(device))\n",
        "    gen_real = criterion(output,labelv_real)\n",
        "    gen_real.backward()\n",
        "    gen_prior = gprior_criterion(gen.parameters())\n",
        "    gen_prior.backward()\n",
        "    gen_noise = gnoise_criterion(gen.parameters())    \n",
        "    gen_noise.backward()    \n",
        "    gen_loss = gen_real+gen_prior+gen_noise\n",
        "#     gen_loss.backward()\n",
        "    gen_opt.step()\n",
        "        \n",
        "    return gen_loss.data.item(),gen_real.data.item(),gen_prior.data.item(),gen_noise.data.item()"
      ],
      "execution_count": 0,
      "outputs": []
    },
    {
      "cell_type": "code",
      "metadata": {
        "id": "c18oWujomDL6",
        "colab_type": "code",
        "colab": {}
      },
      "source": [
        "\n",
        "def run_training(epochs):\n",
        "    ibatch = 0\n",
        "    dis_epoch_loss = []\n",
        "    gen_epoch_loss = []\n",
        "    predictions_dis = []\n",
        "    predictions_gen = []\n",
        "    TotalEnergyDeposit_dis = []\n",
        "    TotalEnergyDeposit_gen = []    \n",
        "    prd_auc = []  \n",
        "    for epoch in tqdm(range(epochs)):\n",
        "        first = True\n",
        "        \n",
        "        for EnergyDeposit_b, ParticleMomentum_b, ParticlePoint_b, ParticlePDG_b in calo_dataloader:\n",
        "            EnergyDeposit_b, ParticleMomentum_b, ParticlePoint_b, ParticlePDG_b = EnergyDeposit_b.to(device), \\\n",
        "                                                                   ParticleMomentum_b.to(device), \\\n",
        "                                                                   ParticlePoint_b.to(device), \\\n",
        "                                                                   ParticlePDG_b.to(device)\n",
        "\n",
        "            # print(ParticleMomentum_b.shape, ParticlePoint_b.shape,ParticlePDG_b.shape)\n",
        "            ParticlePDG_b = ParticlePDG_b.view(-1,1)\n",
        "            ParticleMomentum_ParticlePoint_ParticlePDG_b = torch.cat([ParticleMomentum_b, ParticlePoint_b,ParticlePDG_b], dim=1)\n",
        "            D_loss,D_real_loss,D_fake_loss,D_prior_loss,D_noise_loss = D_train(EnergyDeposit_b, ParticleMomentum_ParticlePoint_ParticlePDG_b)\n",
        "            G_loss,G_real_loss,G_prior_loss,G_noise_loss             = G_train(EnergyDeposit_b, ParticleMomentum_ParticlePoint_ParticlePDG_b)\n",
        "#             dis_epoch_loss.append(D_loss)\n",
        "            experiment.log_metric(\"d_real\", D_real_loss,step=ibatch)\n",
        "            experiment.log_metric(\"d_fake\", D_fake_loss,step=ibatch)\n",
        "            experiment.log_metric(\"d_prior\", D_prior_loss,step=ibatch)\n",
        "            experiment.log_metric(\"d_noise\", D_noise_loss,step=ibatch)\n",
        "            experiment.log_metric(\"d_loss\", D_loss,step=ibatch)\n",
        "            experiment.log_metric(\"g_loss\", G_loss,step=ibatch)\n",
        "            experiment.log_metric(\"g_real_loss\", G_real_loss,step=ibatch)\n",
        "            experiment.log_metric(\"g_prior_loss\", G_prior_loss,step=ibatch)\n",
        "            experiment.log_metric(\"g_noise_loss\", G_noise_loss,step=ibatch)\n",
        "#             D_G_z1 = \n",
        "            noise = torch.randn(len(EnergyDeposit_b), NOISE_DIM).to(device)\n",
        "            EnergyDeposit_gen = gen(noise, ParticleMomentum_ParticlePoint_ParticlePDG_b)\n",
        "            predictions_dis.append(\n",
        "                list(disc(EnergyDeposit_b, ParticleMomentum_ParticlePoint_ParticlePDG_b).data[:, 0].detach().cpu().numpy().ravel())\n",
        "            )\n",
        "\n",
        "            predictions_gen.append(\n",
        "                list(disc(EnergyDeposit_gen, ParticleMomentum_ParticlePoint_ParticlePDG_b).data[:, 0].detach().cpu().numpy().ravel())\n",
        "            )\n",
        "            \n",
        "#             TotalEnergyDeposit_dis.append(\n",
        "#                 list(EnergyDeposit_b.sum(dim=1))\n",
        "#             )\n",
        "            \n",
        "            if first:\n",
        "                precision, recall = compute_prd_from_embedding(\n",
        "                    EnergyDeposit_gen.detach().cpu().numpy().reshape(BATCH_SIZE, -1), \n",
        "                    EnergyDeposit_b.detach().cpu().numpy().reshape(BATCH_SIZE, -1),\n",
        "                    num_clusters=30,\n",
        "                    num_runs=100)\n",
        "                prd_auc_ = auc(precision, recall)\n",
        "                prd_auc.append(prd_auc_)\n",
        "                experiment.log_metric(\"PRD_AUC\", prd_auc_,step=epoch)                \n",
        "#             if first:\n",
        "                generator_cpu = ModelGConvTranspose(z_dim=NOISE_DIM)\n",
        "                generator_cpu.load_state_dict(gen.state_dict())\n",
        "#                 generator_cpu.eval()\n",
        "                torch.save(generator_cpu.state_dict(), './gan%d.pt'%(epoch))\n",
        "                first=False\n",
        "            ibatch += 1\n",
        "            clear_output()\n",
        "            if ibatch %100 ==0:\n",
        "                plt.figure(figsize=(15,12))\n",
        "                grid = plt.GridSpec(2, 3, wspace=0.4, hspace=0.3)\n",
        "                plt.subplot(grid[0,0])\n",
        "#                 plt.semilogy(dis_epoch_loss, label='dis_epoch_loss')\n",
        "#                 plt.semilogy(gen_epoch_loss, label='gen_epoch_loss')\n",
        "#                 plt.legend()\n",
        "\n",
        "                plt.subplot(grid[0,1])\n",
        "        #         plt.xlim(-1,2)\n",
        "                plt.hist(predictions_dis[-1], bins=40, label='dis_epoch_loss',color=\"blue\",range=[0,1])\n",
        "                plt.hist(predictions_gen[-1], bins=40, label='gen_epoch_loss',color=\"orange\",range=[0,1])\n",
        "                plt.legend()\n",
        "\n",
        "                plt.subplot(grid[0,2])\n",
        "                plt.plot(prd_auc, label='prd_auc')\n",
        "                plt.ylim(0,1)\n",
        "                plt.legend()\n",
        "        #         plt.show()\n",
        "\n",
        "                plt.subplot(grid[1, 0])\n",
        "                plt.imshow(EnergyDeposit_gen[0][0].cpu().detach().numpy(),vmin=0)\n",
        "                plt.subplot(grid[1, 1])\n",
        "                plt.imshow(EnergyDeposit_gen[1][0].cpu().detach().numpy(),vmin=0)                \n",
        "                plt.subplot(grid[1, 2])\n",
        "                plt.imshow(EnergyDeposit_b[0][0].cpu().detach().numpy(),vmin=0)\n",
        "                experiment.log_figure(figure=plt)\n",
        "#             plt.show()\n",
        "\n"
      ],
      "execution_count": 0,
      "outputs": []
    },
    {
      "cell_type": "code",
      "metadata": {
        "scrolled": false,
        "id": "zPLcnlKhmDMH",
        "colab_type": "code",
        "colab": {}
      },
      "source": [
        "with experiment.train():\n",
        "    run_training(N_EPOCH)"
      ],
      "execution_count": 0,
      "outputs": []
    },
    {
      "cell_type": "markdown",
      "metadata": {
        "id": "GT2fiNDMmDMJ",
        "colab_type": "text"
      },
      "source": [
        "#### Transfer generator on CPU:"
      ]
    },
    {
      "cell_type": "code",
      "metadata": {
        "id": "CTumKz8smDMK",
        "colab_type": "code",
        "colab": {}
      },
      "source": [
        "generator_cpu = ModelGConvTranspose(z_dim=NOISE_DIM)\n",
        "# generator_cpu.load_state_dict(generator.state_dict())\n",
        "generator_cpu.load_state_dict(torch.load('/content/gan21.pt'))\n",
        "generator_cpu.eval()"
      ],
      "execution_count": 0,
      "outputs": []
    },
    {
      "cell_type": "markdown",
      "metadata": {
        "id": "RrzMuZGzmDMM",
        "colab_type": "text"
      },
      "source": [
        "### Save model on disk"
      ]
    },
    {
      "cell_type": "code",
      "metadata": {
        "id": "zXwtnaSBmDMM",
        "colab_type": "code",
        "colab": {}
      },
      "source": [
        "torch.save(generator_cpu.state_dict(), './gan.pt')"
      ],
      "execution_count": 0,
      "outputs": []
    },
    {
      "cell_type": "markdown",
      "metadata": {
        "id": "nITR2bZwmDMO",
        "colab_type": "text"
      },
      "source": [
        "## Making predictions"
      ]
    },
    {
      "cell_type": "markdown",
      "metadata": {
        "id": "ihAqZQxvmDMP",
        "colab_type": "text"
      },
      "source": [
        "#### Validation predictions"
      ]
    },
    {
      "cell_type": "code",
      "metadata": {
        "scrolled": true,
        "id": "rVhVrubhmDMP",
        "colab_type": "code",
        "colab": {}
      },
      "source": [
        "data_val = np.load(val_data_path, allow_pickle=True)\n",
        "ParticleMomentum_val = torch.tensor(data_val['ParticleMomentum']).float()\n",
        "ParticlePoint_val = torch.tensor(data_val['ParticlePoint'][:, :2]).float()\n",
        "ParticleMomentum_ParticlePoint_val = torch.cat([ParticleMomentum_val, ParticlePoint_val], dim=1)\n",
        "calo_dataset_val = utils.TensorDataset(ParticleMomentum_ParticlePoint_val)\n",
        "calo_dataloader_val = torch.utils.data.DataLoader(calo_dataset_val, batch_size=1024, shuffle=False)\n",
        "\n",
        "with torch.no_grad():\n",
        "    EnergyDeposit_val = []\n",
        "    for ParticleMomentum_ParticlePoint_val_batch in tqdm(calo_dataloader_val):\n",
        "        noise = torch.randn(len(ParticleMomentum_ParticlePoint_val_batch[0]), NOISE_DIM)\n",
        "        EnergyDeposit_val_batch = generator_cpu(noise, ParticleMomentum_ParticlePoint_val_batch[0]).detach().numpy()\n",
        "        EnergyDeposit_val.append(EnergyDeposit_val_batch)\n",
        "    np.savez_compressed('./data_val_prediction.npz', \n",
        "                        EnergyDeposit=np.concatenate(EnergyDeposit_val, axis=0).reshape(-1, 30, 30))\n",
        "\n",
        "    del EnergyDeposit_val\n",
        "del data_val; del ParticleMomentum_val; del ParticlePoint_val; del ParticleMomentum_ParticlePoint_val;\n",
        "del calo_dataset_val; calo_dataloader_val"
      ],
      "execution_count": 0,
      "outputs": []
    },
    {
      "cell_type": "markdown",
      "metadata": {
        "id": "Uz2T9U3-mDMS",
        "colab_type": "text"
      },
      "source": [
        "#### Test predictions"
      ]
    },
    {
      "cell_type": "code",
      "metadata": {
        "id": "666U1Q_smDMS",
        "colab_type": "code",
        "colab": {}
      },
      "source": [
        "data_test = np.load(test_data_path, allow_pickle=True)\n",
        "ParticleMomentum_test = torch.tensor(data_test['ParticleMomentum']).float()\n",
        "ParticlePoint_test = torch.tensor(data_test['ParticlePoint'][:, :2]).float()\n",
        "ParticleMomentum_ParticlePoint_test = torch.cat([ParticleMomentum_test, ParticlePoint_test], dim=1)\n",
        "calo_dataset_test = utils.TensorDataset(ParticleMomentum_ParticlePoint_test)\n",
        "calo_dataloader_test = torch.utils.data.DataLoader(calo_dataset_test, batch_size=1024, shuffle=False)\n",
        "\n",
        "with torch.no_grad():\n",
        "    EnergyDeposit_test = []\n",
        "    for ParticleMomentum_ParticlePoint_test_batch in tqdm(calo_dataloader_test):\n",
        "        noise = torch.randn(len(ParticleMomentum_ParticlePoint_test_batch[0]), NOISE_DIM)\n",
        "        EnergyDeposit_test_batch = generator_cpu(noise, ParticleMomentum_ParticlePoint_test_batch[0]).detach().numpy()\n",
        "        EnergyDeposit_test.append(EnergyDeposit_test_batch)\n",
        "    np.savez_compressed('./data_test_prediction.npz', \n",
        "                        EnergyDeposit=np.concatenate(EnergyDeposit_test, axis=0).reshape(-1, 30, 30))\n",
        "\n",
        "    del EnergyDeposit_test\n",
        "del data_test; del ParticleMomentum_test; del ParticlePoint_test; del ParticleMomentum_ParticlePoint_test;\n",
        "del calo_dataset_test; calo_dataloader_test"
      ],
      "execution_count": 0,
      "outputs": []
    },
    {
      "cell_type": "markdown",
      "metadata": {
        "id": "_AIKCQMtmDMU",
        "colab_type": "text"
      },
      "source": [
        "## `zip-zip` files together"
      ]
    },
    {
      "cell_type": "code",
      "metadata": {
        "id": "Kvbj0nhzmDMV",
        "colab_type": "code",
        "colab": {}
      },
      "source": [
        "!zip solution.zip data_val_prediction.npz data_test_prediction.npz"
      ],
      "execution_count": 0,
      "outputs": []
    },
    {
      "cell_type": "code",
      "metadata": {
        "id": "bG-4EvGOmDMW",
        "colab_type": "code",
        "colab": {}
      },
      "source": [
        "from IPython.display import FileLink\n",
        "FileLink('./solution.zip')"
      ],
      "execution_count": 0,
      "outputs": []
    },
    {
      "cell_type": "markdown",
      "metadata": {
        "id": "QGp0K2LrmDMY",
        "colab_type": "text"
      },
      "source": [
        "# A few words about metrics"
      ]
    },
    {
      "cell_type": "markdown",
      "metadata": {
        "id": "K_j_38JamDMa",
        "colab_type": "text"
      },
      "source": [
        "### Lets generate some fake data"
      ]
    },
    {
      "cell_type": "code",
      "metadata": {
        "id": "0kyqaIyhmDMa",
        "colab_type": "code",
        "colab": {}
      },
      "source": [
        "noise = torch.randn(len(ParticleMomentum_b), NOISE_DIM)\n",
        "ParticleMomentum_ParticlePoint = torch.cat([ParticleMomentum, \n",
        "                                            ParticlePoint], dim=1)\n",
        "EnergyDeposit_gen = generator_cpu(noise, ParticleMomentum_ParticlePoint_b.cpu())"
      ],
      "execution_count": 0,
      "outputs": []
    },
    {
      "cell_type": "code",
      "metadata": {
        "id": "s353zPylmDMc",
        "colab_type": "code",
        "colab": {}
      },
      "source": [
        "EnergyDeposit_gen = EnergyDeposit_gen.detach().cpu().numpy().reshape(-1, 30, 30)\n",
        "EnergyDeposit = EnergyDeposit.detach().cpu().numpy().reshape(-1, 30, 30)"
      ],
      "execution_count": 0,
      "outputs": []
    },
    {
      "cell_type": "markdown",
      "metadata": {
        "id": "-TD90ylsmDMd",
        "colab_type": "text"
      },
      "source": [
        "#### Plot one image"
      ]
    },
    {
      "cell_type": "code",
      "metadata": {
        "id": "gxhjGZGYmDMe",
        "colab_type": "code",
        "colab": {}
      },
      "source": [
        "plt.figure()\n",
        "plt.imshow(EnergyDeposit_gen[0])\n",
        "plt.colorbar()"
      ],
      "execution_count": 0,
      "outputs": []
    },
    {
      "cell_type": "markdown",
      "metadata": {
        "id": "LTftFOhSmDMg",
        "colab_type": "text"
      },
      "source": [
        "## Calculate PRD score between these batch "
      ]
    },
    {
      "cell_type": "code",
      "metadata": {
        "id": "BWEusQu0mDMg",
        "colab_type": "code",
        "colab": {}
      },
      "source": [
        "class Regressor(nn.Module):\n",
        "    def __init__(self):\n",
        "        super(Regressor, self).__init__()\n",
        "        self.batchnorm0 = nn.BatchNorm2d(1)\n",
        "        self.conv1 = nn.Conv2d(1, 16, 2, stride=2)\n",
        "        self.batchnorm1 = nn.BatchNorm2d(16)\n",
        "        self.conv2 = nn.Conv2d(16, 32, 2, stride=2)\n",
        "        self.batchnorm2 = nn.BatchNorm2d(32)\n",
        "        self.conv3 = nn.Conv2d(32, 64, 2, stride=2)\n",
        "        self.batchnorm3 = nn.BatchNorm2d(64)\n",
        "        self.conv4 = nn.Conv2d(64, 64, 2)\n",
        "        \n",
        "        self.dropout = nn.Dropout(p=0.3)\n",
        "        \n",
        "        self.fc1 = nn.Linear(256, 256) \n",
        "        self.batchnorm4 = nn.BatchNorm1d(256)\n",
        "        self.fc2 = nn.Linear(256, 128)\n",
        "        self.fc3 = nn.Linear(128, 64)\n",
        "        self.fc4 = nn.Linear(64, 2 + 3)\n",
        "        self.fc5 = nn.Linear(64, 1)\n",
        "        \n",
        "    def forward(self, x):\n",
        "        x = self.batchnorm0(self.dropout(x))\n",
        "        x = self.batchnorm1(self.dropout(F.relu(self.conv1(x))))\n",
        "        x = self.batchnorm2(F.relu(self.conv2(x)))\n",
        "        x = self.batchnorm3(F.relu(self.conv3(x)))\n",
        "        x = F.relu(self.conv4(x)) # 64, 5, 5\n",
        "        x = x.view(len(x), -1)\n",
        "        x = self.dropout(x)\n",
        "        x = self.batchnorm4(self.dropout(F.relu(self.fc1(x))))\n",
        "        x = F.leaky_relu(self.fc2(x))\n",
        "        x = torch.tanh(self.fc3(x))\n",
        "        return self.fc4(x), self.fc5(x)\n",
        "    \n",
        "    def get_encoding(self, x):\n",
        "        x = self.batchnorm0(self.dropout(x))\n",
        "        x = self.batchnorm1(self.dropout(F.relu(self.conv1(x))))\n",
        "        x = self.batchnorm2(F.relu(self.conv2(x)))\n",
        "        x = self.batchnorm3(F.relu(self.conv3(x)))\n",
        "        x = F.relu(self.conv4(x)) # 64, 5, 5\n",
        "        x = x.view(len(x), -1)\n",
        "        x = self.dropout(x)\n",
        "        x = self.batchnorm4(self.dropout(F.relu(self.fc1(x))))\n",
        "        x = F.leaky_relu(self.fc2(x))\n",
        "        x = self.fc3(x)\n",
        "        return x\n",
        "    \n",
        "\n",
        "def load_embedder(path):\n",
        "    embedder = torch.load(path)\n",
        "    embedder.eval()\n",
        "    return embedder\n",
        "\n",
        "embedder = load_embedder('./embedder.tp')"
      ],
      "execution_count": 0,
      "outputs": []
    },
    {
      "cell_type": "code",
      "metadata": {
        "id": "Yd63IOwVmDMi",
        "colab_type": "code",
        "colab": {}
      },
      "source": [
        "data_real = embedder.get_encoding(torch.tensor(EnergyDeposit).float().view(-1, 1, 30, 30)).detach().numpy()\n",
        "data_fake = embedder.get_encoding(torch.tensor(EnergyDeposit_gen).float().view(-1, 1, 30, 30)).detach().numpy()"
      ],
      "execution_count": 0,
      "outputs": []
    },
    {
      "cell_type": "code",
      "metadata": {
        "id": "cGM2uI_qmDMj",
        "colab_type": "code",
        "colab": {}
      },
      "source": [
        "def plot_pr_aucs(precisions, recalls):\n",
        "    plt.figure(figsize=(12, 12))\n",
        "    pr_aucs = []\n",
        "    for i in range(len(recalls)):\n",
        "        plt.step(recalls[i], precisions[i], color='b', alpha=0.2,  label='PR-AUC={}'.format(auc(precisions[i], recalls[i])))\n",
        "        pr_aucs.append(auc(precisions[i], recalls[i]))\n",
        "    plt.step(np.mean(recalls, axis=0), np.mean(precisions, axis=0), color='r', alpha=1,  label='average')\n",
        "    plt.fill_between(np.mean(recalls, axis=0), \n",
        "                     np.mean(precisions, axis=0) - np.std(precisions, axis=0) * 3,\n",
        "                     np.mean(precisions, axis=0) + np.std(precisions, axis=0) * 3, color='g', alpha=0.2,  label='std')\n",
        "\n",
        "    plt.xlabel('Recall')\n",
        "    plt.ylabel('Precision')\n",
        "\n",
        "    # plt.ylim([0.0, 1.05])\n",
        "    # plt.xlim([0.0, 1.0])\n",
        "    print(np.mean(pr_aucs), np.std(pr_aucs))\n",
        "    plt.legend()\n",
        "    \n",
        "    return pr_aucs\n",
        "\n",
        "def calc_pr_rec(data_real, data_fake, num_clusters=20, num_runs=10, NUM_RUNS=10):\n",
        "    precisions = []\n",
        "    recalls = []\n",
        "    for i in tqdm(range(NUM_RUNS)):\n",
        "        precision, recall = compute_prd_from_embedding(data_real, data_fake, num_clusters=num_clusters, num_runs=num_runs)\n",
        "        precisions.append(precision)\n",
        "        recalls.append(recall)\n",
        "    return precisions, recalls"
      ],
      "execution_count": 0,
      "outputs": []
    },
    {
      "cell_type": "code",
      "metadata": {
        "id": "9NApjdKVmDMl",
        "colab_type": "code",
        "colab": {}
      },
      "source": [
        "precisions, recalls = calc_pr_rec(data_real, data_fake, num_clusters=100, num_runs=20)"
      ],
      "execution_count": 0,
      "outputs": []
    },
    {
      "cell_type": "code",
      "metadata": {
        "id": "L0D4-j__mDMp",
        "colab_type": "code",
        "colab": {}
      },
      "source": [
        "pr_aucs = plot_pr_aucs(precisions, recalls)\n",
        "plt.title('Num_clusters={}, num_runs={}, first third'.format(100, 20))\n",
        "plt.show()"
      ],
      "execution_count": 0,
      "outputs": []
    },
    {
      "cell_type": "code",
      "metadata": {
        "id": "erF_MpJ_mDMq",
        "colab_type": "code",
        "colab": {}
      },
      "source": [
        "pr_aucs"
      ],
      "execution_count": 0,
      "outputs": []
    },
    {
      "cell_type": "markdown",
      "metadata": {
        "id": "jXkiQuGlmDMs",
        "colab_type": "text"
      },
      "source": [
        "## Physical metrics"
      ]
    },
    {
      "cell_type": "code",
      "metadata": {
        "id": "CI_33EaxmDMt",
        "colab_type": "code",
        "colab": {}
      },
      "source": [
        "import matplotlib.lines as mlines\n",
        "def newline(p1, p2):\n",
        "    ax = plt.gca()\n",
        "    xmin, xmax = ax.get_xbound()\n",
        "\n",
        "    if(p2[0] == p1[0]):\n",
        "        xmin = xmax = p1[0]\n",
        "        ymin, ymax = ax.get_ybound()\n",
        "    else:\n",
        "        ymax = p1[1]+(p2[1]-p1[1])/(p2[0]-p1[0])*(xmax-p1[0])\n",
        "        ymin = p1[1]+(p2[1]-p1[1])/(p2[0]-p1[0])*(xmin-p1[0])\n",
        "\n",
        "    l = mlines.Line2D([xmin,xmax], [ymin,ymax])\n",
        "    ax.add_line(l)\n",
        "    return l\n",
        "\n",
        "def plot_axes_for_shower(ecal, point, p):\n",
        "    x = np.linspace(-14.5, 14.5, 30)\n",
        "    y = np.linspace(-14.5, 14.5, 30)\n",
        "\n",
        "    xx, yy = np.meshgrid(x, y)\n",
        "    zoff = 25.\n",
        "    ipic = 3\n",
        "    orth = np.array([-p[1], p[0]])\n",
        "\n",
        "    pref = point[:2] + p[:2] * zoff / p[2]\n",
        "\n",
        "    p1 = pref - 10 * p[:2]\n",
        "    p2 = pref + 10 * p[:2]\n",
        "    p3 = pref - 10 * orth\n",
        "    p4 = pref + 10 * orth\n",
        "\n",
        "    plt.contourf(xx, yy, np.log(ecal + 1), cmap=plt.cm.inferno)\n",
        "    newline(p1, p2)\n",
        "    newline(p3, p4)\n",
        "    plt.colorbar()"
      ],
      "execution_count": 0,
      "outputs": []
    },
    {
      "cell_type": "code",
      "metadata": {
        "id": "nR08nJ9gmDMv",
        "colab_type": "code",
        "colab": {}
      },
      "source": [
        "idx = 2\n",
        "plot_axes_for_shower(EnergyDeposit[idx], point=ParticlePoint[idx].detach().numpy(),\n",
        "                     p=ParticleMomentum[idx].detach().numpy())"
      ],
      "execution_count": 0,
      "outputs": []
    },
    {
      "cell_type": "code",
      "metadata": {
        "id": "HUCqH0_SmDMz",
        "colab_type": "code",
        "colab": {}
      },
      "source": [
        "from calogan_metrics import get_assymetry, get_shower_width, get_sparsity_level"
      ],
      "execution_count": 0,
      "outputs": []
    },
    {
      "cell_type": "code",
      "metadata": {
        "id": "zbvzfsYUmDM0",
        "colab_type": "code",
        "colab": {}
      },
      "source": [
        "assym = get_assymetry(EnergyDeposit, ParticleMomentum.detach().numpy(), ParticlePoint.detach().numpy(), orthog=False)\n",
        "assym_ortho = get_assymetry(EnergyDeposit, ParticleMomentum.detach().numpy(), ParticlePoint.detach().numpy(), orthog=True)\n",
        "sh_width = get_shower_width(EnergyDeposit, ParticleMomentum.detach().numpy(), ParticlePoint.detach().numpy(), orthog=False)\n",
        "sh_width_ortho = get_shower_width(EnergyDeposit, ParticleMomentum.detach().numpy(), ParticlePoint.detach().numpy(), orthog=True)\n",
        "sparsity_level = get_sparsity_level(EnergyDeposit)"
      ],
      "execution_count": 0,
      "outputs": []
    },
    {
      "cell_type": "markdown",
      "metadata": {
        "id": "2eJLvn3EmDM2",
        "colab_type": "text"
      },
      "source": [
        "## Longitudual cluster asymmetry"
      ]
    },
    {
      "cell_type": "code",
      "metadata": {
        "id": "NEORbnE7mDM2",
        "colab_type": "code",
        "colab": {}
      },
      "source": [
        "sns.set(font_scale=2)\n",
        "plt.hist(assym, bins=50, range=[-1, 1], color='red', alpha=0.3, normed=True, label='MC');\n",
        "plt.xlabel('Longitudual cluster asymmetry')\n",
        "plt.legend(loc='best')"
      ],
      "execution_count": 0,
      "outputs": []
    },
    {
      "cell_type": "markdown",
      "metadata": {
        "id": "15wFghYcmDM3",
        "colab_type": "text"
      },
      "source": [
        "## Transverse cluster asymmetry"
      ]
    },
    {
      "cell_type": "code",
      "metadata": {
        "id": "vfge5LTMmDM4",
        "colab_type": "code",
        "colab": {}
      },
      "source": [
        "sns.set(font_scale=2)\n",
        "plt.hist(assym_ortho, bins=50, range=[-1, 1], color='red', alpha=0.3, normed=True, label='MC');\n",
        "plt.xlabel('Transverse cluster asymmetry')\n",
        "plt.legend(loc='best')"
      ],
      "execution_count": 0,
      "outputs": []
    },
    {
      "cell_type": "markdown",
      "metadata": {
        "id": "H4lWh8VAmDM5",
        "colab_type": "text"
      },
      "source": [
        "## Cluster longitudual width"
      ]
    },
    {
      "cell_type": "code",
      "metadata": {
        "id": "xB27rAtImDM6",
        "colab_type": "code",
        "colab": {}
      },
      "source": [
        "plt.hist(sh_width, bins=50, range=[0, 15], normed=True, alpha=0.3, color='red', label='MC');\n",
        "plt.title('Shower longitudial width')\n",
        "plt.legend(loc='best')\n",
        "plt.xlabel('Cluster longitudual width [cm]')\n",
        "plt.ylabel('Arbitrary units')"
      ],
      "execution_count": 0,
      "outputs": []
    },
    {
      "cell_type": "markdown",
      "metadata": {
        "id": "gC-HiFBamDM7",
        "colab_type": "text"
      },
      "source": [
        "## Cluster trasverse width"
      ]
    },
    {
      "cell_type": "code",
      "metadata": {
        "id": "dBIu8gwLmDM9",
        "colab_type": "code",
        "colab": {}
      },
      "source": [
        "plt.hist(sh_width_ortho, bins=50, range=[0,10], normed=True, alpha=0.3, color='blue', label='MC');\n",
        "#plt.title('Shower transverse width')\n",
        "plt.legend(loc='best')\n",
        "plt.xlabel('Cluster trasverse width [cm]')\n",
        "plt.ylabel('Arbitrary units')"
      ],
      "execution_count": 0,
      "outputs": []
    },
    {
      "cell_type": "markdown",
      "metadata": {
        "id": "8pFbBYvOmDNA",
        "colab_type": "text"
      },
      "source": [
        "## Sparsity"
      ]
    },
    {
      "cell_type": "code",
      "metadata": {
        "id": "ob53fPO_mDNA",
        "colab_type": "code",
        "colab": {}
      },
      "source": [
        "alphas = np.log(np.logspace(-5, -1, 20))\n",
        "means_r = np.mean(sparsity_level, axis=1)\n",
        "stddev_r = np.std(sparsity_level, axis=1)"
      ],
      "execution_count": 0,
      "outputs": []
    },
    {
      "cell_type": "code",
      "metadata": {
        "id": "QygKaRldmDNB",
        "colab_type": "code",
        "colab": {}
      },
      "source": [
        "plt.plot(alphas, means_r, color='red')\n",
        "plt.fill_between(alphas, means_r-stddev_r, means_r+stddev_r, color='red', alpha=0.3)\n",
        "plt.legend(['MC'])\n",
        "plt.title('Sparsity')\n",
        "plt.xlabel('log10(Threshold/GeV)')\n",
        "plt.ylabel('Fraction of cells above threshold')"
      ],
      "execution_count": 0,
      "outputs": []
    },
    {
      "cell_type": "code",
      "metadata": {
        "id": "5-imUBMEmDND",
        "colab_type": "code",
        "colab": {}
      },
      "source": [
        "from calogan_metrics import get_physical_stats\n",
        "real_phys_stats = get_physical_stats(EnergyDeposit, ParticleMomentum.detach().numpy(), ParticlePoint.detach().numpy())\n",
        "gen_phys_stats = get_physical_stats(EnergyDeposit_gen, ParticleMomentum.detach().numpy(), ParticlePoint.detach().numpy())"
      ],
      "execution_count": 0,
      "outputs": []
    },
    {
      "cell_type": "code",
      "metadata": {
        "id": "wp_s9vGcmDNE",
        "colab_type": "code",
        "colab": {}
      },
      "source": [
        "precisions, recalls = calc_pr_rec(real_phys_stats, gen_phys_stats, num_clusters=100, num_runs=20)"
      ],
      "execution_count": 0,
      "outputs": []
    },
    {
      "cell_type": "code",
      "metadata": {
        "id": "Btvs99JKmDNI",
        "colab_type": "code",
        "colab": {}
      },
      "source": [
        "pr_aucs = plot_pr_aucs(precisions, recalls)\n",
        "plt.title('Num_clusters={}, num_runs={}, first third'.format(100, 20))\n",
        "plt.show()"
      ],
      "execution_count": 0,
      "outputs": []
    },
    {
      "cell_type": "code",
      "metadata": {
        "id": "uOyBgN-4mDNJ",
        "colab_type": "code",
        "colab": {}
      },
      "source": [
        "pr_aucs"
      ],
      "execution_count": 0,
      "outputs": []
    }
  ]
}