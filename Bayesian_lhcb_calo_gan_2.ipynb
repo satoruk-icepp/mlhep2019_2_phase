{
  "nbformat": 4,
  "nbformat_minor": 0,
  "metadata": {
    "colab": {
      "name": "Bayesian_lhcb_calo_gan_2.ipynb",
      "provenance": [],
      "collapsed_sections": [],
      "include_colab_link": true
    },
    "language_info": {
      "codemirror_mode": {
        "name": "ipython",
        "version": 3
      },
      "file_extension": ".py",
      "mimetype": "text/x-python",
      "name": "python",
      "nbconvert_exporter": "python",
      "pygments_lexer": "ipython3",
      "version": "3.6.8"
    },
    "kernelspec": {
      "name": "python3",
      "display_name": "Python 3"
    },
    "accelerator": "GPU"
  },
  "cells": [
    {
      "cell_type": "markdown",
      "metadata": {
        "id": "view-in-github",
        "colab_type": "text"
      },
      "source": [
        "<a href=\"https://colab.research.google.com/github/satoruk-icepp/mlhep2019_2_phase/blob/master/Bayesian_lhcb_calo_gan_2.ipynb\" target=\"_parent\"><img src=\"https://colab.research.google.com/assets/colab-badge.svg\" alt=\"Open In Colab\"/></a>"
      ]
    },
    {
      "cell_type": "code",
      "metadata": {
        "id": "giyM_o8bmDLI",
        "colab_type": "code",
        "outputId": "ba979096-d6bd-4da5-ee58-c5d64d07b9ae",
        "colab": {
          "base_uri": "https://localhost:8080/",
          "height": 528
        }
      },
      "source": [
        "from google.colab import drive\n",
        "drive.mount('/gdrive')"
      ],
      "execution_count": 0,
      "outputs": [
        {
          "output_type": "error",
          "ename": "KeyboardInterrupt",
          "evalue": "ignored",
          "traceback": [
            "\u001b[0;31m---------------------------------------------------------------------------\u001b[0m",
            "\u001b[0;31mKeyboardInterrupt\u001b[0m                         Traceback (most recent call last)",
            "\u001b[0;32m/usr/local/lib/python3.6/dist-packages/ipykernel/kernelbase.py\u001b[0m in \u001b[0;36m_input_request\u001b[0;34m(self, prompt, ident, parent, password)\u001b[0m\n\u001b[1;32m    729\u001b[0m             \u001b[0;32mtry\u001b[0m\u001b[0;34m:\u001b[0m\u001b[0;34m\u001b[0m\u001b[0;34m\u001b[0m\u001b[0m\n\u001b[0;32m--> 730\u001b[0;31m                 \u001b[0mident\u001b[0m\u001b[0;34m,\u001b[0m \u001b[0mreply\u001b[0m \u001b[0;34m=\u001b[0m \u001b[0mself\u001b[0m\u001b[0;34m.\u001b[0m\u001b[0msession\u001b[0m\u001b[0;34m.\u001b[0m\u001b[0mrecv\u001b[0m\u001b[0;34m(\u001b[0m\u001b[0mself\u001b[0m\u001b[0;34m.\u001b[0m\u001b[0mstdin_socket\u001b[0m\u001b[0;34m,\u001b[0m \u001b[0;36m0\u001b[0m\u001b[0;34m)\u001b[0m\u001b[0;34m\u001b[0m\u001b[0;34m\u001b[0m\u001b[0m\n\u001b[0m\u001b[1;32m    731\u001b[0m             \u001b[0;32mexcept\u001b[0m \u001b[0mException\u001b[0m\u001b[0;34m:\u001b[0m\u001b[0;34m\u001b[0m\u001b[0;34m\u001b[0m\u001b[0m\n",
            "\u001b[0;32m/usr/local/lib/python3.6/dist-packages/jupyter_client/session.py\u001b[0m in \u001b[0;36mrecv\u001b[0;34m(self, socket, mode, content, copy)\u001b[0m\n\u001b[1;32m    802\u001b[0m         \u001b[0;32mtry\u001b[0m\u001b[0;34m:\u001b[0m\u001b[0;34m\u001b[0m\u001b[0;34m\u001b[0m\u001b[0m\n\u001b[0;32m--> 803\u001b[0;31m             \u001b[0mmsg_list\u001b[0m \u001b[0;34m=\u001b[0m \u001b[0msocket\u001b[0m\u001b[0;34m.\u001b[0m\u001b[0mrecv_multipart\u001b[0m\u001b[0;34m(\u001b[0m\u001b[0mmode\u001b[0m\u001b[0;34m,\u001b[0m \u001b[0mcopy\u001b[0m\u001b[0;34m=\u001b[0m\u001b[0mcopy\u001b[0m\u001b[0;34m)\u001b[0m\u001b[0;34m\u001b[0m\u001b[0;34m\u001b[0m\u001b[0m\n\u001b[0m\u001b[1;32m    804\u001b[0m         \u001b[0;32mexcept\u001b[0m \u001b[0mzmq\u001b[0m\u001b[0;34m.\u001b[0m\u001b[0mZMQError\u001b[0m \u001b[0;32mas\u001b[0m \u001b[0me\u001b[0m\u001b[0;34m:\u001b[0m\u001b[0;34m\u001b[0m\u001b[0;34m\u001b[0m\u001b[0m\n",
            "\u001b[0;32m/usr/local/lib/python3.6/dist-packages/zmq/sugar/socket.py\u001b[0m in \u001b[0;36mrecv_multipart\u001b[0;34m(self, flags, copy, track)\u001b[0m\n\u001b[1;32m    465\u001b[0m         \"\"\"\n\u001b[0;32m--> 466\u001b[0;31m         \u001b[0mparts\u001b[0m \u001b[0;34m=\u001b[0m \u001b[0;34m[\u001b[0m\u001b[0mself\u001b[0m\u001b[0;34m.\u001b[0m\u001b[0mrecv\u001b[0m\u001b[0;34m(\u001b[0m\u001b[0mflags\u001b[0m\u001b[0;34m,\u001b[0m \u001b[0mcopy\u001b[0m\u001b[0;34m=\u001b[0m\u001b[0mcopy\u001b[0m\u001b[0;34m,\u001b[0m \u001b[0mtrack\u001b[0m\u001b[0;34m=\u001b[0m\u001b[0mtrack\u001b[0m\u001b[0;34m)\u001b[0m\u001b[0;34m]\u001b[0m\u001b[0;34m\u001b[0m\u001b[0;34m\u001b[0m\u001b[0m\n\u001b[0m\u001b[1;32m    467\u001b[0m         \u001b[0;31m# have first part already, only loop while more to receive\u001b[0m\u001b[0;34m\u001b[0m\u001b[0;34m\u001b[0m\u001b[0;34m\u001b[0m\u001b[0m\n",
            "\u001b[0;32mzmq/backend/cython/socket.pyx\u001b[0m in \u001b[0;36mzmq.backend.cython.socket.Socket.recv\u001b[0;34m()\u001b[0m\n",
            "\u001b[0;32mzmq/backend/cython/socket.pyx\u001b[0m in \u001b[0;36mzmq.backend.cython.socket.Socket.recv\u001b[0;34m()\u001b[0m\n",
            "\u001b[0;32mzmq/backend/cython/socket.pyx\u001b[0m in \u001b[0;36mzmq.backend.cython.socket._recv_copy\u001b[0;34m()\u001b[0m\n",
            "\u001b[0;32m/usr/local/lib/python3.6/dist-packages/zmq/backend/cython/checkrc.pxd\u001b[0m in \u001b[0;36mzmq.backend.cython.checkrc._check_rc\u001b[0;34m()\u001b[0m\n",
            "\u001b[0;31mKeyboardInterrupt\u001b[0m: ",
            "\nDuring handling of the above exception, another exception occurred:\n",
            "\u001b[0;31mKeyboardInterrupt\u001b[0m                         Traceback (most recent call last)",
            "\u001b[0;32m<ipython-input-1-e5b0420cd036>\u001b[0m in \u001b[0;36m<module>\u001b[0;34m()\u001b[0m\n\u001b[1;32m      1\u001b[0m \u001b[0;32mfrom\u001b[0m \u001b[0mgoogle\u001b[0m\u001b[0;34m.\u001b[0m\u001b[0mcolab\u001b[0m \u001b[0;32mimport\u001b[0m \u001b[0mdrive\u001b[0m\u001b[0;34m\u001b[0m\u001b[0;34m\u001b[0m\u001b[0m\n\u001b[0;32m----> 2\u001b[0;31m \u001b[0mdrive\u001b[0m\u001b[0;34m.\u001b[0m\u001b[0mmount\u001b[0m\u001b[0;34m(\u001b[0m\u001b[0;34m'/gdrive'\u001b[0m\u001b[0;34m)\u001b[0m\u001b[0;34m\u001b[0m\u001b[0;34m\u001b[0m\u001b[0m\n\u001b[0m",
            "\u001b[0;32m/usr/local/lib/python3.6/dist-packages/google/colab/drive.py\u001b[0m in \u001b[0;36mmount\u001b[0;34m(mountpoint, force_remount, timeout_ms, use_metadata_server)\u001b[0m\n\u001b[1;32m    232\u001b[0m       \u001b[0mauth_prompt\u001b[0m \u001b[0;34m=\u001b[0m \u001b[0md\u001b[0m\u001b[0;34m.\u001b[0m\u001b[0mmatch\u001b[0m\u001b[0;34m.\u001b[0m\u001b[0mgroup\u001b[0m\u001b[0;34m(\u001b[0m\u001b[0;36m1\u001b[0m\u001b[0;34m)\u001b[0m \u001b[0;34m+\u001b[0m \u001b[0;34m'\\nEnter your authorization code:\\n'\u001b[0m\u001b[0;34m\u001b[0m\u001b[0;34m\u001b[0m\u001b[0m\n\u001b[1;32m    233\u001b[0m       \u001b[0;32mwith\u001b[0m \u001b[0mopen\u001b[0m\u001b[0;34m(\u001b[0m\u001b[0mfifo\u001b[0m\u001b[0;34m,\u001b[0m \u001b[0;34m'w'\u001b[0m\u001b[0;34m)\u001b[0m \u001b[0;32mas\u001b[0m \u001b[0mfifo_file\u001b[0m\u001b[0;34m:\u001b[0m\u001b[0;34m\u001b[0m\u001b[0;34m\u001b[0m\u001b[0m\n\u001b[0;32m--> 234\u001b[0;31m         \u001b[0mfifo_file\u001b[0m\u001b[0;34m.\u001b[0m\u001b[0mwrite\u001b[0m\u001b[0;34m(\u001b[0m\u001b[0m_getpass\u001b[0m\u001b[0;34m.\u001b[0m\u001b[0mgetpass\u001b[0m\u001b[0;34m(\u001b[0m\u001b[0mauth_prompt\u001b[0m\u001b[0;34m)\u001b[0m \u001b[0;34m+\u001b[0m \u001b[0;34m'\\n'\u001b[0m\u001b[0;34m)\u001b[0m\u001b[0;34m\u001b[0m\u001b[0;34m\u001b[0m\u001b[0m\n\u001b[0m\u001b[1;32m    235\u001b[0m       \u001b[0mwrote_to_fifo\u001b[0m \u001b[0;34m=\u001b[0m \u001b[0;32mTrue\u001b[0m\u001b[0;34m\u001b[0m\u001b[0;34m\u001b[0m\u001b[0m\n\u001b[1;32m    236\u001b[0m   \u001b[0;32mif\u001b[0m \u001b[0;32mnot\u001b[0m \u001b[0mwrote_to_fifo\u001b[0m\u001b[0;34m:\u001b[0m\u001b[0;34m\u001b[0m\u001b[0;34m\u001b[0m\u001b[0m\n",
            "\u001b[0;32m/usr/local/lib/python3.6/dist-packages/ipykernel/kernelbase.py\u001b[0m in \u001b[0;36mgetpass\u001b[0;34m(self, prompt, stream)\u001b[0m\n\u001b[1;32m    686\u001b[0m             \u001b[0mself\u001b[0m\u001b[0;34m.\u001b[0m\u001b[0m_parent_ident\u001b[0m\u001b[0;34m,\u001b[0m\u001b[0;34m\u001b[0m\u001b[0;34m\u001b[0m\u001b[0m\n\u001b[1;32m    687\u001b[0m             \u001b[0mself\u001b[0m\u001b[0;34m.\u001b[0m\u001b[0m_parent_header\u001b[0m\u001b[0;34m,\u001b[0m\u001b[0;34m\u001b[0m\u001b[0;34m\u001b[0m\u001b[0m\n\u001b[0;32m--> 688\u001b[0;31m             \u001b[0mpassword\u001b[0m\u001b[0;34m=\u001b[0m\u001b[0;32mTrue\u001b[0m\u001b[0;34m,\u001b[0m\u001b[0;34m\u001b[0m\u001b[0;34m\u001b[0m\u001b[0m\n\u001b[0m\u001b[1;32m    689\u001b[0m         )\n\u001b[1;32m    690\u001b[0m \u001b[0;34m\u001b[0m\u001b[0m\n",
            "\u001b[0;32m/usr/local/lib/python3.6/dist-packages/ipykernel/kernelbase.py\u001b[0m in \u001b[0;36m_input_request\u001b[0;34m(self, prompt, ident, parent, password)\u001b[0m\n\u001b[1;32m    733\u001b[0m             \u001b[0;32mexcept\u001b[0m \u001b[0mKeyboardInterrupt\u001b[0m\u001b[0;34m:\u001b[0m\u001b[0;34m\u001b[0m\u001b[0;34m\u001b[0m\u001b[0m\n\u001b[1;32m    734\u001b[0m                 \u001b[0;31m# re-raise KeyboardInterrupt, to truncate traceback\u001b[0m\u001b[0;34m\u001b[0m\u001b[0;34m\u001b[0m\u001b[0;34m\u001b[0m\u001b[0m\n\u001b[0;32m--> 735\u001b[0;31m                 \u001b[0;32mraise\u001b[0m \u001b[0mKeyboardInterrupt\u001b[0m\u001b[0;34m\u001b[0m\u001b[0;34m\u001b[0m\u001b[0m\n\u001b[0m\u001b[1;32m    736\u001b[0m             \u001b[0;32melse\u001b[0m\u001b[0;34m:\u001b[0m\u001b[0;34m\u001b[0m\u001b[0;34m\u001b[0m\u001b[0m\n\u001b[1;32m    737\u001b[0m                 \u001b[0;32mbreak\u001b[0m\u001b[0;34m\u001b[0m\u001b[0;34m\u001b[0m\u001b[0m\n",
            "\u001b[0;31mKeyboardInterrupt\u001b[0m: "
          ]
        }
      ]
    },
    {
      "cell_type": "code",
      "metadata": {
        "id": "Ud8PAMb2mDK9",
        "colab_type": "code",
        "colab": {}
      },
      "source": [
        "! wget https://raw.githubusercontent.com/SchattenGenie/mlhep2019_2_phase/master/analysis/calogan_metrics.py -nc\n",
        "! wget https://raw.githubusercontent.com/SchattenGenie/mlhep2019_2_phase/master/analysis/prd_score.py -nc\n",
        "! wget https://raw.githubusercontent.com/SchattenGenie/mlhep2019_2_phase/master/analysis/score.py -nc\n",
        "! wget https://github.com/satoruk-icepp/mlhep2019_2_phase/raw/master/analysis/embedder.tp -nc\n",
        "! wget https://github.com/satoruk-icepp/mlhep2019_2_phase/raw/master/generator.py -P /content/ -O generator.py\n",
        "! wget https://github.com/satoruk-icepp/mlhep2019_2_phase/raw/master/discriminator.py -P /content/ -O discriminator.py\n",
        "! wget https://github.com/satoruk-icepp/mlhep2019_2_phase/raw/master/analysis/Normalization.py -P /content/ -O Normalization.py\n",
        "! wget https://github.com/satoruk-icepp/mlhep2019_2_phase/raw/master/analysis/bayes.py -P /content/ -O bayes.py\n",
        "! wget https://github.com/satoruk-icepp/mlhep2019_2_phase/raw/master/Label2Image.py -P /content/ -O Label2Image.py\n",
        "! wget https://github.com/satoruk-icepp/mlhep2019_2_phase/raw/master/Regressor.py -P /content/ -O Regressor.py\n",
        "! wget https://github.com/satoruk-icepp/mlhep2019_2_phase/raw/master/NetworkUtil.py -P /content/ -O NetworkUtil.py"
      ],
      "execution_count": 0,
      "outputs": []
    },
    {
      "cell_type": "code",
      "metadata": {
        "id": "UXxnaK7TH6vO",
        "colab_type": "code",
        "colab": {}
      },
      "source": [
        "%%writefile .comet.config\n",
        "[comet]\n",
        "api_key=mIel5ZAPOioTs0Cij75dSSQXs\n",
        "logging_file = /tmp/comet.log\n",
        "logging_file_level = info\n"
      ],
      "execution_count": 0,
      "outputs": []
    },
    {
      "cell_type": "code",
      "metadata": {
        "id": "ZlDzipgxH9kV",
        "colab_type": "code",
        "colab": {}
      },
      "source": [
        "! [ ! -z \"$COLAB_GPU\" ] && pip install skorch comet_ml"
      ],
      "execution_count": 0,
      "outputs": []
    },
    {
      "cell_type": "code",
      "metadata": {
        "id": "oLgVy1i9zZiA",
        "colab_type": "code",
        "colab": {}
      },
      "source": [
        "BATCH_SIZE         = 150\n",
        "N_EPOCH            = 200\n",
        "\n",
        "learning_rate      = 0.00005\n",
        "learning_rate_reg      = 0.001\n",
        "dnoise_alpha       = 0.001\n",
        "gnoise_alpha       = 0.001\n",
        "N=50250\n",
        "Nval = 1500\n",
        "NOISEIMAGE_DIM = 10\n",
        "NOISE_DIM = NOISEIMAGE_DIM**2\n",
        "Ngen = 1\n",
        "Ndisc = 1\n",
        "EnergyDepositScale = 4000\n",
        "EnergyDepositOffset = 0\n",
        "PXscale = 30\n",
        "PYscale = 30\n",
        "PZscale = 50\n",
        "PZoffset=50\n",
        "XPosscale = 10\n",
        "YPosscale = 10\n",
        "PDGscale=11\n",
        "PDGoffset=16.5\n",
        "Nresblock = 10\n",
        "CONDITION_DIM=6\n",
        "IMAGE_DIM=30\n",
        "dropout_disc = 0.00\n",
        "unrolled_steps= 0\n",
        "Nredconv_gen = 10\n",
        "ntrain_d = 1\n",
        "lambda_reg =10\n",
        "# TASK = 'BAYESIAN'\n",
        "TASK = 'WASSERSTEIN'\n",
        "# TASK = 'CRAMER'\n",
        "optimizer = 'Adam'\n",
        "# optimizer = 'RMSProp'\n",
        "# optimizer = 'RMSAdam'\n",
        "weight_decay = 0e-05\n",
        "add_dense = False\n",
        "use_additionalinfo = False\n",
        "restartfrom=0\n",
        "do_reg = False\n",
        "use_resblock = True\n",
        "params={'batch_size' : BATCH_SIZE,\n",
        "        'data_size'  : N,\n",
        "        'epochs'     : N_EPOCH,\n",
        "        'energyscale': EnergyDepositScale,\n",
        "        'noise_dim'   : NOISE_DIM,\n",
        "        'learning_rate':learning_rate,\n",
        "        'dnoise_alpha':dnoise_alpha,\n",
        "        'gnoise_alpha':gnoise_alpha,\n",
        "        'Ngen':Ngen,\n",
        "        'Ndisc':Ndisc,\n",
        "        'PXscale':PXscale,\n",
        "        'PYscale':PYscale,\n",
        "        'PZscale':PZscale,\n",
        "        'XPosscale':XPosscale,\n",
        "        'YPosscale':YPosscale,\n",
        "        'Nresblock':Nresblock,\n",
        "        'dropout_disc':dropout_disc,\n",
        "        'unrolled_steps':unrolled_steps,\n",
        "        'ntrain_d':ntrain_d,\n",
        "        'lambda_reg':lambda_reg,\n",
        "        'task:':TASK,\n",
        "        'optim':optimizer,\n",
        "        'weight_decay':weight_decay,\n",
        "        'Nredconv_gen':Nredconv_gen,\n",
        "        'add_dense':add_dense,\n",
        "        'use_additionalinfo':use_additionalinfo,\n",
        "        'restartfrom':restartfrom,\n",
        "        'Do_reg':do_reg,\n",
        "        'use_resblock':use_resblock\n",
        "}\n"
      ],
      "execution_count": 0,
      "outputs": []
    },
    {
      "cell_type": "code",
      "metadata": {
        "id": "q6CjhrWKT4Ig",
        "colab_type": "code",
        "colab": {}
      },
      "source": [
        "from comet_ml import Experiment\n",
        "experiment = Experiment(project_name=\"BayesGAN\")\n",
        "experiment.log_parameters(params)"
      ],
      "execution_count": 0,
      "outputs": []
    },
    {
      "cell_type": "code",
      "metadata": {
        "id": "mLY8nIkZLn24",
        "colab_type": "code",
        "colab": {}
      },
      "source": [
        "from skorch import NeuralNetClassifier"
      ],
      "execution_count": 0,
      "outputs": []
    },
    {
      "cell_type": "code",
      "metadata": {
        "id": "790_h5rSmDLA",
        "colab_type": "code",
        "colab": {}
      },
      "source": [
        "import torch\n",
        "import torch.nn as nn\n",
        "import torch.nn.functional as F\n",
        "import torch.optim as optim\n",
        "import torch.utils.data as utils\n",
        "from torch.utils.data.sampler import SubsetRandomSampler\n",
        "from torch.autograd import Variable\n",
        "from torchvision import datasets, transforms\n",
        "import time\n",
        "import numpy as np\n",
        "import math\n",
        "import matplotlib.pyplot as plt\n",
        "import copy\n",
        "from tqdm import tqdm, tqdm_notebook\n",
        "import seaborn as sns\n",
        "from IPython.display import clear_output\n",
        "sns.set()\n",
        "\n",
        "def one_hot(a, num_classes):\n",
        "    return np.squeeze(np.eye(num_classes)[a.reshape(-1)])\n",
        "\n",
        "device = 'cuda' if torch.cuda.is_available() else 'cpu'"
      ],
      "execution_count": 0,
      "outputs": []
    },
    {
      "cell_type": "code",
      "metadata": {
        "id": "KW0lyRVGmDLC",
        "colab_type": "code",
        "colab": {}
      },
      "source": [
        "device"
      ],
      "execution_count": 0,
      "outputs": []
    },
    {
      "cell_type": "markdown",
      "metadata": {
        "id": "QJbcY6IwmDLK",
        "colab_type": "text"
      },
      "source": [
        "## Data pathes"
      ]
    },
    {
      "cell_type": "code",
      "metadata": {
        "id": "-5muy7MJmDLK",
        "colab_type": "code",
        "colab": {}
      },
      "source": [
        "train_data_path = '/gdrive/My Drive/mlhep2019_gan/data_train.npz'\n",
        "# train_data_path = '/gdrive/My Drive/data_afteraugmentation.npz'\n",
        "val_data_path = '/gdrive/My Drive/mlhep2019_gan/data_val.npz'\n",
        "test_data_path = '/gdrive/My Drive/mlhep2019_gan/data_test.npz'\n",
        "\n",
        "# train_data_path = '../data_train.npz'\n",
        "# val_data_path = '../data_val.npz'\n",
        "# test_data_path = '../data_test.npz'"
      ],
      "execution_count": 0,
      "outputs": []
    },
    {
      "cell_type": "code",
      "metadata": {
        "id": "PfXOt6RZgnTN",
        "colab_type": "code",
        "colab": {}
      },
      "source": [
        "def GetDiscPath(epoch):\n",
        "    return '/gdrive/My Drive/disc_%d.pt'%(epoch)\n",
        "def GetGenPath(epoch):\n",
        "    return '/gdrive/My Drive/gen_%d.pt'%(epoch)"
      ],
      "execution_count": 0,
      "outputs": []
    },
    {
      "cell_type": "markdown",
      "metadata": {
        "id": "JqklR3OHmDLM",
        "colab_type": "text"
      },
      "source": [
        "# Loading data\n",
        "\n",
        "Data is stored in `.npz`-format which is a special filetype for persisting multiple NumPy arrays on disk. \n",
        "\n",
        "More info: https://docs.scipy.org/doc/numpy/reference/generated/numpy.lib.format.html#module-numpy.lib.format.\n",
        "\n",
        "File `dat_train.npz` contains four arrays: \n",
        "\n",
        "  * `EnergyDeposit` - images of calorimeters responses\n",
        "  * `ParticleMomentum` - $p_x, p_y, p_z$ of initial partice\n",
        "  * `ParticlePoint` - $x, y$ of initial particle\n",
        "  * `ParticlePDG` - particle type(either $e^-$ or $\\gamma$)"
      ]
    },
    {
      "cell_type": "code",
      "metadata": {
        "id": "wkvMrGHqj_S0",
        "colab_type": "code",
        "colab": {}
      },
      "source": [
        "EnergyDepositScale = torch.tensor([EnergyDepositScale]).float()\n",
        "EnergyDepositOffset = torch.tensor([EnergyDepositOffset]).float()\n",
        "MomentumScale      = torch.tensor([PXscale,PYscale,PZscale]).float()\n",
        "MomentumOffset      = torch.tensor([0,0,PZoffset]).float()\n",
        "PointScale         = torch.tensor([XPosscale,YPosscale]).float()\n",
        "PointOffset        = torch.tensor([0,0]).float()\n",
        "ParticlePDGScale   = torch.tensor([PDGscale]).float()\n",
        "ParticlePDGOffset   = torch.tensor([PDGoffset]).float()\n",
        "MomentumPointPDGScale = torch.cat([MomentumScale,PointScale,ParticlePDGScale])\n",
        "MomentumPointPDGOffset = torch.cat([MomentumOffset,PointOffset,ParticlePDGOffset])"
      ],
      "execution_count": 0,
      "outputs": []
    },
    {
      "cell_type": "code",
      "metadata": {
        "id": "DcLIRNvMmDLN",
        "colab_type": "code",
        "colab": {}
      },
      "source": [
        "# N = 1000\n",
        "\n",
        "data_train = np.load(train_data_path, allow_pickle=True)\n",
        "print(list(data_train.keys()))\n",
        "N = len(data_train['EnergyDeposit'])\n",
        "print(N)\n",
        "# N=1500\n",
        "# [data_size, 900]\n",
        "EnergyDeposit = data_train['EnergyDeposit'][:N]\n",
        "# reshaping it as [data_size, channels, img_size_x, img_size_y]\n",
        "# channels are needed for pytorch conv2d-layers\n",
        "EnergyDeposit = EnergyDeposit.reshape(-1,1,30,30)\n",
        "# EnergyDeposit = EnergyDeposit/EnergyDepositScale\n",
        "\n",
        "# [data_size, 3]\n",
        "# ParticleMomentumScale = [PXscale,PYscale,PZscale]\n",
        "ParticleMomentum = data_train['ParticleMomentum'][:N]\n",
        "# ParticleMomentum = np.divide(ParticleMomentum,ParticleMomentumScale) \n",
        "\n",
        "# [data_size, 2]\n",
        "# ParticlePointScale = [XPosscale,YPosscale]\n",
        "ParticlePoint = data_train['ParticlePoint'][:, :2][:N]\n",
        "# ParticlePoint = np.divide(ParticlePoint,ParticlePointScale)\n",
        "\n",
        "# [data_size, 1]\n",
        "ParticlePDG = data_train['ParticlePDG'][:N]\n",
        "ParticlePDG = ParticlePDG.reshape(-1,1)"
      ],
      "execution_count": 0,
      "outputs": []
    },
    {
      "cell_type": "code",
      "metadata": {
        "id": "t2VP0Rt3G44V",
        "colab_type": "code",
        "colab": {}
      },
      "source": [
        "EnergyDeposit    = torch.tensor(EnergyDeposit).float()\n",
        "ParticleMomentum = torch.tensor(ParticleMomentum).float()\n",
        "ParticlePoint    = torch.tensor(ParticlePoint).float()\n",
        "ParticlePDG      = torch.tensor(ParticlePDG).float()"
      ],
      "execution_count": 0,
      "outputs": []
    },
    {
      "cell_type": "code",
      "metadata": {
        "id": "RluQlRB-XLfY",
        "colab_type": "code",
        "colab": {}
      },
      "source": [
        "# EnergyDeposit_1d = EnergyDeposit.reshape(-1,900)\n",
        "# MaxElement = torch.argmax(EnergyDeposit_1d,1)\n",
        "# SumElement = torch.sum(EnergyDeposit_1d,1)\n",
        "# plt.hist(SumElement,range=(0,1000),bins=100)\n",
        "# # len(SumElement)\n",
        "# SumElement.shape"
      ],
      "execution_count": 0,
      "outputs": []
    },
    {
      "cell_type": "code",
      "metadata": {
        "id": "YseOMwBDYahq",
        "colab_type": "code",
        "colab": {}
      },
      "source": [
        "\n",
        "# EnergyDeposit = EnergyDeposit.reshape(-1,1,30,30)\n",
        "# XProj = EnergyDeposit.sum(dim=2)\n",
        "# YProj = EnergyDeposit.sum(dim=3)\n",
        "# plt.imshow(EnergyDeposit[0][0])\n",
        "\n",
        "\n",
        "# XProj = XProj.view(len(XProj),-1)\n",
        "# print(XProj[0])\n",
        "# # for i in range(len(XProj)):\n",
        "# XMean = torch.zeros(len(XProj))\n",
        "# XVar = torch.zeros(len(XProj))\n",
        "# for i in range(1):\n",
        "#     # XMean = 0\n",
        "#     # XVar = 0\n",
        "#     for j in range(len(XProj[i])):\n",
        "#         XMean[i] += float(j)*XProj[i][j]/XProj[i].sum(dim=0)\n",
        "#     for j in range(len(XProj[i])):\n",
        "#         XVar[i] += ((j-XMean[i])*XProj[i][j])**2/XProj[i].sum(dim=0)\n",
        "# print(XMean,XVar)\n",
        "# YProj = YProj.view(len(YProj),-1)\n",
        "# YMean = 0\n",
        "# YVar = 0\n",
        "# # for i in range(len(YProj)):\n",
        "# #     YMean += float(i)*YProj[i]/YProj.sum(dim=0)\n",
        "# # for i in range(len(YProj)):\n",
        "# #     YVar += ((i-YMean)*YProj[i])**2\n",
        "# print(YMean,YVar)\n",
        "# MaxElement[0]//30\n",
        "# MaxElement[0]%30\n",
        "# torch.argmax(XProj).float()/30\n",
        "# # len(YProj)\n",
        "\n",
        "# YProj = torch.argmax(YProj,dim=1).float()\n",
        "# YProj.shape\n",
        "# # plt.hist(YProj,bins=[i for i in range(30)],range=(0,30))\n",
        "# # plt.show()\n",
        "EnergyDeposit_1d = EnergyDeposit.view(EnergyDeposit.shape[0],900)\n",
        "# MaxElement = torch.argmax(EnergyDeposit_1d,dim=1)\n",
        "SumElement = torch.sum(EnergyDeposit_1d,dim=1)\n",
        "SumElement = SumElement.view(EnergyDeposit.shape[0],1)\n",
        "## project image and extract mean and variance\n",
        "XProj = EnergyDeposit.sum(dim=2).view(EnergyDeposit.shape[0],-1)\n",
        "YProj = EnergyDeposit.sum(dim=3).view(EnergyDeposit.shape[0],-1)\n",
        "XMean = torch.zeros(EnergyDeposit.shape[0],1)\n",
        "XVar  = torch.zeros(EnergyDeposit.shape[0],1)\n",
        "YMean = torch.zeros(EnergyDeposit.shape[0],1)\n",
        "YVar  = torch.zeros(EnergyDeposit.shape[0],1)\n",
        "indices = torch.tensor([float(i) for i in range(EnergyDeposit.shape[2])])\n",
        "print(indices)\n",
        "for i in range(5):\n",
        "    XMean[i] = ((indices * XProj[i]).sum()/SumElement[i]-14.5)/15.0\n",
        "    XVar[i]  = XProj[i].norm()/SumElement[i]\n",
        "    \n",
        "    # XMean[i] = (XMean[i]/SumElement[i]-14.5)/15.0\n",
        "    # XVar[i] = torch.sqrt(XVar[i]/SumElement[i])\n",
        "\n",
        "for i in range(5):\n",
        "    YMean[i] = ((indices * YProj[i]).sum()/SumElement[i]-14.5)/15.0\n",
        "    YVar[i]  = YProj[i].norm()/SumElement[i]\n",
        "SumElement = SumElement/20000\n",
        "AdditionalProperties = torch.cat([SumElement,XMean,XVar,YMean,YVar],dim=1)\n",
        "print(AdditionalProperties)"
      ],
      "execution_count": 0,
      "outputs": []
    },
    {
      "cell_type": "code",
      "metadata": {
        "id": "vDhPt__y7hOx",
        "colab_type": "code",
        "colab": {}
      },
      "source": [
        "# EnergyDeposit_check = torch.div(EnergyDeposit-EnergyDepositOffset,EnergyDepositScale)\n",
        "# ParticleMomentum_ParticlePoint_ParticlePDG_check = torch.cat([ParticleMomentum, ParticlePoint,ParticlePDG], dim=1)\n",
        "# ParticleMomentum_ParticlePoint_ParticlePDG_check = torch.div(ParticleMomentum_ParticlePoint_ParticlePDG_check-MomentumPointPDGOffset,MomentumPointPDGScale)\n",
        "# # plt.hist(ParticleMomentum_ParticlePoint_ParticlePDG_check[:,4])\n",
        "\n",
        "# # plt.hist(EnergyDeposit_check.reshape(EnergyDeposit_check.shape[0],-1))"
      ],
      "execution_count": 0,
      "outputs": []
    },
    {
      "cell_type": "markdown",
      "metadata": {
        "id": "ExAROHySmDLP",
        "colab_type": "text"
      },
      "source": [
        "## Load it to pytorch `DataLoader`"
      ]
    },
    {
      "cell_type": "code",
      "metadata": {
        "id": "XtEr15sdmDLQ",
        "colab_type": "code",
        "colab": {}
      },
      "source": [
        "\n",
        "\n",
        "# validation_split = 0.05\n",
        "random_seed= 42\n",
        "split = Nval\n",
        "indices = list(range(N))\n",
        "np.random.seed(random_seed)\n",
        "np.random.shuffle(indices)\n",
        "train_indices, val_indices = indices[split:], indices[:split]\n",
        "\n",
        "train_sampler = SubsetRandomSampler(train_indices)\n",
        "valid_sampler = SubsetRandomSampler(val_indices)\n",
        "\n",
        "calo_dataset    = utils.TensorDataset(EnergyDeposit, ParticleMomentum, ParticlePoint, ParticlePDG)\n",
        "\n",
        "train_loader = torch.utils.data.DataLoader(calo_dataset, batch_size=BATCH_SIZE, \n",
        "                                           sampler=train_sampler, pin_memory=True)\n",
        "validation_loader = torch.utils.data.DataLoader(calo_dataset, batch_size=BATCH_SIZE,\n",
        "                                                sampler=valid_sampler, pin_memory=True)\n",
        "\n",
        "\n",
        "# calo_dataloader = torch.utils.data.DataLoader(calo_dataset, batch_size=BATCH_SIZE, pin_memory=True, shuffle=True)"
      ],
      "execution_count": 0,
      "outputs": []
    },
    {
      "cell_type": "code",
      "metadata": {
        "id": "crC_kDGkmDLR",
        "colab_type": "code",
        "colab": {}
      },
      "source": [
        "for EnergyDeposit_b, ParticleMomentum_b, ParticlePoint_b, ParticlePDG_b in validation_loader:\n",
        "    break"
      ],
      "execution_count": 0,
      "outputs": []
    },
    {
      "cell_type": "markdown",
      "metadata": {
        "id": "inm6pj7DmDLU",
        "colab_type": "text"
      },
      "source": [
        "## Training GAN\n",
        "###### ...is not a simple matter\n",
        "\n",
        "It depends on architecture, loss, instance noise, augmentation and even luck(recommend to take a look https://arxiv.org/pdf/1801.04406.pdf)\n",
        "\n",
        "\n",
        "In this notebook I have prepared some basic parts that you could use for your experiments."
      ]
    },
    {
      "cell_type": "markdown",
      "metadata": {
        "id": "NNKTOTNkmDLb",
        "colab_type": "text"
      },
      "source": [
        "#### Small hack that can speed-up training and improve generalization"
      ]
    },
    {
      "cell_type": "code",
      "metadata": {
        "id": "D_qOnCr6Zias",
        "colab_type": "code",
        "colab": {}
      },
      "source": [
        "from bayes import NoiseLoss,PriorLoss"
      ],
      "execution_count": 0,
      "outputs": []
    },
    {
      "cell_type": "code",
      "metadata": {
        "id": "L4ttB8J3UqR-",
        "colab_type": "code",
        "colab": {}
      },
      "source": [
        "def add_instance_noise(data, std=0.01):\n",
        "    return data + torch.distributions.Normal(0, std).sample(data.shape).to(device)"
      ],
      "execution_count": 0,
      "outputs": []
    },
    {
      "cell_type": "code",
      "metadata": {
        "id": "0iBaXyY13Xtc",
        "colab_type": "code",
        "colab": {}
      },
      "source": [
        "# class GANLosses(object):\n",
        "#     def __init__(self, task, device):\n",
        "#         self.TASK = task\n",
        "#         self.device = device\n",
        "def critic(disc_1,disc_2):\n",
        "    return (torch.norm(disc_1 - disc_2,p=2,dim=-1) - torch.norm(disc_1,p=2,dim=-1)).mean()\n",
        "\n",
        "def gen_loss_func(disc_real,disc_gen_1,disc_gen_2):\n",
        "    return (torch.norm(disc_real - disc_gen_1,p=2,dim=-1) + \n",
        "            torch.norm(disc_real - disc_gen_2,p=2,dim=-1) -\n",
        "            torch.norm(disc_gen_1 - disc_gen_2,p=2,dim=-1)\n",
        "           ).mean()\n",
        "\n",
        "def calc_gradient_penalty(discriminator, data_gen, inputs_batch, inp_data, lambda_reg = .1):\n",
        "        alpha = torch.rand(inp_data.shape[0], 1).to(device)\n",
        "        dims_to_add = len(inp_data.size()) - 2\n",
        "        for i in range(dims_to_add):\n",
        "            alpha = alpha.unsqueeze(-1)\n",
        "        # alpha = alpha.expand(inp_data.size())\n",
        "\n",
        "        interpolates = (alpha * inp_data + ((1 - alpha) * data_gen)).to(device)\n",
        "\n",
        "        interpolates.requires_grad = True\n",
        "\n",
        "        disc_interpolates,_,_ = discriminator(interpolates, inputs_batch)\n",
        "\n",
        "        gradients = torch.autograd.grad(outputs=disc_interpolates, inputs=interpolates,\n",
        "                                        grad_outputs=torch.ones(disc_interpolates.size()).to(device),\n",
        "                                        create_graph=True, retain_graph=True, only_inputs=True)[0]\n",
        "\n",
        "        gradient_penalty = ((gradients.norm(2, dim=1) - 1) ** 2).mean() * lambda_reg\n",
        "        return gradient_penalty"
      ],
      "execution_count": 0,
      "outputs": []
    },
    {
      "cell_type": "markdown",
      "metadata": {
        "id": "KT8YWKN5mDLg",
        "colab_type": "text"
      },
      "source": [
        "## Defining discriminator"
      ]
    },
    {
      "cell_type": "markdown",
      "metadata": {
        "id": "F4_WffK-mDLi",
        "colab_type": "text"
      },
      "source": [
        "## Defining generator"
      ]
    },
    {
      "cell_type": "code",
      "metadata": {
        "id": "OD3j9qwIe9MG",
        "colab_type": "code",
        "colab": {}
      },
      "source": [
        "import Label2Image\n",
        "from generator import ModelGConvTranspose\n",
        "from discriminator import ModelD"
      ],
      "execution_count": 0,
      "outputs": []
    },
    {
      "cell_type": "markdown",
      "metadata": {
        "id": "ys1Z545TmDLl",
        "colab_type": "text"
      },
      "source": [
        "## Check our models on one batch "
      ]
    },
    {
      "cell_type": "code",
      "metadata": {
        "id": "Oe748y6nmDLl",
        "colab_type": "code",
        "colab": {}
      },
      "source": [
        "\n",
        "gens = []\n",
        "discs = []\n",
        "\n",
        "gen  = ModelGConvTranspose(\n",
        "    z_dim=NOISEIMAGE_DIM, \n",
        "    MomentumPointPDGScale = MomentumPointPDGScale.to(device),\n",
        "    MomentumPointPDGOffset=MomentumPointPDGOffset.to(device), \n",
        "    EnergyScale = EnergyDepositScale.to(device), \n",
        "    EnergyOffset = EnergyDepositOffset.to(device),\n",
        "    Nredconv_gen=Nredconv_gen,\n",
        "    add_dense = add_dense,\n",
        "    use_resblock =use_resblock\n",
        "    ).to(device)\n",
        "# gen  = ModelGConvTranspose_SMALL(z_dim=NOISEIMAGE_DIM, MomentumPointPDGScale = MomentumPointPDGScale.to(device),EnergyScale = EnergyDepositScale.to(device), Nredconv_gen=Nredconv_gen).to(device)\n",
        "use_bn = True\n",
        "if TASK=='WASSERSTEIN' or TASK=='CRAMER':\n",
        "    use_bn = False\n",
        "    \n",
        "disc = ModelD(\n",
        "    cond_dim=6, \n",
        "    MomentumPointPDGScale=MomentumPointPDGScale.to(device), \n",
        "    MomentumPointPDGOffset=MomentumPointPDGOffset.to(device), \n",
        "    EnergyScale = EnergyDepositScale.to(device),\n",
        "    EnergyOffset = EnergyDepositOffset.to(device),\n",
        "    Nredconv_dis=Nresblock,\n",
        "    dropout_fraction=dropout_disc,\n",
        "    use_bn=use_bn,\n",
        "    use_additionalinfo = use_additionalinfo\n",
        "    ).to(device)\n",
        "\n",
        "gen.weight_init(mean=0.0, std=0.02)\n",
        "disc.weight_init(mean=0.0, std=0.02)"
      ],
      "execution_count": 0,
      "outputs": []
    },
    {
      "cell_type": "code",
      "metadata": {
        "id": "JtVI0PXgqFbm",
        "colab_type": "code",
        "colab": {}
      },
      "source": [
        "def LoadModels(epoch):\n",
        "    gen.load_state_dict(torch.load(GetGenPath(epoch)))\n",
        "    disc.load_state_dict(torch.load(GetDiscPath(epoch)))"
      ],
      "execution_count": 0,
      "outputs": []
    },
    {
      "cell_type": "code",
      "metadata": {
        "id": "2Q-AMNR6tJpZ",
        "colab_type": "code",
        "colab": {}
      },
      "source": [
        "if restartfrom>0:\n",
        "    LoadModels(restartfrom)"
      ],
      "execution_count": 0,
      "outputs": []
    },
    {
      "cell_type": "code",
      "metadata": {
        "id": "NUk-rAs1mDLn",
        "colab_type": "code",
        "colab": {}
      },
      "source": [
        "EnergyDeposit_b, ParticleMomentum_b, ParticlePoint_b, ParticlePDG_b = EnergyDeposit_b.to(device), \\\n",
        "                                                       ParticleMomentum_b.to(device), \\\n",
        "                                                       ParticlePoint_b.to(device),\\\n",
        "                                                       ParticlePDG_b.to(device)\n",
        "# print(ParticlePoint_b.shape,ParticlePDG_b.shape,)\n",
        "# ParticlePDG_b= ParticlePDG_b.view(-1,1)\n",
        "ParticleMomentum_ParticlePoint_ParticlePDG_b = torch.cat([ParticleMomentum_b.to(device), ParticlePoint_b.to(device),ParticlePDG_b.to(device)], dim=1)"
      ],
      "execution_count": 0,
      "outputs": []
    },
    {
      "cell_type": "code",
      "metadata": {
        "id": "jcrCO7wRmDLv",
        "colab_type": "code",
        "colab": {}
      },
      "source": [
        "# disc(EnergyDeposit_b, ParticleMomentum_ParticlePoint_ParticlePDG_b)"
      ],
      "execution_count": 0,
      "outputs": []
    },
    {
      "cell_type": "code",
      "metadata": {
        "id": "BxagWRP6mDLx",
        "colab_type": "code",
        "colab": {}
      },
      "source": [
        "noise = torch.randn(len(EnergyDeposit_b), NOISEIMAGE_DIM, NOISEIMAGE_DIM).to(device)\n",
        "gen(noise, ParticleMomentum_ParticlePoint_ParticlePDG_b).shape"
      ],
      "execution_count": 0,
      "outputs": []
    },
    {
      "cell_type": "code",
      "metadata": {
        "id": "qgnGKjGF4MPB",
        "colab_type": "code",
        "colab": {}
      },
      "source": [
        "reg_loss = torch.nn.SmoothL1Loss().to(device)\n",
        "criterion = nn.BCELoss()\n",
        "gprior_criterion = PriorLoss(prior_std=1., observed=N)\n",
        "gnoise_criterion = NoiseLoss(params=gen.parameters(), noise_std=math.sqrt(2 * gnoise_alpha * learning_rate), observed=N)\n",
        "dprior_criterion = PriorLoss(prior_std=1., observed=N)\n",
        "dnoise_criterion = NoiseLoss(params=disc.parameters(), noise_std=math.sqrt(2 * dnoise_alpha * learning_rate), observed=N)"
      ],
      "execution_count": 0,
      "outputs": []
    },
    {
      "cell_type": "markdown",
      "metadata": {
        "id": "cCaPksu4mDLz",
        "colab_type": "text"
      },
      "source": [
        "## Defining optimiser"
      ]
    },
    {
      "cell_type": "code",
      "metadata": {
        "id": "BXVckXSZmDL0",
        "colab_type": "code",
        "colab": {}
      },
      "source": [
        "if optimizer == \"Adam\":\n",
        "    gen_opt  = optim.Adam(gen.parameters() , lr=learning_rate, betas=(0.9, 0.999), weight_decay=weight_decay)\n",
        "    disc_opt = optim.Adam(disc.parameters(), lr=learning_rate, betas=(0.9, 0.999), weight_decay=weight_decay)\n",
        "    reg_gen_opt = optim.Adam(gen.parameters(), lr=learning_rate_reg, betas=(0.9,0.999))\n",
        "    reg_disc_opt = optim.Adam(disc.parameters(), lr=learning_rate_reg, betas=(0.9,0.999))\n",
        "    \n",
        "elif optimizer == \"RMSProp\":\n",
        "    gen_opt  = optim.RMSprop(gen.parameters(), lr=learning_rate)\n",
        "    disc_opt = optim.RMSprop(disc.parameters(), lr=learning_rate)\n",
        "    reg_gen_opt = optim.RMSprop(gen.parameters(), lr=learning_rate_reg)\n",
        "    reg_disc_opt = optim.RMSprop(disc.parameters(), lr=learning_rate_reg)\n",
        "    \n",
        "elif optimizer == \"RMSAdam\":\n",
        "    gen_opt  = optim.Adam(gen.parameters() , lr=learning_rate, betas=(0.9, 0.999), weight_decay=weight_decay)\n",
        "    disc_opt = optim.RMSprop(disc.parameters(), lr=learning_rate)    \n",
        "    reg_gen_opt = optim.Adam(gen.parameters(), lr=learning_rate_reg, betas=(0.9,0.999))\n",
        "    reg_disc_opt = optim.RMSprop(disc.parameters(), lr=learning_rate_reg)\n",
        "    \n"
      ],
      "execution_count": 0,
      "outputs": []
    },
    {
      "cell_type": "markdown",
      "metadata": {
        "id": "FpBbUF9DmDL2",
        "colab_type": "text"
      },
      "source": [
        "## Load scores"
      ]
    },
    {
      "cell_type": "code",
      "metadata": {
        "id": "m9v-IZO8mDL3",
        "colab_type": "code",
        "colab": {}
      },
      "source": [
        "from prd_score import compute_prd, compute_prd_from_embedding, _prd_to_f_beta\n",
        "from sklearn.metrics import auc"
      ],
      "execution_count": 0,
      "outputs": []
    },
    {
      "cell_type": "code",
      "metadata": {
        "id": "J7z0U53UNIV9",
        "colab_type": "code",
        "colab": {}
      },
      "source": [
        "from Regressor import Regressor, load_embedder\n",
        "embedder = load_embedder('./embedder.tp')"
      ],
      "execution_count": 0,
      "outputs": []
    },
    {
      "cell_type": "code",
      "metadata": {
        "id": "jumtrlNo2Gq7",
        "colab_type": "code",
        "colab": {}
      },
      "source": [
        "def D_train(EnergyDeposit_b,ParticleMomentum_ParticlePoint_ParticlePDG_b,ibatch,gen_input=None):\n",
        "    #=======================Train the discriminator=======================#\n",
        "    \n",
        "    disc_loss = 0\n",
        "    disc_prior = 0\n",
        "    disc_noise = 0\n",
        "    disc_real = 0\n",
        "    disc_fake = 0\n",
        "    EnergyDeposit_b = add_instance_noise(EnergyDeposit_b)\n",
        "    raw_real,output_real,mpp_real = disc(EnergyDeposit_b,ParticleMomentum_ParticlePoint_ParticlePDG_b)\n",
        "    \n",
        "    # disc_real = raw_real.mean()\n",
        "    if gen_input is not None:\n",
        "        EnergyDeposit_gen = gen_input\n",
        "    else:\n",
        "        noise = torch.randn(len(EnergyDeposit_b), NOISEIMAGE_DIM, NOISEIMAGE_DIM).to(device)\n",
        "        EnergyDeposit_gen = gen(noise, ParticleMomentum_ParticlePoint_ParticlePDG_b)\n",
        "    \n",
        "    EnergyDeposit_gen = add_instance_noise(EnergyDeposit_gen)\n",
        "    raw_fake,output_fake,mpp_fake = disc(EnergyDeposit_gen.detach(),ParticleMomentum_ParticlePoint_ParticlePDG_b)\n",
        "    if do_reg == True:\n",
        "        reg_loss_val = reg_loss(mpp_real, ParticleMomentum_ParticlePoint_ParticlePDG_b)\n",
        "        reg_disc_opt.zero_grad()\n",
        "        reg_loss_val.backward(retain_graph=True)\n",
        "        reg_disc_opt.step()\n",
        "        experiment.log_metric(\"d_reg\", reg_loss_val.data.item(),step=ibatch)\n",
        "\n",
        "    if TASK==\"WASSERSTEIN\":\n",
        "        penalty = calc_gradient_penalty(disc,\n",
        "                                        EnergyDeposit_gen.data,\n",
        "                                        ParticleMomentum_ParticlePoint_ParticlePDG_b,\n",
        "                                        EnergyDeposit_b.data,\n",
        "                                        lambda_reg)\n",
        "        disc_real = raw_real.mean()\n",
        "        disc_fake = raw_fake.mean()\n",
        "        disc_loss = disc_fake-disc_real+penalty\n",
        "        experiment.log_metric(\"d_real\", disc_real.data.item(),step=ibatch)\n",
        "        experiment.log_metric(\"d_fake\", disc_fake.data.item(),step=ibatch)\n",
        "        experiment.log_metric(\"gradient_penalty\", penalty.data.item(),step=ibatch)\n",
        "\n",
        "    elif TASK == \"BAYESIAN\":\n",
        "        labelv_real = Variable(0.9+0.1*torch.rand(len(EnergyDeposit_b), 1).to(device))\n",
        "        labelv_fake = Variable(0.1*torch.rand(len(EnergyDeposit_b), 1).to(device)) \n",
        "        disc_real = criterion(output_real,labelv_real)\n",
        "        disc_fake = criterion(output_fake, labelv_fake)\n",
        "        disc_prior = dprior_criterion(disc.parameters())\n",
        "        disc_noise = dnoise_criterion(disc.parameters())\n",
        "        disc_loss = disc_real + disc_fake + disc_prior + disc_noise\n",
        "        experiment.log_metric(\"d_real\", disc_real.data.item(),step=ibatch)\n",
        "        experiment.log_metric(\"d_fake\", disc_fake.data.item(),step=ibatch)\n",
        "        experiment.log_metric(\"d_prior\", disc_prior.data.item(),step=ibatch)\n",
        "        experiment.log_metric(\"d_noise\", disc_noise.data.item(),step=ibatch)\n",
        "\n",
        "    elif TASK == \"CRAMER\":\n",
        "        noise_2 = torch.randn(len(EnergyDeposit_b), NOISEIMAGE_DIM, NOISEIMAGE_DIM).to(device)\n",
        "        EnergyDeposit_gen_2 = gen(noise_2, ParticleMomentum_ParticlePoint_ParticlePDG_b)\n",
        "        raw_fake_2,output_fake_2,mpp_fake_2 = disc(EnergyDeposit_gen_2.detach(),ParticleMomentum_ParticlePoint_ParticlePDG_b)\n",
        "        penalty = calc_gradient_penalty(disc,\n",
        "                                        EnergyDeposit_gen.data,\n",
        "                                        ParticleMomentum_ParticlePoint_ParticlePDG_b,\n",
        "                                        EnergyDeposit_b.data,\n",
        "                                        lambda_reg)\n",
        "        disc_loss = -critic(raw_real, raw_fake_2) + critic(raw_fake, raw_fake_2) + penalty\n",
        "        experiment.log_metric(\"gradient_penalty\", penalty.data.item(),step=ibatch)\n",
        "    disc_opt.zero_grad()\n",
        "    disc_loss.backward()\n",
        "    disc_opt.step()\n",
        "    print(disc_loss.data.item())\n",
        "    \n",
        "    experiment.log_metric(\"d_loss\", disc_loss.data.item(),step=ibatch)\n",
        "        \n",
        "    return"
      ],
      "execution_count": 0,
      "outputs": []
    },
    {
      "cell_type": "code",
      "metadata": {
        "id": "oHv4ORXp5BpP",
        "colab_type": "code",
        "colab": {}
      },
      "source": [
        "def G_train(EnergyDeposit_b,ParticleMomentum_ParticlePoint_ParticlePDG_b,ibatch):\n",
        "    #=======================Train the generator=======================#\n",
        "    gen_opt.zero_grad()\n",
        "    gen_loss = 0\n",
        "    gen_real = 0\n",
        "    gen_prior = 0\n",
        "    gen_noise = 0\n",
        "    noise = torch.randn(len(EnergyDeposit_b), NOISEIMAGE_DIM,NOISEIMAGE_DIM).to(device)\n",
        "    EnergyDeposit_gen = gen(noise, ParticleMomentum_ParticlePoint_ParticlePDG_b)\n",
        "    EnergyDeposit_gen = add_instance_noise(EnergyDeposit_gen)\n",
        "    # if unrolled_steps>0:\n",
        "    # disc_back = copy.deepcopy(disc)\n",
        "    # for istep in range(unrolled_steps):\n",
        "    #     D_train(EnergyDeposit_b,ParticleMomentum_ParticlePoint_ParticlePDG_b,EnergyDeposit_gen)\n",
        "    \n",
        "    raw_gen,output_gen,mpp_gen = disc(EnergyDeposit_gen,ParticleMomentum_ParticlePoint_ParticlePDG_b)\n",
        "    if do_reg == True:\n",
        "        reg_loss_val = reg_loss(mpp_gen, ParticleMomentum_ParticlePoint_ParticlePDG_b)\n",
        "        reg_gen_opt.zero_grad()\n",
        "        reg_loss_val.backward(retain_graph=True)\n",
        "        reg_gen_opt.step()\n",
        "        experiment.log_metric(\"g_reg\", reg_loss_val.data.item(),step=ibatch)\n",
        "    if TASK==\"WASSERSTEIN\":\n",
        "        gen_real = raw_gen.mean()\n",
        "        gen_loss = -gen_real\n",
        "        experiment.log_metric(\"g_real_loss\", gen_real.data.item(),step=ibatch)\n",
        "    elif TASK==\"BAYESIAN\":\n",
        "        labelv_real = Variable(torch.ones(len(EnergyDeposit_b), 1).to(device))\n",
        "        gen_real = criterion(output_gen,labelv_real)\n",
        "        gen_prior = gprior_criterion(gen.parameters())\n",
        "        gen_noise = gnoise_criterion(gen.parameters())\n",
        "        gen_loss = gen_real+gen_prior+gen_noise\n",
        "        experiment.log_metric(\"g_real_loss\", gen_real.data.item(),step=ibatch)\n",
        "        experiment.log_metric(\"g_prior_loss\", gen_prior.data.item(),step=ibatch)\n",
        "        experiment.log_metric(\"g_noise_loss\", gen_noise.data.item(),step=ibatch)\n",
        "    elif TASK==\"CRAMER\":\n",
        "        raw_real,output_real = disc(EnergyDeposit_b,ParticleMomentum_ParticlePoint_ParticlePDG_b)\n",
        "        noise_2 = torch.randn(len(EnergyDeposit_b), NOISEIMAGE_DIM, NOISEIMAGE_DIM).to(device)\n",
        "        EnergyDeposit_gen_2 = gen(noise_2, ParticleMomentum_ParticlePoint_ParticlePDG_b)\n",
        "        raw_fake_2,output_fake_2,mpp_fake_2 = disc(EnergyDeposit_gen_2.detach(),ParticleMomentum_ParticlePoint_ParticlePDG_b)\n",
        "        gen_loss = gen_loss_func(raw_real,raw_gen,raw_fake_2)\n",
        "    # gen_real.backward()\n",
        "        # gen_loss.data.item(),gen_real.data.item(),gen_prior.data.item(),gen_noise.data.item()\n",
        "    experiment.log_metric(\"g_loss\", gen_loss.data.item(),step=ibatch)\n",
        "    \n",
        "             \n",
        "    gen_loss.backward()\n",
        "    gen_opt.step()\n",
        "    # disc.load(disc_back)\n",
        "    return EnergyDeposit_gen"
      ],
      "execution_count": 0,
      "outputs": []
    },
    {
      "cell_type": "code",
      "metadata": {
        "id": "k7Dbdy2y-0Bt",
        "colab_type": "code",
        "colab": {}
      },
      "source": [
        "def CalculatePRDScore(EnergyDeposit_b,EnergyDeposit_gen):\n",
        "    batch = 0\n",
        "    plt.figure(figsize=(15,12))\n",
        "    prd_aucs = []\n",
        "    for EnergyDeposit_b, ParticleMomentum_b, ParticlePoint_b, ParticlePDG_b in validation_loader:\n",
        "        noise = torch.randn(len(EnergyDeposit_b), NOISEIMAGE_DIM, NOISEIMAGE_DIM).to(device)\n",
        "        ParticleMomentum_ParticlePoint_ParticlePDG_b = torch.cat([ParticleMomentum_b.to(device), ParticlePoint_b.to(device),ParticlePDG_b.to(device)], dim=1)\n",
        "        EnergyDeposit_gen = gen(noise, ParticleMomentum_ParticlePoint_ParticlePDG_b)\n",
        "\n",
        "        data_real = embedder.get_encoding(torch.tensor(EnergyDeposit_b).float().view(-1, 1, 30, 30)).detach().numpy()\n",
        "        data_fake = embedder.get_encoding(torch.tensor(EnergyDeposit_gen.cpu()).float().view(-1, 1, 30, 30)).detach().numpy()\n",
        "        precision, recall = compute_prd_from_embedding(data_real, data_fake,num_clusters=20,num_runs=10)\n",
        "        # precisions, recalls = calc_pr_rec(data_real,data_fake)\n",
        "        prd_auc_ = auc(precision, recall)\n",
        "        prd_aucs.append(prd_auc_)\n",
        "        plt.step(recall, precision, color='r', alpha=1,  label='PR')\n",
        "        # experiment.log_figure(figure=plt)\n",
        "        # break\n",
        "        if batch>3:\n",
        "            experiment.log_figure(figure=plt)\n",
        "            break\n",
        "        else:\n",
        "            batch+=1\n",
        "    np_prd_aucs = np.array(prd_aucs)\n",
        "    prd_auc_ = np.mean(np_prd_aucs)\n",
        "    return prd_auc_"
      ],
      "execution_count": 0,
      "outputs": []
    },
    {
      "cell_type": "code",
      "metadata": {
        "id": "wEDWICNr93MZ",
        "colab_type": "code",
        "colab": {}
      },
      "source": [
        "def SaveModels(disc,gen,epoch):\n",
        "    \n",
        "    # gen  = ModelGConvTranspose_SMALL(z_dim=NOISEIMAGE_DIM, MomentumPointPDGScale = MomentumPointPDGScale.to(device),EnergyScale = EnergyDepositScale.to(device), Nredconv_gen=Nredconv_gen).to(device)\n",
        "    use_bn = True\n",
        "    if TASK=='WASSERSTEIN' or TASK=='CRAMER':\n",
        "        use_bn = False\n",
        "        \n",
        "    disc_cpu = ModelD(\n",
        "        cond_dim=6, \n",
        "        MomentumPointPDGScale=MomentumPointPDGScale.to(device), \n",
        "        MomentumPointPDGOffset=MomentumPointPDGOffset.to(device), \n",
        "        EnergyScale = EnergyDepositScale.to(device),\n",
        "        EnergyOffset = EnergyDepositOffset.to(device),\n",
        "        Nredconv_dis=Nresblock,\n",
        "        dropout_fraction=dropout_disc,\n",
        "        use_bn=use_bn,\n",
        "        use_additionalinfo = use_additionalinfo\n",
        "        )\n",
        "    \n",
        "    disc_cpu.load_state_dict(disc.state_dict())\n",
        "    # generator_cpu.eval()\n",
        "    torch.save(disc_cpu.state_dict(), GetDiscPath(epoch))\n",
        "    gen_cpu  = ModelGConvTranspose(\n",
        "        z_dim=NOISEIMAGE_DIM, \n",
        "        MomentumPointPDGScale = MomentumPointPDGScale.to(device),\n",
        "        MomentumPointPDGOffset=MomentumPointPDGOffset.to(device), \n",
        "        EnergyScale = EnergyDepositScale.to(device), \n",
        "        EnergyOffset = EnergyDepositOffset.to(device),\n",
        "        Nredconv_gen=Nredconv_gen,\n",
        "        add_dense = add_dense,\n",
        "        use_resblock =use_resblock\n",
        "    )\n",
        "    gen_cpu.load_state_dict(gen.state_dict())\n",
        "    # generator_cpu.eval()\n",
        "    torch.save(gen_cpu.state_dict(), GetGenPath(epoch))\n",
        "    return"
      ],
      "execution_count": 0,
      "outputs": []
    },
    {
      "cell_type": "code",
      "metadata": {
        "id": "c18oWujomDL6",
        "colab_type": "code",
        "colab": {}
      },
      "source": [
        "LIPSITZ_WEIGHTS = False\n",
        "# ntrain_d = 1\n",
        "def run_training(epochs):\n",
        "    ibatch = 0\n",
        "    dis_epoch_loss = []\n",
        "    gen_epoch_loss = []\n",
        "    predictions_dis = []\n",
        "    predictions_gen = []\n",
        "    TotalEnergyDeposit_dis = []\n",
        "    TotalEnergyDeposit_gen = []    \n",
        "    prd_auc = []  \n",
        "    for epoch in tqdm(range(restartfrom,epochs)):\n",
        "        first = True\n",
        "        for EnergyDeposit_b, ParticleMomentum_b, ParticlePoint_b, ParticlePDG_b in train_loader:\n",
        "            EnergyDeposit_b, ParticleMomentum_b, ParticlePoint_b, ParticlePDG_b = EnergyDeposit_b.to(device), \\\n",
        "                                                                   ParticleMomentum_b.to(device), \\\n",
        "                                                                   ParticlePoint_b.to(device),\\\n",
        "                                                                   ParticlePDG_b.view(-1,1).to(device)\n",
        "\n",
        "            ParticleMomentum_ParticlePoint_ParticlePDG_b = torch.cat([ParticleMomentum_b.to(device), ParticlePoint_b.to(device), ParticlePDG_b.to(device)], dim=1)\n",
        "            for itrain in range(ntrain_d):\n",
        "                D_train(EnergyDeposit_b, ParticleMomentum_ParticlePoint_ParticlePDG_b,ibatch)\n",
        "            EnergyDeposit_gen = G_train(EnergyDeposit_b, ParticleMomentum_ParticlePoint_ParticlePDG_b,ibatch)\n",
        "            if LIPSITZ_WEIGHTS:                    \n",
        "                [p.data.clamp_(-0.01, 0.01) for p in disc.parameters()]\n",
        "            \n",
        "            if first:\n",
        "            # if ibatch %300 ==1:\n",
        "                prd_auc_ = CalculatePRDScore(EnergyDeposit_b,EnergyDeposit_gen)\n",
        "                prd_auc.append(prd_auc_)\n",
        "                experiment.log_metric(\"PRD_AUC\", prd_auc_,step=epoch)\n",
        "                SaveModels(disc,gen,epoch)\n",
        "                first=False\n",
        "            \n",
        "            clear_output()\n",
        "            if ibatch %50 ==2:\n",
        "                plt.figure(figsize=(15,12))\n",
        "                grid = plt.GridSpec(2, 3, wspace=0.4, hspace=0.3)\n",
        "                event = 0\n",
        "                plt.subplot(grid[0,0])\n",
        "                plt.imshow(EnergyDeposit_b[event][0].cpu().detach().numpy(),vmin=0,origin='lower')\n",
        "                plt.title(\"Momentum: (%f,%f,%f) \\n Position: (%f,%f)\"%(\n",
        "                    ParticleMomentum_ParticlePoint_ParticlePDG_b[event][0],\n",
        "                    ParticleMomentum_ParticlePoint_ParticlePDG_b[event][1],\n",
        "                    ParticleMomentum_ParticlePoint_ParticlePDG_b[event][2],\n",
        "                    ParticleMomentum_ParticlePoint_ParticlePDG_b[event][3],\n",
        "                    ParticleMomentum_ParticlePoint_ParticlePDG_b[event][4]\n",
        "                    )\n",
        "                )\n",
        "                # plt.semilogy(dis_epoch_loss, label='dis_epoch_loss')\n",
        "                # plt.semilogy(gen_epoch_loss, label='gen_epoch_loss')\n",
        "                # plt.legend()\n",
        "                event = 1\n",
        "                plt.subplot(grid[0,1])\n",
        "                plt.imshow(EnergyDeposit_b[event][0].cpu().detach().numpy(),vmin=0,origin='lower')\n",
        "                plt.title(\"Momentum: (%f,%f,%f)\\n Position: (%f,%f)\"%(\n",
        "                    ParticleMomentum_ParticlePoint_ParticlePDG_b[event][0],\n",
        "                    ParticleMomentum_ParticlePoint_ParticlePDG_b[event][1],\n",
        "                    ParticleMomentum_ParticlePoint_ParticlePDG_b[event][2],\n",
        "                    ParticleMomentum_ParticlePoint_ParticlePDG_b[event][3],\n",
        "                    ParticleMomentum_ParticlePoint_ParticlePDG_b[event][4]\n",
        "                    )\n",
        "                )\n",
        "                # plt.hist(predictions_dis[-1], bins=40, label='dis_epoch_loss',color=\"blue\",range=[0,1])\n",
        "                # plt.hist(predictions_gen[-1], bins=40, label='gen_epoch_loss',color=\"orange\",range=[0,1])\n",
        "                # plt.legend()\n",
        "                event = 2\n",
        "                plt.subplot(grid[0,2])\n",
        "                plt.imshow(EnergyDeposit_b[event][0].cpu().detach().numpy(),vmin=0,origin='lower')\n",
        "                plt.title(\"Momentum: (%f,%f,%f)\\n Position: (%f,%f)\"%(\n",
        "                    ParticleMomentum_ParticlePoint_ParticlePDG_b[event][0],\n",
        "                    ParticleMomentum_ParticlePoint_ParticlePDG_b[event][1],\n",
        "                    ParticleMomentum_ParticlePoint_ParticlePDG_b[event][2],\n",
        "                    ParticleMomentum_ParticlePoint_ParticlePDG_b[event][3],\n",
        "                    ParticleMomentum_ParticlePoint_ParticlePDG_b[event][4]\n",
        "                    )\n",
        "                )\n",
        "                # plt.plot(prd_auc, label='prd_auc')\n",
        "                # plt.ylim(0,1)\n",
        "                # plt.legend()\n",
        "\n",
        "                plt.subplot(grid[1, 0])\n",
        "                plt.imshow(EnergyDeposit_gen[0][0].cpu().detach().numpy(),vmin=0,origin='lower')\n",
        "                plt.subplot(grid[1, 1])\n",
        "                plt.imshow(EnergyDeposit_gen[1][0].cpu().detach().numpy(),vmin=0,origin='lower')                \n",
        "                plt.subplot(grid[1, 2])\n",
        "                plt.imshow(EnergyDeposit_gen[2][0].cpu().detach().numpy(),vmin=0,origin='lower')                \n",
        "                \n",
        "                experiment.log_figure(figure_name=\"status%d\"%(ibatch),figure=plt,step =ibatch)\n",
        "                time.sleep(0.5)\n",
        "#             plt.show()\n",
        "            ibatch += 1\n",
        "\n"
      ],
      "execution_count": 0,
      "outputs": []
    },
    {
      "cell_type": "code",
      "metadata": {
        "scrolled": false,
        "id": "zPLcnlKhmDMH",
        "colab_type": "code",
        "colab": {}
      },
      "source": [
        "with experiment.train():\n",
        "    run_training(N_EPOCH)"
      ],
      "execution_count": 0,
      "outputs": []
    },
    {
      "cell_type": "markdown",
      "metadata": {
        "id": "GT2fiNDMmDMJ",
        "colab_type": "text"
      },
      "source": [
        "#### Transfer generator on CPU:"
      ]
    },
    {
      "cell_type": "code",
      "metadata": {
        "id": "CTumKz8smDMK",
        "colab_type": "code",
        "colab": {}
      },
      "source": [
        "generator_cpu = ModelGConvTranspose(z_dim=NOISEIMAGE_DIM,MomentumPointPDGScale = MomentumPointPDGScale,EnergyScale = EnergyDepositScale)\n",
        "# generator_cpu.load_state_dict(gen.state_dict())\n",
        "generator_cpu.load_state_dict(torch.load('/gdrive/My Drive/gan80.pt'))\n",
        "# generator_cpu.eval()"
      ],
      "execution_count": 0,
      "outputs": []
    },
    {
      "cell_type": "markdown",
      "metadata": {
        "id": "RrzMuZGzmDMM",
        "colab_type": "text"
      },
      "source": [
        "### Save model on disk"
      ]
    },
    {
      "cell_type": "code",
      "metadata": {
        "id": "zXwtnaSBmDMM",
        "colab_type": "code",
        "colab": {}
      },
      "source": [
        "torch.save(generator_cpu.state_dict(), './gan_middle.pt')"
      ],
      "execution_count": 0,
      "outputs": []
    },
    {
      "cell_type": "markdown",
      "metadata": {
        "id": "nITR2bZwmDMO",
        "colab_type": "text"
      },
      "source": [
        "## Making predictions"
      ]
    },
    {
      "cell_type": "markdown",
      "metadata": {
        "id": "ihAqZQxvmDMP",
        "colab_type": "text"
      },
      "source": [
        "#### Validation predictions"
      ]
    },
    {
      "cell_type": "code",
      "metadata": {
        "scrolled": true,
        "id": "rVhVrubhmDMP",
        "colab_type": "code",
        "colab": {}
      },
      "source": [
        "data_val = np.load(val_data_path, allow_pickle=True)\n",
        "ParticleMomentum_val = torch.tensor(data_val['ParticleMomentum']).float()\n",
        "ParticlePoint_val = torch.tensor(data_val['ParticlePoint'][:, :2]).float()\n",
        "ParticlePDG_val = torch.tensor(data_val['ParticlePDG'].reshape(-1,1)).float()\n",
        "ParticleMomentum_ParticlePoint_ParticlePDG_val = torch.cat([ParticleMomentum_val, ParticlePoint_val,ParticlePDG_val], dim=1)\n",
        "calo_dataset_val = utils.TensorDataset(ParticleMomentum_ParticlePoint_ParticlePDG_val)\n",
        "calo_dataloader_val = torch.utils.data.DataLoader(calo_dataset_val, batch_size=1024, shuffle=False)\n",
        "\n",
        "with torch.no_grad():\n",
        "    EnergyDeposit_val = []\n",
        "    for ParticleMomentum_ParticlePoint_ParticlePDG_val_batch in tqdm(calo_dataloader_val):\n",
        "        noise = torch.randn(len(ParticleMomentum_ParticlePoint_ParticlePDG_val_batch[0]), NOISEIMAGE_DIM,NOISEIMAGE_DIM)\n",
        "        EnergyDeposit_val_batch = generator_cpu(noise, ParticleMomentum_ParticlePoint_ParticlePDG_val_batch[0]).detach().numpy()\n",
        "        EnergyDeposit_val.append(EnergyDeposit_val_batch)\n",
        "    np.savez_compressed('./data_val_prediction.npz', \n",
        "                        EnergyDeposit=np.concatenate(EnergyDeposit_val, axis=0).reshape(-1, 30, 30))\n",
        "\n",
        "    del EnergyDeposit_val\n",
        "del data_val; del ParticleMomentum_val; del ParticlePoint_val; del ParticleMomentum_ParticlePoint_ParticlePDG_val;\n",
        "del calo_dataset_val; calo_dataloader_val"
      ],
      "execution_count": 0,
      "outputs": []
    },
    {
      "cell_type": "markdown",
      "metadata": {
        "id": "Uz2T9U3-mDMS",
        "colab_type": "text"
      },
      "source": [
        "#### Test predictions"
      ]
    },
    {
      "cell_type": "code",
      "metadata": {
        "id": "666U1Q_smDMS",
        "colab_type": "code",
        "colab": {}
      },
      "source": [
        "data_test = np.load(test_data_path, allow_pickle=True)\n",
        "ParticleMomentum_test = torch.tensor(data_test['ParticleMomentum']).float()\n",
        "ParticlePoint_test = torch.tensor(data_test['ParticlePoint'][:, :2]).float()\n",
        "ParticlePDG_test = torch.tensor(data_test['ParticlePDG'].reshape(-1,1)).float()\n",
        "ParticleMomentum_ParticlePoint_ParticlePDG_test = torch.cat([ParticleMomentum_test, ParticlePoint_test, ParticlePDG_test], dim=1)\n",
        "calo_dataset_test = utils.TensorDataset(ParticleMomentum_ParticlePoint_ParticlePDG_test)\n",
        "calo_dataloader_test = torch.utils.data.DataLoader(calo_dataset_test, batch_size=1024, shuffle=False)\n",
        "\n",
        "with torch.no_grad():\n",
        "    EnergyDeposit_test = []\n",
        "    for ParticleMomentum_ParticlePoint_ParticlePDG_test_batch in tqdm(calo_dataloader_test):\n",
        "        noise = torch.randn(len(ParticleMomentum_ParticlePoint_ParticlePDG_test_batch[0]), NOISE_DIM)\n",
        "        EnergyDeposit_test_batch = generator_cpu(noise, ParticleMomentum_ParticlePoint_ParticlePDG_test_batch[0]).detach().numpy()\n",
        "        EnergyDeposit_test.append(EnergyDeposit_test_batch)\n",
        "    np.savez_compressed('./data_test_prediction.npz', \n",
        "                        EnergyDeposit=np.concatenate(EnergyDeposit_test, axis=0).reshape(-1, 30, 30))\n",
        "\n",
        "    del EnergyDeposit_test\n",
        "del data_test; del ParticleMomentum_test; del ParticlePoint_test; del ParticleMomentum_ParticlePoint_ParticlePDG_test;\n",
        "del calo_dataset_test; calo_dataloader_test"
      ],
      "execution_count": 0,
      "outputs": []
    },
    {
      "cell_type": "markdown",
      "metadata": {
        "id": "_AIKCQMtmDMU",
        "colab_type": "text"
      },
      "source": [
        "## `zip-zip` files together"
      ]
    },
    {
      "cell_type": "code",
      "metadata": {
        "id": "Kvbj0nhzmDMV",
        "colab_type": "code",
        "colab": {}
      },
      "source": [
        "!zip solution.zip data_val_prediction.npz data_test_prediction.npz"
      ],
      "execution_count": 0,
      "outputs": []
    },
    {
      "cell_type": "code",
      "metadata": {
        "id": "bG-4EvGOmDMW",
        "colab_type": "code",
        "colab": {}
      },
      "source": [
        "from IPython.display import FileLink\n",
        "FileLink('./solution.zip')"
      ],
      "execution_count": 0,
      "outputs": []
    },
    {
      "cell_type": "markdown",
      "metadata": {
        "id": "QGp0K2LrmDMY",
        "colab_type": "text"
      },
      "source": [
        "# A few words about metrics"
      ]
    },
    {
      "cell_type": "markdown",
      "metadata": {
        "id": "K_j_38JamDMa",
        "colab_type": "text"
      },
      "source": [
        "### Lets generate some fake data"
      ]
    },
    {
      "cell_type": "code",
      "metadata": {
        "id": "47UHZk7B0Lei",
        "colab_type": "code",
        "colab": {}
      },
      "source": [
        "for EnergyDeposit_b, ParticleMomentum_b, ParticlePoint_b, ParticlePDG_b in validation_loader:\n",
        "    break"
      ],
      "execution_count": 0,
      "outputs": []
    },
    {
      "cell_type": "code",
      "metadata": {
        "id": "0kyqaIyhmDMa",
        "colab_type": "code",
        "colab": {}
      },
      "source": [
        "noise = torch.randn(len(ParticleMomentum_b), NOISE_DIM)\n",
        "with torch.no_grad():\n",
        "    ParticleMomentum_ParticlePoint_ParticlePDG = torch.cat([ParticleMomentum_b, \n",
        "                                                ParticlePoint_b,\n",
        "                                                ParticlePDG_b], dim=1)\n",
        "    EnergyDeposit_gen = generator_cpu(noise, ParticleMomentum_ParticlePoint_ParticlePDG.cpu())"
      ],
      "execution_count": 0,
      "outputs": []
    },
    {
      "cell_type": "code",
      "metadata": {
        "id": "s353zPylmDMc",
        "colab_type": "code",
        "colab": {}
      },
      "source": [
        "EnergyDeposit_gen = EnergyDeposit_gen.detach().cpu().numpy().reshape(-1, 30, 30)\n",
        "EnergyDeposit_b = EnergyDeposit_b.detach().cpu().numpy().reshape(-1, 30, 30)"
      ],
      "execution_count": 0,
      "outputs": []
    },
    {
      "cell_type": "markdown",
      "metadata": {
        "id": "-TD90ylsmDMd",
        "colab_type": "text"
      },
      "source": [
        "#### Plot one image"
      ]
    },
    {
      "cell_type": "code",
      "metadata": {
        "id": "gxhjGZGYmDMe",
        "colab_type": "code",
        "colab": {}
      },
      "source": [
        "plt.figure()\n",
        "plt.imshow(EnergyDeposit_gen[2])\n",
        "plt.colorbar()"
      ],
      "execution_count": 0,
      "outputs": []
    },
    {
      "cell_type": "markdown",
      "metadata": {
        "id": "LTftFOhSmDMg",
        "colab_type": "text"
      },
      "source": [
        "## Calculate PRD score between these batch "
      ]
    },
    {
      "cell_type": "code",
      "metadata": {
        "id": "BWEusQu0mDMg",
        "colab_type": "code",
        "colab": {}
      },
      "source": [
        "class Regressor(nn.Module):\n",
        "    def __init__(self):\n",
        "        super(Regressor, self).__init__()\n",
        "        self.batchnorm0 = nn.BatchNorm2d(1)\n",
        "        self.conv1 = nn.Conv2d(1, 16, 2, stride=2)\n",
        "        self.batchnorm1 = nn.BatchNorm2d(16)\n",
        "        self.conv2 = nn.Conv2d(16, 32, 2, stride=2)\n",
        "        self.batchnorm2 = nn.BatchNorm2d(32)\n",
        "        self.conv3 = nn.Conv2d(32, 64, 2, stride=2)\n",
        "        self.batchnorm3 = nn.BatchNorm2d(64)\n",
        "        self.conv4 = nn.Conv2d(64, 64, 2)\n",
        "        \n",
        "        self.dropout = nn.Dropout(p=0.3)\n",
        "        \n",
        "        self.fc1 = nn.Linear(256, 256) \n",
        "        self.batchnorm4 = nn.BatchNorm1d(256)\n",
        "        self.fc2 = nn.Linear(256, 128)\n",
        "        self.fc3 = nn.Linear(128, 64)\n",
        "        self.fc4 = nn.Linear(64, 2 + 3)\n",
        "        self.fc5 = nn.Linear(64, 1)\n",
        "        \n",
        "    def forward(self, x):\n",
        "        x = self.batchnorm0(self.dropout(x))\n",
        "        x = self.batchnorm1(self.dropout(F.relu(self.conv1(x))))\n",
        "        x = self.batchnorm2(F.relu(self.conv2(x)))\n",
        "        x = self.batchnorm3(F.relu(self.conv3(x)))\n",
        "        x = F.relu(self.conv4(x)) # 64, 5, 5\n",
        "        x = x.view(len(x), -1)\n",
        "        x = self.dropout(x)\n",
        "        x = self.batchnorm4(self.dropout(F.relu(self.fc1(x))))\n",
        "        x = F.leaky_relu(self.fc2(x))\n",
        "        x = torch.tanh(self.fc3(x))\n",
        "        return self.fc4(x), self.fc5(x)\n",
        "    \n",
        "    def get_encoding(self, x):\n",
        "        x = self.batchnorm0(self.dropout(x))\n",
        "        x = self.batchnorm1(self.dropout(F.relu(self.conv1(x))))\n",
        "        x = self.batchnorm2(F.relu(self.conv2(x)))\n",
        "        x = self.batchnorm3(F.relu(self.conv3(x)))\n",
        "        x = F.relu(self.conv4(x)) # 64, 5, 5\n",
        "        x = x.view(len(x), -1)\n",
        "        x = self.dropout(x)\n",
        "        x = self.batchnorm4(self.dropout(F.relu(self.fc1(x))))\n",
        "        x = F.leaky_relu(self.fc2(x))\n",
        "        x = self.fc3(x)\n",
        "        return x\n",
        "    \n",
        "\n",
        "def load_embedder(path):\n",
        "    embedder = torch.load(path)\n",
        "    embedder.eval()\n",
        "    return embedder\n",
        "\n",
        "embedder = load_embedder('./embedder.tp')"
      ],
      "execution_count": 0,
      "outputs": []
    },
    {
      "cell_type": "code",
      "metadata": {
        "id": "Yd63IOwVmDMi",
        "colab_type": "code",
        "colab": {}
      },
      "source": [
        "data_real = embedder.get_encoding(torch.tensor(EnergyDeposit_b).float().view(-1, 1, 30, 30)).detach().numpy()\n",
        "data_fake = embedder.get_encoding(torch.tensor(EnergyDeposit_gen).float().view(-1, 1, 30, 30)).detach().numpy()"
      ],
      "execution_count": 0,
      "outputs": []
    },
    {
      "cell_type": "code",
      "metadata": {
        "id": "cGM2uI_qmDMj",
        "colab_type": "code",
        "colab": {}
      },
      "source": [
        "def plot_pr_aucs(precisions, recalls):\n",
        "    plt.figure(figsize=(12, 12))\n",
        "    pr_aucs = []\n",
        "    for i in range(len(recalls)):\n",
        "        plt.step(recalls[i], precisions[i], color='b', alpha=0.2,  label='PR-AUC={}'.format(auc(precisions[i], recalls[i])))\n",
        "        pr_aucs.append(auc(precisions[i], recalls[i]))\n",
        "    plt.step(np.mean(recalls, axis=0), np.mean(precisions, axis=0), color='r', alpha=1,  label='average')\n",
        "    plt.fill_between(np.mean(recalls, axis=0), \n",
        "                     np.mean(precisions, axis=0) - np.std(precisions, axis=0) * 3,\n",
        "                     np.mean(precisions, axis=0) + np.std(precisions, axis=0) * 3, color='g', alpha=0.2,  label='std')\n",
        "\n",
        "    plt.xlabel('Recall')\n",
        "    plt.ylabel('Precision')\n",
        "\n",
        "    # plt.ylim([0.0, 1.05])\n",
        "    # plt.xlim([0.0, 1.0])\n",
        "    print(np.mean(pr_aucs), np.std(pr_aucs))\n",
        "    plt.legend()\n",
        "    \n",
        "    return pr_aucs\n",
        "\n",
        "def calc_pr_rec(data_real, data_fake, num_clusters=20, num_runs=10, NUM_RUNS=10):\n",
        "    precisions = []\n",
        "    recalls = []\n",
        "    for i in tqdm(range(NUM_RUNS)):\n",
        "        precision, recall = compute_prd_from_embedding(data_real, data_fake, num_clusters=num_clusters, num_runs=num_runs)\n",
        "        precisions.append(precision)\n",
        "        recalls.append(recall)\n",
        "    return precisions, recalls"
      ],
      "execution_count": 0,
      "outputs": []
    },
    {
      "cell_type": "code",
      "metadata": {
        "id": "9NApjdKVmDMl",
        "colab_type": "code",
        "colab": {}
      },
      "source": [
        "precisions, recalls = calc_pr_rec(data_real, data_fake, num_clusters=100, num_runs=20)"
      ],
      "execution_count": 0,
      "outputs": []
    },
    {
      "cell_type": "code",
      "metadata": {
        "id": "L0D4-j__mDMp",
        "colab_type": "code",
        "colab": {}
      },
      "source": [
        "pr_aucs = plot_pr_aucs(precisions, recalls)\n",
        "plt.title('Num_clusters={}, num_runs={}, first third'.format(100, 20))\n",
        "plt.show()"
      ],
      "execution_count": 0,
      "outputs": []
    },
    {
      "cell_type": "code",
      "metadata": {
        "id": "erF_MpJ_mDMq",
        "colab_type": "code",
        "colab": {}
      },
      "source": [
        "pr_aucs"
      ],
      "execution_count": 0,
      "outputs": []
    },
    {
      "cell_type": "markdown",
      "metadata": {
        "id": "jXkiQuGlmDMs",
        "colab_type": "text"
      },
      "source": [
        "## Physical metrics"
      ]
    },
    {
      "cell_type": "code",
      "metadata": {
        "id": "CI_33EaxmDMt",
        "colab_type": "code",
        "colab": {}
      },
      "source": [
        "import matplotlib.lines as mlines\n",
        "def newline(p1, p2):\n",
        "    ax = plt.gca()\n",
        "    xmin, xmax = ax.get_xbound()\n",
        "\n",
        "    if(p2[0] == p1[0]):\n",
        "        xmin = xmax = p1[0]\n",
        "        ymin, ymax = ax.get_ybound()\n",
        "    else:\n",
        "        ymax = p1[1]+(p2[1]-p1[1])/(p2[0]-p1[0])*(xmax-p1[0])\n",
        "        ymin = p1[1]+(p2[1]-p1[1])/(p2[0]-p1[0])*(xmin-p1[0])\n",
        "\n",
        "    l = mlines.Line2D([xmin,xmax], [ymin,ymax])\n",
        "    ax.add_line(l)\n",
        "    return l\n",
        "\n",
        "def plot_axes_for_shower(ecal, point, p):\n",
        "    x = np.linspace(-14.5, 14.5, 30)\n",
        "    y = np.linspace(-14.5, 14.5, 30)\n",
        "\n",
        "    xx, yy = np.meshgrid(x, y)\n",
        "    zoff = 25.\n",
        "    ipic = 3\n",
        "    orth = np.array([-p[1], p[0]])\n",
        "\n",
        "    pref = point[:2] + p[:2] * zoff / p[2]\n",
        "\n",
        "    p1 = pref - 10 * p[:2]\n",
        "    p2 = pref + 10 * p[:2]\n",
        "    p3 = pref - 10 * orth\n",
        "    p4 = pref + 10 * orth\n",
        "\n",
        "    plt.contourf(xx, yy, np.log(ecal + 1), cmap=plt.cm.inferno)\n",
        "    newline(p1, p2)\n",
        "    newline(p3, p4)\n",
        "    plt.colorbar()"
      ],
      "execution_count": 0,
      "outputs": []
    },
    {
      "cell_type": "code",
      "metadata": {
        "id": "nR08nJ9gmDMv",
        "colab_type": "code",
        "colab": {}
      },
      "source": [
        "idx = 2\n",
        "plot_axes_for_shower(EnergyDeposit[idx], point=ParticlePoint[idx].detach().numpy(),\n",
        "                     p=ParticleMomentum[idx].detach().numpy())"
      ],
      "execution_count": 0,
      "outputs": []
    },
    {
      "cell_type": "code",
      "metadata": {
        "id": "HUCqH0_SmDMz",
        "colab_type": "code",
        "colab": {}
      },
      "source": [
        "from calogan_metrics import get_assymetry, get_shower_width, get_sparsity_level"
      ],
      "execution_count": 0,
      "outputs": []
    },
    {
      "cell_type": "code",
      "metadata": {
        "id": "zbvzfsYUmDM0",
        "colab_type": "code",
        "colab": {}
      },
      "source": [
        "assym = get_assymetry(EnergyDeposit, ParticleMomentum.detach().numpy(), ParticlePoint.detach().numpy(), orthog=False)\n",
        "assym_ortho = get_assymetry(EnergyDeposit, ParticleMomentum.detach().numpy(), ParticlePoint.detach().numpy(), orthog=True)\n",
        "sh_width = get_shower_width(EnergyDeposit, ParticleMomentum.detach().numpy(), ParticlePoint.detach().numpy(), orthog=False)\n",
        "sh_width_ortho = get_shower_width(EnergyDeposit, ParticleMomentum.detach().numpy(), ParticlePoint.detach().numpy(), orthog=True)\n",
        "sparsity_level = get_sparsity_level(EnergyDeposit)"
      ],
      "execution_count": 0,
      "outputs": []
    },
    {
      "cell_type": "markdown",
      "metadata": {
        "id": "2eJLvn3EmDM2",
        "colab_type": "text"
      },
      "source": [
        "## Longitudual cluster asymmetry"
      ]
    },
    {
      "cell_type": "code",
      "metadata": {
        "id": "NEORbnE7mDM2",
        "colab_type": "code",
        "colab": {}
      },
      "source": [
        "sns.set(font_scale=2)\n",
        "plt.hist(assym, bins=50, range=[-1, 1], color='red', alpha=0.3, normed=True, label='MC');\n",
        "plt.xlabel('Longitudual cluster asymmetry')\n",
        "plt.legend(loc='best')"
      ],
      "execution_count": 0,
      "outputs": []
    },
    {
      "cell_type": "markdown",
      "metadata": {
        "id": "15wFghYcmDM3",
        "colab_type": "text"
      },
      "source": [
        "## Transverse cluster asymmetry"
      ]
    },
    {
      "cell_type": "code",
      "metadata": {
        "id": "vfge5LTMmDM4",
        "colab_type": "code",
        "colab": {}
      },
      "source": [
        "sns.set(font_scale=2)\n",
        "plt.hist(assym_ortho, bins=50, range=[-1, 1], color='red', alpha=0.3, normed=True, label='MC');\n",
        "plt.xlabel('Transverse cluster asymmetry')\n",
        "plt.legend(loc='best')"
      ],
      "execution_count": 0,
      "outputs": []
    },
    {
      "cell_type": "markdown",
      "metadata": {
        "id": "H4lWh8VAmDM5",
        "colab_type": "text"
      },
      "source": [
        "## Cluster longitudual width"
      ]
    },
    {
      "cell_type": "code",
      "metadata": {
        "id": "xB27rAtImDM6",
        "colab_type": "code",
        "colab": {}
      },
      "source": [
        "plt.hist(sh_width, bins=50, range=[0, 15], normed=True, alpha=0.3, color='red', label='MC');\n",
        "plt.title('Shower longitudial width')\n",
        "plt.legend(loc='best')\n",
        "plt.xlabel('Cluster longitudual width [cm]')\n",
        "plt.ylabel('Arbitrary units')"
      ],
      "execution_count": 0,
      "outputs": []
    },
    {
      "cell_type": "markdown",
      "metadata": {
        "id": "gC-HiFBamDM7",
        "colab_type": "text"
      },
      "source": [
        "## Cluster trasverse width"
      ]
    },
    {
      "cell_type": "code",
      "metadata": {
        "id": "dBIu8gwLmDM9",
        "colab_type": "code",
        "colab": {}
      },
      "source": [
        "plt.hist(sh_width_ortho, bins=50, range=[0,10], normed=True, alpha=0.3, color='blue', label='MC');\n",
        "#plt.title('Shower transverse width')\n",
        "plt.legend(loc='best')\n",
        "plt.xlabel('Cluster trasverse width [cm]')\n",
        "plt.ylabel('Arbitrary units')"
      ],
      "execution_count": 0,
      "outputs": []
    },
    {
      "cell_type": "markdown",
      "metadata": {
        "id": "8pFbBYvOmDNA",
        "colab_type": "text"
      },
      "source": [
        "## Sparsity"
      ]
    },
    {
      "cell_type": "code",
      "metadata": {
        "id": "ob53fPO_mDNA",
        "colab_type": "code",
        "colab": {}
      },
      "source": [
        "alphas = np.log(np.logspace(-5, -1, 20))\n",
        "means_r = np.mean(sparsity_level, axis=1)\n",
        "stddev_r = np.std(sparsity_level, axis=1)"
      ],
      "execution_count": 0,
      "outputs": []
    },
    {
      "cell_type": "code",
      "metadata": {
        "id": "QygKaRldmDNB",
        "colab_type": "code",
        "colab": {}
      },
      "source": [
        "plt.plot(alphas, means_r, color='red')\n",
        "plt.fill_between(alphas, means_r-stddev_r, means_r+stddev_r, color='red', alpha=0.3)\n",
        "plt.legend(['MC'])\n",
        "plt.title('Sparsity')\n",
        "plt.xlabel('log10(Threshold/GeV)')\n",
        "plt.ylabel('Fraction of cells above threshold')"
      ],
      "execution_count": 0,
      "outputs": []
    },
    {
      "cell_type": "code",
      "metadata": {
        "id": "5-imUBMEmDND",
        "colab_type": "code",
        "colab": {}
      },
      "source": [
        "from calogan_metrics import get_physical_stats\n",
        "real_phys_stats = get_physical_stats(EnergyDeposit, ParticleMomentum.detach().numpy(), ParticlePoint.detach().numpy())\n",
        "gen_phys_stats = get_physical_stats(EnergyDeposit_gen, ParticleMomentum.detach().numpy(), ParticlePoint.detach().numpy())"
      ],
      "execution_count": 0,
      "outputs": []
    },
    {
      "cell_type": "code",
      "metadata": {
        "id": "wp_s9vGcmDNE",
        "colab_type": "code",
        "colab": {}
      },
      "source": [
        "precisions, recalls = calc_pr_rec(real_phys_stats, gen_phys_stats, num_clusters=100, num_runs=20)"
      ],
      "execution_count": 0,
      "outputs": []
    },
    {
      "cell_type": "code",
      "metadata": {
        "id": "Btvs99JKmDNI",
        "colab_type": "code",
        "colab": {}
      },
      "source": [
        "pr_aucs = plot_pr_aucs(precisions, recalls)\n",
        "plt.title('Num_clusters={}, num_runs={}, first third'.format(100, 20))\n",
        "plt.show()"
      ],
      "execution_count": 0,
      "outputs": []
    },
    {
      "cell_type": "code",
      "metadata": {
        "id": "uOyBgN-4mDNJ",
        "colab_type": "code",
        "colab": {}
      },
      "source": [
        "pr_aucs"
      ],
      "execution_count": 0,
      "outputs": []
    }
  ]
}