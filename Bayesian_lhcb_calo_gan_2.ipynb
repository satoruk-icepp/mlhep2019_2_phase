{
  "nbformat": 4,
  "nbformat_minor": 0,
  "metadata": {
    "colab": {
      "name": "Bayesian_lhcb_calo_gan_2.ipynb",
      "version": "0.3.2",
      "provenance": [],
      "collapsed_sections": [],
      "toc_visible": true,
      "include_colab_link": true
    },
    "language_info": {
      "codemirror_mode": {
        "name": "ipython",
        "version": 3
      },
      "file_extension": ".py",
      "mimetype": "text/x-python",
      "name": "python",
      "nbconvert_exporter": "python",
      "pygments_lexer": "ipython3",
      "version": "3.6.8"
    },
    "kernelspec": {
      "name": "python3",
      "display_name": "Python 3"
    },
    "accelerator": "GPU"
  },
  "cells": [
    {
      "cell_type": "markdown",
      "metadata": {
        "id": "view-in-github",
        "colab_type": "text"
      },
      "source": [
        "<a href=\"https://colab.research.google.com/github/satoruk-icepp/mlhep2019_2_phase/blob/master/Bayesian_lhcb_calo_gan_2.ipynb\" target=\"_parent\"><img src=\"https://colab.research.google.com/assets/colab-badge.svg\" alt=\"Open In Colab\"/></a>"
      ]
    },
    {
      "cell_type": "code",
      "metadata": {
        "id": "giyM_o8bmDLI",
        "colab_type": "code",
        "outputId": "6b5b5315-4e14-4c9c-8caa-112f512cccfd",
        "colab": {
          "base_uri": "https://localhost:8080/",
          "height": 121
        }
      },
      "source": [
        "from google.colab import drive\n",
        "drive.mount('/gdrive')"
      ],
      "execution_count": 0,
      "outputs": [
        {
          "output_type": "stream",
          "text": [
            "Go to this URL in a browser: https://accounts.google.com/o/oauth2/auth?client_id=947318989803-6bn6qk8qdgf4n4g3pfee6491hc0brc4i.apps.googleusercontent.com&redirect_uri=urn%3Aietf%3Awg%3Aoauth%3A2.0%3Aoob&scope=email%20https%3A%2F%2Fwww.googleapis.com%2Fauth%2Fdocs.test%20https%3A%2F%2Fwww.googleapis.com%2Fauth%2Fdrive%20https%3A%2F%2Fwww.googleapis.com%2Fauth%2Fdrive.photos.readonly%20https%3A%2F%2Fwww.googleapis.com%2Fauth%2Fpeopleapi.readonly&response_type=code\n",
            "\n",
            "Enter your authorization code:\n",
            "··········\n",
            "Mounted at /gdrive\n"
          ],
          "name": "stdout"
        }
      ]
    },
    {
      "cell_type": "code",
      "metadata": {
        "id": "Ud8PAMb2mDK9",
        "colab_type": "code",
        "outputId": "3e00af47-6bd5-43eb-c15d-7051922a6a41",
        "colab": {
          "base_uri": "https://localhost:8080/",
          "height": 1000
        }
      },
      "source": [
        "! wget https://raw.githubusercontent.com/SchattenGenie/mlhep2019_2_phase/master/analysis/calogan_metrics.py -nc\n",
        "! wget https://raw.githubusercontent.com/SchattenGenie/mlhep2019_2_phase/master/analysis/prd_score.py -nc\n",
        "! wget https://raw.githubusercontent.com/SchattenGenie/mlhep2019_2_phase/master/analysis/score.py -nc\n",
        "! wget https://github.com/satoruk-icepp/mlhep2019_2_phase/raw/master/analysis/embedder.tp -nc\n",
        "! wget https://github.com/satoruk-icepp/mlhep2019_2_phase/raw/master/generator.py -P /content/ -O generator.py\n",
        "! wget https://github.com/satoruk-icepp/mlhep2019_2_phase/raw/master/discriminator.py -P /content/ -O discriminator.py\n",
        "! wget https://github.com/satoruk-icepp/mlhep2019_2_phase/raw/master/analysis/Normalization.py -P /content/ -O Normalization.py\n",
        "! wget https://github.com/satoruk-icepp/mlhep2019_2_phase/raw/master/analysis/bayes.py -P /content/ -O bayes.py\n",
        "! wget https://github.com/satoruk-icepp/mlhep2019_2_phase/raw/master/Label2Image.py -P /content/ -O Label2Image.py\n",
        "! wget https://github.com/satoruk-icepp/mlhep2019_2_phase/raw/master/Regressor.py -P /content/ -O Regressor.py\n",
        "! wget https://github.com/satoruk-icepp/mlhep2019_2_phase/raw/master/NetworkUtil.py -P /content/ -O NetworkUtil.py"
      ],
      "execution_count": 0,
      "outputs": [
        {
          "output_type": "stream",
          "text": [
            "--2019-08-28 08:46:26--  https://raw.githubusercontent.com/SchattenGenie/mlhep2019_2_phase/master/analysis/calogan_metrics.py\n",
            "Resolving raw.githubusercontent.com (raw.githubusercontent.com)... 151.101.0.133, 151.101.64.133, 151.101.128.133, ...\n",
            "Connecting to raw.githubusercontent.com (raw.githubusercontent.com)|151.101.0.133|:443... connected.\n",
            "HTTP request sent, awaiting response... 200 OK\n",
            "Length: 4115 (4.0K) [text/plain]\n",
            "Saving to: ‘calogan_metrics.py’\n",
            "\n",
            "\rcalogan_metrics.py    0%[                    ]       0  --.-KB/s               \rcalogan_metrics.py  100%[===================>]   4.02K  --.-KB/s    in 0s      \n",
            "\n",
            "2019-08-28 08:46:26 (133 MB/s) - ‘calogan_metrics.py’ saved [4115/4115]\n",
            "\n",
            "--2019-08-28 08:46:27--  https://raw.githubusercontent.com/SchattenGenie/mlhep2019_2_phase/master/analysis/prd_score.py\n",
            "Resolving raw.githubusercontent.com (raw.githubusercontent.com)... 151.101.0.133, 151.101.64.133, 151.101.128.133, ...\n",
            "Connecting to raw.githubusercontent.com (raw.githubusercontent.com)|151.101.0.133|:443... connected.\n",
            "HTTP request sent, awaiting response... 200 OK\n",
            "Length: 12426 (12K) [text/plain]\n",
            "Saving to: ‘prd_score.py’\n",
            "\n",
            "prd_score.py        100%[===================>]  12.13K  --.-KB/s    in 0s      \n",
            "\n",
            "2019-08-28 08:46:27 (142 MB/s) - ‘prd_score.py’ saved [12426/12426]\n",
            "\n",
            "--2019-08-28 08:46:29--  https://raw.githubusercontent.com/SchattenGenie/mlhep2019_2_phase/master/analysis/score.py\n",
            "Resolving raw.githubusercontent.com (raw.githubusercontent.com)... 151.101.0.133, 151.101.64.133, 151.101.128.133, ...\n",
            "Connecting to raw.githubusercontent.com (raw.githubusercontent.com)|151.101.0.133|:443... connected.\n",
            "HTTP request sent, awaiting response... 200 OK\n",
            "Length: 7642 (7.5K) [text/plain]\n",
            "Saving to: ‘score.py’\n",
            "\n",
            "score.py            100%[===================>]   7.46K  --.-KB/s    in 0s      \n",
            "\n",
            "2019-08-28 08:46:29 (109 MB/s) - ‘score.py’ saved [7642/7642]\n",
            "\n",
            "--2019-08-28 08:46:30--  https://github.com/satoruk-icepp/mlhep2019_2_phase/raw/master/analysis/embedder.tp\n",
            "Resolving github.com (github.com)... 140.82.114.3\n",
            "Connecting to github.com (github.com)|140.82.114.3|:443... connected.\n",
            "HTTP request sent, awaiting response... 302 Found\n",
            "Location: https://raw.githubusercontent.com/satoruk-icepp/mlhep2019_2_phase/master/analysis/embedder.tp [following]\n",
            "--2019-08-28 08:46:30--  https://raw.githubusercontent.com/satoruk-icepp/mlhep2019_2_phase/master/analysis/embedder.tp\n",
            "Resolving raw.githubusercontent.com (raw.githubusercontent.com)... 151.101.0.133, 151.101.64.133, 151.101.128.133, ...\n",
            "Connecting to raw.githubusercontent.com (raw.githubusercontent.com)|151.101.0.133|:443... connected.\n",
            "HTTP request sent, awaiting response... 200 OK\n",
            "Length: 569697 (556K) [application/octet-stream]\n",
            "Saving to: ‘embedder.tp’\n",
            "\n",
            "embedder.tp         100%[===================>] 556.34K  --.-KB/s    in 0.05s   \n",
            "\n",
            "2019-08-28 08:46:30 (10.7 MB/s) - ‘embedder.tp’ saved [569697/569697]\n",
            "\n",
            "--2019-08-28 08:46:31--  https://github.com/satoruk-icepp/mlhep2019_2_phase/raw/master/generator.py\n",
            "Resolving github.com (github.com)... 140.82.114.3\n",
            "Connecting to github.com (github.com)|140.82.114.3|:443... connected.\n",
            "HTTP request sent, awaiting response... 302 Found\n",
            "Location: https://raw.githubusercontent.com/satoruk-icepp/mlhep2019_2_phase/master/generator.py [following]\n",
            "--2019-08-28 08:46:31--  https://raw.githubusercontent.com/satoruk-icepp/mlhep2019_2_phase/master/generator.py\n",
            "Resolving raw.githubusercontent.com (raw.githubusercontent.com)... 151.101.0.133, 151.101.64.133, 151.101.128.133, ...\n",
            "Connecting to raw.githubusercontent.com (raw.githubusercontent.com)|151.101.0.133|:443... connected.\n",
            "HTTP request sent, awaiting response... 200 OK\n",
            "Length: 3843 (3.8K) [text/plain]\n",
            "Saving to: ‘generator.py’\n",
            "\n",
            ".py                 100%[===================>]   3.75K  --.-KB/s    in 0s      \n",
            "\n",
            "2019-08-28 08:46:31 (11.3 MB/s) - ‘generator.py’ saved [3843/3843]\n",
            "\n",
            "--2019-08-28 08:46:34--  https://github.com/satoruk-icepp/mlhep2019_2_phase/raw/master/discriminator.py\n",
            "Resolving github.com (github.com)... 140.82.114.3\n",
            "Connecting to github.com (github.com)|140.82.114.3|:443... connected.\n",
            "HTTP request sent, awaiting response... 302 Found\n",
            "Location: https://raw.githubusercontent.com/satoruk-icepp/mlhep2019_2_phase/master/discriminator.py [following]\n",
            "--2019-08-28 08:46:34--  https://raw.githubusercontent.com/satoruk-icepp/mlhep2019_2_phase/master/discriminator.py\n",
            "Resolving raw.githubusercontent.com (raw.githubusercontent.com)... 151.101.0.133, 151.101.64.133, 151.101.128.133, ...\n",
            "Connecting to raw.githubusercontent.com (raw.githubusercontent.com)|151.101.0.133|:443... connected.\n",
            "HTTP request sent, awaiting response... 200 OK\n",
            "Length: 11668 (11K) [text/plain]\n",
            "Saving to: ‘discriminator.py’\n",
            "\n",
            "ator.py             100%[===================>]  11.39K  --.-KB/s    in 0s      \n",
            "\n",
            "2019-08-28 08:46:34 (140 MB/s) - ‘discriminator.py’ saved [11668/11668]\n",
            "\n",
            "--2019-08-28 08:46:35--  https://github.com/satoruk-icepp/mlhep2019_2_phase/raw/master/analysis/Normalization.py\n",
            "Resolving github.com (github.com)... 140.82.114.3\n",
            "Connecting to github.com (github.com)|140.82.114.3|:443... connected.\n",
            "HTTP request sent, awaiting response... 302 Found\n",
            "Location: https://raw.githubusercontent.com/satoruk-icepp/mlhep2019_2_phase/master/analysis/Normalization.py [following]\n",
            "--2019-08-28 08:46:35--  https://raw.githubusercontent.com/satoruk-icepp/mlhep2019_2_phase/master/analysis/Normalization.py\n",
            "Resolving raw.githubusercontent.com (raw.githubusercontent.com)... 151.101.0.133, 151.101.64.133, 151.101.128.133, ...\n",
            "Connecting to raw.githubusercontent.com (raw.githubusercontent.com)|151.101.0.133|:443... connected.\n",
            "HTTP request sent, awaiting response... 200 OK\n",
            "Length: 261 [text/plain]\n",
            "Saving to: ‘Normalization.py’\n",
            "\n",
            "tion.py             100%[===================>]     261  --.-KB/s    in 0s      \n",
            "\n",
            "2019-08-28 08:46:35 (48.1 MB/s) - ‘Normalization.py’ saved [261/261]\n",
            "\n",
            "--2019-08-28 08:46:36--  https://github.com/satoruk-icepp/mlhep2019_2_phase/raw/master/analysis/bayes.py\n",
            "Resolving github.com (github.com)... 140.82.114.3\n",
            "Connecting to github.com (github.com)|140.82.114.3|:443... connected.\n",
            "HTTP request sent, awaiting response... 302 Found\n",
            "Location: https://raw.githubusercontent.com/satoruk-icepp/mlhep2019_2_phase/master/analysis/bayes.py [following]\n",
            "--2019-08-28 08:46:36--  https://raw.githubusercontent.com/satoruk-icepp/mlhep2019_2_phase/master/analysis/bayes.py\n",
            "Resolving raw.githubusercontent.com (raw.githubusercontent.com)... 151.101.0.133, 151.101.64.133, 151.101.128.133, ...\n",
            "Connecting to raw.githubusercontent.com (raw.githubusercontent.com)|151.101.0.133|:443... connected.\n",
            "HTTP request sent, awaiting response... 200 OK\n",
            "Length: 1555 (1.5K) [text/plain]\n",
            "Saving to: ‘bayes.py’\n",
            "\n",
            "m                   100%[===================>]   1.52K  --.-KB/s    in 0s      \n",
            "\n",
            "2019-08-28 08:46:37 (267 MB/s) - ‘bayes.py’ saved [1555/1555]\n",
            "\n",
            "--2019-08-28 08:46:37--  https://github.com/satoruk-icepp/mlhep2019_2_phase/raw/master/Label2Image.py\n",
            "Resolving github.com (github.com)... 140.82.114.3\n",
            "Connecting to github.com (github.com)|140.82.114.3|:443... connected.\n",
            "HTTP request sent, awaiting response... 302 Found\n",
            "Location: https://raw.githubusercontent.com/satoruk-icepp/mlhep2019_2_phase/master/Label2Image.py [following]\n",
            "--2019-08-28 08:46:38--  https://raw.githubusercontent.com/satoruk-icepp/mlhep2019_2_phase/master/Label2Image.py\n",
            "Resolving raw.githubusercontent.com (raw.githubusercontent.com)... 151.101.0.133, 151.101.64.133, 151.101.128.133, ...\n",
            "Connecting to raw.githubusercontent.com (raw.githubusercontent.com)|151.101.0.133|:443... connected.\n",
            "HTTP request sent, awaiting response... 200 OK\n",
            "Length: 394 [text/plain]\n",
            "Saving to: ‘Label2Image.py’\n",
            "\n",
            "ge.py               100%[===================>]     394  --.-KB/s    in 0s      \n",
            "\n",
            "2019-08-28 08:46:38 (67.4 MB/s) - ‘Label2Image.py’ saved [394/394]\n",
            "\n",
            "--2019-08-28 08:46:39--  https://github.com/satoruk-icepp/mlhep2019_2_phase/raw/master/Regressor.py\n",
            "Resolving github.com (github.com)... 140.82.114.3\n",
            "Connecting to github.com (github.com)|140.82.114.3|:443... connected.\n",
            "HTTP request sent, awaiting response... 302 Found\n",
            "Location: https://raw.githubusercontent.com/satoruk-icepp/mlhep2019_2_phase/master/Regressor.py [following]\n",
            "--2019-08-28 08:46:39--  https://raw.githubusercontent.com/satoruk-icepp/mlhep2019_2_phase/master/Regressor.py\n",
            "Resolving raw.githubusercontent.com (raw.githubusercontent.com)... 151.101.0.133, 151.101.64.133, 151.101.128.133, ...\n",
            "Connecting to raw.githubusercontent.com (raw.githubusercontent.com)|151.101.0.133|:443... connected.\n",
            "HTTP request sent, awaiting response... 200 OK\n",
            "Length: 1961 (1.9K) [text/plain]\n",
            "Saving to: ‘Regressor.py’\n",
            "\n",
            ".py                 100%[===================>]   1.92K  --.-KB/s    in 0s      \n",
            "\n",
            "2019-08-28 08:46:39 (32.2 MB/s) - ‘Regressor.py’ saved [1961/1961]\n",
            "\n",
            "--2019-08-28 08:46:40--  https://github.com/satoruk-icepp/mlhep2019_2_phase/raw/master/NetworkUtil.py\n",
            "Resolving github.com (github.com)... 140.82.114.3\n",
            "Connecting to github.com (github.com)|140.82.114.3|:443... connected.\n",
            "HTTP request sent, awaiting response... 302 Found\n",
            "Location: https://raw.githubusercontent.com/satoruk-icepp/mlhep2019_2_phase/master/NetworkUtil.py [following]\n",
            "--2019-08-28 08:46:40--  https://raw.githubusercontent.com/satoruk-icepp/mlhep2019_2_phase/master/NetworkUtil.py\n",
            "Resolving raw.githubusercontent.com (raw.githubusercontent.com)... 151.101.0.133, 151.101.64.133, 151.101.128.133, ...\n",
            "Connecting to raw.githubusercontent.com (raw.githubusercontent.com)|151.101.0.133|:443... connected.\n",
            "HTTP request sent, awaiting response... 200 OK\n",
            "Length: 1821 (1.8K) [text/plain]\n",
            "Saving to: ‘NetworkUtil.py’\n",
            "\n",
            "il.py               100%[===================>]   1.78K  --.-KB/s    in 0s      \n",
            "\n",
            "2019-08-28 08:46:40 (236 MB/s) - ‘NetworkUtil.py’ saved [1821/1821]\n",
            "\n"
          ],
          "name": "stdout"
        }
      ]
    },
    {
      "cell_type": "code",
      "metadata": {
        "id": "UXxnaK7TH6vO",
        "colab_type": "code",
        "outputId": "0ddb0afb-bc2f-4adc-8dc6-79ffb0af1e0c",
        "colab": {
          "base_uri": "https://localhost:8080/",
          "height": 34
        }
      },
      "source": [
        "%%writefile .comet.config\n",
        "[comet]\n",
        "api_key=mIel5ZAPOioTs0Cij75dSSQXs\n",
        "logging_file = /tmp/comet.log\n",
        "logging_file_level = info\n"
      ],
      "execution_count": 0,
      "outputs": [
        {
          "output_type": "stream",
          "text": [
            "Writing .comet.config\n"
          ],
          "name": "stdout"
        }
      ]
    },
    {
      "cell_type": "code",
      "metadata": {
        "id": "ZlDzipgxH9kV",
        "colab_type": "code",
        "outputId": "90f2d445-8f1b-4460-e174-f15e2e06dd32",
        "colab": {
          "base_uri": "https://localhost:8080/",
          "height": 726
        }
      },
      "source": [
        "! [ ! -z \"$COLAB_GPU\" ] && pip install skorch comet_ml"
      ],
      "execution_count": 0,
      "outputs": [
        {
          "output_type": "stream",
          "text": [
            "Collecting skorch\n",
            "\u001b[?25l  Downloading https://files.pythonhosted.org/packages/c7/df/1e0be91bf4c91fce5f99cc4edd89d3dfc16930d3fc77588493558036a8d2/skorch-0.6.0-py3-none-any.whl (101kB)\n",
            "\u001b[K     |████████████████████████████████| 102kB 3.3MB/s \n",
            "\u001b[?25hCollecting comet_ml\n",
            "\u001b[?25l  Downloading https://files.pythonhosted.org/packages/5a/d4/88a8662bdcff33b828236f39ffb1d45c5c9205ddafb7746e88fab05e9f39/comet_ml-2.0.10-py3-none-any.whl (128kB)\n",
            "\u001b[K     |████████████████████████████████| 133kB 41.4MB/s \n",
            "\u001b[?25hRequirement already satisfied: scipy>=1.1.0 in /usr/local/lib/python3.6/dist-packages (from skorch) (1.3.1)\n",
            "Requirement already satisfied: numpy>=1.13.3 in /usr/local/lib/python3.6/dist-packages (from skorch) (1.16.4)\n",
            "Requirement already satisfied: scikit-learn>=0.19.1 in /usr/local/lib/python3.6/dist-packages (from skorch) (0.21.3)\n",
            "Requirement already satisfied: tqdm>=4.14.0 in /usr/local/lib/python3.6/dist-packages (from skorch) (4.28.1)\n",
            "Requirement already satisfied: tabulate>=0.7.7 in /usr/local/lib/python3.6/dist-packages (from skorch) (0.8.3)\n",
            "Requirement already satisfied: nvidia-ml-py3>=7.352.0 in /usr/local/lib/python3.6/dist-packages (from comet_ml) (7.352.0)\n",
            "Requirement already satisfied: requests>=2.18.4 in /usr/local/lib/python3.6/dist-packages (from comet_ml) (2.21.0)\n",
            "Collecting everett[ini]>=1.0.1; python_version >= \"3.0\" (from comet_ml)\n",
            "  Downloading https://files.pythonhosted.org/packages/12/34/de70a3d913411e40ce84966f085b5da0c6df741e28c86721114dd290aaa0/everett-1.0.2-py2.py3-none-any.whl\n",
            "Collecting comet-git-pure>=0.19.11 (from comet_ml)\n",
            "\u001b[?25l  Downloading https://files.pythonhosted.org/packages/48/ae/a3d9b28e1d909bddbdba8ef7c331542614f3bf9fbba31bd4380c3294c569/comet_git_pure-0.19.11-py3-none-any.whl (383kB)\n",
            "\u001b[K     |████████████████████████████████| 389kB 36.4MB/s \n",
            "\u001b[?25hRequirement already satisfied: jsonschema>=2.6.0 in /usr/local/lib/python3.6/dist-packages (from comet_ml) (2.6.0)\n",
            "Requirement already satisfied: six in /usr/local/lib/python3.6/dist-packages (from comet_ml) (1.12.0)\n",
            "Collecting websocket-client>=0.55.0 (from comet_ml)\n",
            "\u001b[?25l  Downloading https://files.pythonhosted.org/packages/29/19/44753eab1fdb50770ac69605527e8859468f3c0fd7dc5a76dd9c4dbd7906/websocket_client-0.56.0-py2.py3-none-any.whl (200kB)\n",
            "\u001b[K     |████████████████████████████████| 204kB 41.8MB/s \n",
            "\u001b[?25hCollecting netifaces>=0.10.7 (from comet_ml)\n",
            "  Downloading https://files.pythonhosted.org/packages/0c/9b/c4c7eb09189548d45939a3d3a6b3d53979c67d124459b27a094c365c347f/netifaces-0.10.9-cp36-cp36m-manylinux1_x86_64.whl\n",
            "Collecting wurlitzer>=1.0.2 (from comet_ml)\n",
            "  Downloading https://files.pythonhosted.org/packages/09/56/201c4d13c37b6fb0cb5dbf1d026a2fec14fd151fd4f3f1dc1144d6273fd3/wurlitzer-1.0.3-py2.py3-none-any.whl\n",
            "Requirement already satisfied: joblib>=0.11 in /usr/local/lib/python3.6/dist-packages (from scikit-learn>=0.19.1->skorch) (0.13.2)\n",
            "Requirement already satisfied: chardet<3.1.0,>=3.0.2 in /usr/local/lib/python3.6/dist-packages (from requests>=2.18.4->comet_ml) (3.0.4)\n",
            "Requirement already satisfied: certifi>=2017.4.17 in /usr/local/lib/python3.6/dist-packages (from requests>=2.18.4->comet_ml) (2019.6.16)\n",
            "Requirement already satisfied: urllib3<1.25,>=1.21.1 in /usr/local/lib/python3.6/dist-packages (from requests>=2.18.4->comet_ml) (1.24.3)\n",
            "Requirement already satisfied: idna<2.9,>=2.5 in /usr/local/lib/python3.6/dist-packages (from requests>=2.18.4->comet_ml) (2.8)\n",
            "Collecting configobj; extra == \"ini\" (from everett[ini]>=1.0.1; python_version >= \"3.0\"->comet_ml)\n",
            "  Downloading https://files.pythonhosted.org/packages/64/61/079eb60459c44929e684fa7d9e2fdca403f67d64dd9dbac27296be2e0fab/configobj-5.0.6.tar.gz\n",
            "Building wheels for collected packages: configobj\n",
            "  Building wheel for configobj (setup.py) ... \u001b[?25l\u001b[?25hdone\n",
            "  Created wheel for configobj: filename=configobj-5.0.6-cp36-none-any.whl size=34547 sha256=529dd85d72ca605487e9f01fe6ec9dcfe68cb1635d5b757e78b2f6a6599c4d7c\n",
            "  Stored in directory: /root/.cache/pip/wheels/f1/e4/16/4981ca97c2d65106b49861e0b35e2660695be7219a2d351ee0\n",
            "Successfully built configobj\n",
            "Installing collected packages: skorch, configobj, everett, comet-git-pure, websocket-client, netifaces, wurlitzer, comet-ml\n",
            "Successfully installed comet-git-pure-0.19.11 comet-ml-2.0.10 configobj-5.0.6 everett-1.0.2 netifaces-0.10.9 skorch-0.6.0 websocket-client-0.56.0 wurlitzer-1.0.3\n"
          ],
          "name": "stdout"
        }
      ]
    },
    {
      "cell_type": "code",
      "metadata": {
        "id": "XOlzCD-oIA-S",
        "colab_type": "code",
        "outputId": "8dbac265-5fb5-42ad-f607-fc188848a277",
        "colab": {
          "base_uri": "https://localhost:8080/",
          "height": 70
        }
      },
      "source": [
        "from comet_ml import Experiment\n",
        "experiment = Experiment(project_name=\"BayesGAN\")"
      ],
      "execution_count": 0,
      "outputs": [
        {
          "output_type": "stream",
          "text": [
            "COMET INFO: Experiment is live on comet.ml https://www.comet.ml/satoruk-icepp/bayesgan/831dbdf4b7a04ec99e3f1842b1315862\n",
            "\n"
          ],
          "name": "stderr"
        }
      ]
    },
    {
      "cell_type": "code",
      "metadata": {
        "id": "oLgVy1i9zZiA",
        "colab_type": "code",
        "colab": {}
      },
      "source": [
        "BATCH_SIZE         = 150\n",
        "N_EPOCH            = 200\n",
        "\n",
        "learning_rate      = 0.00005\n",
        "dnoise_alpha       = 0.001\n",
        "gnoise_alpha       = 0.001\n",
        "N=50250\n",
        "NOISEIMAGE_DIM = 10\n",
        "NOISE_DIM = NOISEIMAGE_DIM**2\n",
        "Ngen = 1\n",
        "Ndisc = 1\n",
        "EnergyDepositScale = 4000\n",
        "PXscale = 30\n",
        "PYscale = 30\n",
        "PZscale = 100\n",
        "PZoffset=10\n",
        "XPosscale = 10\n",
        "YPosscale = 10\n",
        "PDGscale=11\n",
        "Nresblock = 18\n",
        "CONDITION_DIM=6\n",
        "IMAGE_DIM=30\n",
        "dropout_disc = 0.1\n",
        "unrolled_steps= 0\n",
        "Nredconv_gen = 0\n",
        "ntrain_d = 10\n",
        "lambda_reg =10\n",
        "params={'batch_size' : BATCH_SIZE,\n",
        "        'data_size'  : N,\n",
        "        'epochs'     : N_EPOCH,\n",
        "        'energyscale': EnergyDepositScale,\n",
        "        'noise_dim'   : NOISE_DIM,\n",
        "        'learning_rate':learning_rate,\n",
        "        'dnoise_alpha':dnoise_alpha,\n",
        "        'gnoise_alpha':gnoise_alpha,\n",
        "        'Ngen':Ngen,\n",
        "        'Ndisc':Ndisc,\n",
        "        'PXscale':PXscale,\n",
        "        'PYscale':PYscale,\n",
        "        'PZscale':PZscale,\n",
        "        'XPosscale':XPosscale,\n",
        "        'YPosscale':YPosscale,\n",
        "        'Nresblock':Nresblock,\n",
        "        'dropout_disc':dropout_disc,\n",
        "        'unrolled_steps':unrolled_steps,\n",
        "        'ntrain_d':ntrain_d,\n",
        "        'lambda_reg':lambda_reg\n",
        "}\n",
        "experiment.log_parameters(params)"
      ],
      "execution_count": 0,
      "outputs": []
    },
    {
      "cell_type": "code",
      "metadata": {
        "id": "mLY8nIkZLn24",
        "colab_type": "code",
        "colab": {}
      },
      "source": [
        "from skorch import NeuralNetClassifier"
      ],
      "execution_count": 0,
      "outputs": []
    },
    {
      "cell_type": "code",
      "metadata": {
        "id": "790_h5rSmDLA",
        "colab_type": "code",
        "colab": {}
      },
      "source": [
        "import torch\n",
        "import torch.nn as nn\n",
        "import torch.nn.functional as F\n",
        "import torch.optim as optim\n",
        "import torch.utils.data as utils\n",
        "from torch.utils.data.sampler import SubsetRandomSampler\n",
        "from torch.autograd import Variable\n",
        "from torchvision import datasets, transforms\n",
        "import numpy as np\n",
        "import math\n",
        "import matplotlib.pyplot as plt\n",
        "import copy\n",
        "from tqdm import tqdm, tqdm_notebook\n",
        "import seaborn as sns\n",
        "from IPython.display import clear_output\n",
        "sns.set()\n",
        "\n",
        "def one_hot(a, num_classes):\n",
        "    return np.squeeze(np.eye(num_classes)[a.reshape(-1)])\n",
        "\n",
        "device = 'cuda' if torch.cuda.is_available() else 'cpu'"
      ],
      "execution_count": 0,
      "outputs": []
    },
    {
      "cell_type": "code",
      "metadata": {
        "id": "KW0lyRVGmDLC",
        "colab_type": "code",
        "outputId": "8cb01bb3-0000-4ec2-b910-05ba522d9af4",
        "colab": {
          "base_uri": "https://localhost:8080/",
          "height": 34
        }
      },
      "source": [
        "device"
      ],
      "execution_count": 0,
      "outputs": [
        {
          "output_type": "execute_result",
          "data": {
            "text/plain": [
              "'cuda'"
            ]
          },
          "metadata": {
            "tags": []
          },
          "execution_count": 9
        }
      ]
    },
    {
      "cell_type": "markdown",
      "metadata": {
        "id": "QJbcY6IwmDLK",
        "colab_type": "text"
      },
      "source": [
        "## Data pathes"
      ]
    },
    {
      "cell_type": "code",
      "metadata": {
        "id": "-5muy7MJmDLK",
        "colab_type": "code",
        "colab": {}
      },
      "source": [
        "train_data_path = '/gdrive/My Drive/mlhep2019_gan/data_train.npz'\n",
        "# train_data_path = '/gdrive/My Drive/data_afteraugmentation.npz'\n",
        "val_data_path = '/gdrive/My Drive/mlhep2019_gan/data_val.npz'\n",
        "test_data_path = '/gdrive/My Drive/mlhep2019_gan/data_test.npz'\n",
        "\n",
        "# train_data_path = '../data_train.npz'\n",
        "# val_data_path = '../data_val.npz'\n",
        "# test_data_path = '../data_test.npz'"
      ],
      "execution_count": 0,
      "outputs": []
    },
    {
      "cell_type": "markdown",
      "metadata": {
        "id": "JqklR3OHmDLM",
        "colab_type": "text"
      },
      "source": [
        "# Loading data\n",
        "\n",
        "Data is stored in `.npz`-format which is a special filetype for persisting multiple NumPy arrays on disk. \n",
        "\n",
        "More info: https://docs.scipy.org/doc/numpy/reference/generated/numpy.lib.format.html#module-numpy.lib.format.\n",
        "\n",
        "File `dat_train.npz` contains four arrays: \n",
        "\n",
        "  * `EnergyDeposit` - images of calorimeters responses\n",
        "  * `ParticleMomentum` - $p_x, p_y, p_z$ of initial partice\n",
        "  * `ParticlePoint` - $x, y$ of initial particle\n",
        "  * `ParticlePDG` - particle type(either $e^-$ or $\\gamma$)"
      ]
    },
    {
      "cell_type": "code",
      "metadata": {
        "id": "wkvMrGHqj_S0",
        "colab_type": "code",
        "colab": {}
      },
      "source": [
        "EnergyDepositScale = torch.tensor([EnergyDepositScale]).float()\n",
        "MomentumScale      = torch.tensor([PXscale,PYscale,PZscale]).float()\n",
        "PointScale         = torch.tensor([XPosscale,YPosscale]).float()\n",
        "ParticlePDGScale   = torch.tensor([PDGscale]).float()\n",
        "MomentumPointPDGScale = torch.cat([MomentumScale,PointScale,ParticlePDGScale])"
      ],
      "execution_count": 0,
      "outputs": []
    },
    {
      "cell_type": "code",
      "metadata": {
        "id": "DcLIRNvMmDLN",
        "colab_type": "code",
        "outputId": "58b42527-4794-4aff-dfa3-71aa04a7afda",
        "colab": {
          "base_uri": "https://localhost:8080/",
          "height": 34
        }
      },
      "source": [
        "# N = 1000\n",
        "\n",
        "data_train = np.load(train_data_path, allow_pickle=True)\n",
        "print(list(data_train.keys()))\n",
        "# N = len(data_train)\n",
        "\n",
        "# N=1500\n",
        "# [data_size, 900]\n",
        "EnergyDeposit = data_train['EnergyDeposit'][:N]\n",
        "# reshaping it as [data_size, channels, img_size_x, img_size_y]\n",
        "# channels are needed for pytorch conv2d-layers\n",
        "EnergyDeposit = EnergyDeposit.reshape(-1,1,30,30)\n",
        "# EnergyDeposit = EnergyDeposit/EnergyDepositScale\n",
        "\n",
        "# [data_size, 3]\n",
        "# ParticleMomentumScale = [PXscale,PYscale,PZscale]\n",
        "ParticleMomentum = data_train['ParticleMomentum'][:N]\n",
        "# ParticleMomentum = np.divide(ParticleMomentum,ParticleMomentumScale) \n",
        "\n",
        "# [data_size, 2]\n",
        "# ParticlePointScale = [XPosscale,YPosscale]\n",
        "ParticlePoint = data_train['ParticlePoint'][:, :2][:N]\n",
        "# ParticlePoint = np.divide(ParticlePoint,ParticlePointScale)\n",
        "\n",
        "# [data_size, 1]\n",
        "ParticlePDG = data_train['ParticlePDG'][:N]\n",
        "ParticlePDG = ParticlePDG.reshape(-1,1)"
      ],
      "execution_count": 0,
      "outputs": [
        {
          "output_type": "stream",
          "text": [
            "['EnergyDeposit', 'ParticlePoint', 'ParticleMomentum', 'ParticlePDG']\n"
          ],
          "name": "stdout"
        }
      ]
    },
    {
      "cell_type": "markdown",
      "metadata": {
        "id": "ExAROHySmDLP",
        "colab_type": "text"
      },
      "source": [
        "## Load it to pytorch `DataLoader`"
      ]
    },
    {
      "cell_type": "code",
      "metadata": {
        "id": "XtEr15sdmDLQ",
        "colab_type": "code",
        "colab": {}
      },
      "source": [
        "EnergyDeposit    = torch.tensor(EnergyDeposit).float()\n",
        "ParticleMomentum = torch.tensor(ParticleMomentum).float()\n",
        "ParticlePoint    = torch.tensor(ParticlePoint).float()\n",
        "ParticlePDG      = torch.tensor(ParticlePDG).float()\n",
        "\n",
        "# validation_split = 0.05\n",
        "random_seed= 42\n",
        "split = 5250\n",
        "indices = list(range(N))\n",
        "np.random.seed(random_seed)\n",
        "np.random.shuffle(indices)\n",
        "train_indices, val_indices = indices[split:], indices[:split]\n",
        "\n",
        "train_sampler = SubsetRandomSampler(train_indices)\n",
        "valid_sampler = SubsetRandomSampler(val_indices)\n",
        "\n",
        "calo_dataset    = utils.TensorDataset(EnergyDeposit, ParticleMomentum, ParticlePoint, ParticlePDG)\n",
        "\n",
        "train_loader = torch.utils.data.DataLoader(calo_dataset, batch_size=BATCH_SIZE, \n",
        "                                           sampler=train_sampler, pin_memory=True)\n",
        "validation_loader = torch.utils.data.DataLoader(calo_dataset, batch_size=BATCH_SIZE,\n",
        "                                                sampler=valid_sampler, pin_memory=True)\n",
        "\n",
        "\n",
        "# calo_dataloader = torch.utils.data.DataLoader(calo_dataset, batch_size=BATCH_SIZE, pin_memory=True, shuffle=True)"
      ],
      "execution_count": 0,
      "outputs": []
    },
    {
      "cell_type": "code",
      "metadata": {
        "id": "crC_kDGkmDLR",
        "colab_type": "code",
        "colab": {}
      },
      "source": [
        "for EnergyDeposit_b, ParticleMomentum_b, ParticlePoint_b, ParticlePDG_b in validation_loader:\n",
        "    break"
      ],
      "execution_count": 0,
      "outputs": []
    },
    {
      "cell_type": "markdown",
      "metadata": {
        "id": "inm6pj7DmDLU",
        "colab_type": "text"
      },
      "source": [
        "## Training GAN\n",
        "###### ...is not a simple matter\n",
        "\n",
        "It depends on architecture, loss, instance noise, augmentation and even luck(recommend to take a look https://arxiv.org/pdf/1801.04406.pdf)\n",
        "\n",
        "\n",
        "In this notebook I have prepared some basic parts that you could use for your experiments."
      ]
    },
    {
      "cell_type": "code",
      "metadata": {
        "id": "uU8Gxli9mDLV",
        "colab_type": "code",
        "colab": {}
      },
      "source": [
        "TASKS = ['KL', 'REVERSED_KL', 'WASSERSTEIN', 'BAYESIAN']\n",
        "\n",
        "# TASK = 'BAYESIAN'\n",
        "TASK = 'WASSERSTEIN'"
      ],
      "execution_count": 0,
      "outputs": []
    },
    {
      "cell_type": "markdown",
      "metadata": {
        "id": "NNKTOTNkmDLb",
        "colab_type": "text"
      },
      "source": [
        "#### Small hack that can speed-up training and improve generalization"
      ]
    },
    {
      "cell_type": "code",
      "metadata": {
        "id": "D_qOnCr6Zias",
        "colab_type": "code",
        "colab": {}
      },
      "source": [
        "from bayes import NoiseLoss,PriorLoss"
      ],
      "execution_count": 0,
      "outputs": []
    },
    {
      "cell_type": "code",
      "metadata": {
        "id": "L4ttB8J3UqR-",
        "colab_type": "code",
        "colab": {}
      },
      "source": [
        "def add_instance_noise(data, std=0.01):\n",
        "    return data + torch.distributions.Normal(0, std).sample(data.shape).to(device)"
      ],
      "execution_count": 0,
      "outputs": []
    },
    {
      "cell_type": "code",
      "metadata": {
        "id": "0iBaXyY13Xtc",
        "colab_type": "code",
        "colab": {}
      },
      "source": [
        "# class GANLosses(object):\n",
        "#     def __init__(self, task, device):\n",
        "#         self.TASK = task\n",
        "#         self.device = device\n",
        "\n",
        "def calc_gradient_penalty(discriminator, data_gen, inputs_batch, inp_data, lambda_reg = .1):\n",
        "        alpha = torch.rand(inp_data.shape[0], 1).to(device)\n",
        "        dims_to_add = len(inp_data.size()) - 2\n",
        "        for i in range(dims_to_add):\n",
        "            alpha = alpha.unsqueeze(-1)\n",
        "        # alpha = alpha.expand(inp_data.size())\n",
        "\n",
        "        interpolates = (alpha * inp_data + ((1 - alpha) * data_gen)).to(device)\n",
        "\n",
        "        interpolates.requires_grad = True\n",
        "\n",
        "        disc_interpolates,_ = discriminator(interpolates, inputs_batch)\n",
        "\n",
        "        gradients = torch.autograd.grad(outputs=disc_interpolates, inputs=interpolates,\n",
        "                                        grad_outputs=torch.ones(disc_interpolates.size()).to(device),\n",
        "                                        create_graph=True, retain_graph=True, only_inputs=True)[0]\n",
        "\n",
        "        gradient_penalty = ((gradients.norm(2, dim=1) - 1) ** 2).mean() * lambda_reg\n",
        "        return gradient_penalty"
      ],
      "execution_count": 0,
      "outputs": []
    },
    {
      "cell_type": "markdown",
      "metadata": {
        "id": "KT8YWKN5mDLg",
        "colab_type": "text"
      },
      "source": [
        "## Defining discriminator"
      ]
    },
    {
      "cell_type": "markdown",
      "metadata": {
        "id": "F4_WffK-mDLi",
        "colab_type": "text"
      },
      "source": [
        "## Defining generator"
      ]
    },
    {
      "cell_type": "code",
      "metadata": {
        "id": "OD3j9qwIe9MG",
        "colab_type": "code",
        "colab": {}
      },
      "source": [
        "import Label2Image\n",
        "from generator import ModelGConvTranspose\n",
        "from discriminator import ModelD, ModelD_WGAN, ModelD_SMALL"
      ],
      "execution_count": 0,
      "outputs": []
    },
    {
      "cell_type": "markdown",
      "metadata": {
        "id": "ys1Z545TmDLl",
        "colab_type": "text"
      },
      "source": [
        "## Check our models on one batch "
      ]
    },
    {
      "cell_type": "code",
      "metadata": {
        "id": "Oe748y6nmDLl",
        "colab_type": "code",
        "colab": {}
      },
      "source": [
        "\n",
        "gens = []\n",
        "discs = []\n",
        "\n",
        "gen  = ModelGConvTranspose(z_dim=NOISEIMAGE_DIM, MomentumPointPDGScale = MomentumPointPDGScale.to(device),EnergyScale = EnergyDepositScale.to(device), Nredconv_gen=Nredconv_gen).to(device)\n",
        "if TASK=='WASSERSTEIN':\n",
        "    # disc = ModelD_WGAN(cond_dim=6, MomentumPointPDGScale=MomentumPointPDGScale.to(device), EnergyScale = EnergyDepositScale.to(device),Nredconv_dis=Nresblock,dropout_fraction=dropout_disc).to(device)\n",
        "    disc = ModelD_SMALL(cond_dim=6, MomentumPointPDGScale=MomentumPointPDGScale.to(device), EnergyScale = EnergyDepositScale.to(device),Nredconv_dis=Nresblock,dropout_fraction=dropout_disc).to(device)\n",
        "elif TASK=='BAYESIAN':\n",
        "    disc = ModelD(cond_dim=6, MomentumPointPDGScale=MomentumPointPDGScale.to(device), EnergyScale = EnergyDepositScale.to(device),Nredconv_dis=Nresblock,dropout_fraction=dropout_disc).to(device)\n",
        "gen.weight_init(mean=0.0, std=0.02)\n",
        "disc.weight_init(mean=0.0, std=0.02)"
      ],
      "execution_count": 0,
      "outputs": []
    },
    {
      "cell_type": "code",
      "metadata": {
        "id": "NUk-rAs1mDLn",
        "colab_type": "code",
        "colab": {}
      },
      "source": [
        "EnergyDeposit_b, ParticleMomentum_b, ParticlePoint_b, ParticlePDG_b = EnergyDeposit_b.to(device), \\\n",
        "                                                       ParticleMomentum_b.to(device), \\\n",
        "                                                       ParticlePoint_b.to(device),\\\n",
        "                                                       ParticlePDG_b.to(device)\n",
        "# print(ParticlePoint_b.shape,ParticlePDG_b.shape,)\n",
        "# ParticlePDG_b= ParticlePDG_b.view(-1,1)\n",
        "ParticleMomentum_ParticlePoint_ParticlePDG_b = torch.cat([ParticleMomentum_b.to(device), ParticlePoint_b.to(device),ParticlePDG_b.to(device)], dim=1)"
      ],
      "execution_count": 0,
      "outputs": []
    },
    {
      "cell_type": "code",
      "metadata": {
        "id": "jcrCO7wRmDLv",
        "colab_type": "code",
        "colab": {}
      },
      "source": [
        "# disc(EnergyDeposit_b, ParticleMomentum_ParticlePoint_ParticlePDG_b)"
      ],
      "execution_count": 0,
      "outputs": []
    },
    {
      "cell_type": "code",
      "metadata": {
        "id": "BxagWRP6mDLx",
        "colab_type": "code",
        "outputId": "e5d81456-c3ba-4df0-f62a-0089040a13a6",
        "colab": {
          "base_uri": "https://localhost:8080/",
          "height": 34
        }
      },
      "source": [
        "noise = torch.randn(len(EnergyDeposit_b), NOISEIMAGE_DIM, NOISEIMAGE_DIM).to(device)\n",
        "gen(noise, ParticleMomentum_ParticlePoint_ParticlePDG_b).shape"
      ],
      "execution_count": 0,
      "outputs": [
        {
          "output_type": "execute_result",
          "data": {
            "text/plain": [
              "torch.Size([150, 1, 30, 30])"
            ]
          },
          "metadata": {
            "tags": []
          },
          "execution_count": 22
        }
      ]
    },
    {
      "cell_type": "code",
      "metadata": {
        "id": "qgnGKjGF4MPB",
        "colab_type": "code",
        "colab": {}
      },
      "source": [
        "criterion = nn.BCELoss()\n",
        "gprior_criterion = PriorLoss(prior_std=1., observed=N)\n",
        "gnoise_criterion = NoiseLoss(params=gen.parameters(), noise_std=math.sqrt(2 * gnoise_alpha * learning_rate), observed=N)\n",
        "dprior_criterion = PriorLoss(prior_std=1., observed=N)\n",
        "dnoise_criterion = NoiseLoss(params=disc.parameters(), noise_std=math.sqrt(2 * dnoise_alpha * learning_rate), observed=N)"
      ],
      "execution_count": 0,
      "outputs": []
    },
    {
      "cell_type": "markdown",
      "metadata": {
        "id": "cCaPksu4mDLz",
        "colab_type": "text"
      },
      "source": [
        "## Defining optimiser"
      ]
    },
    {
      "cell_type": "code",
      "metadata": {
        "id": "BXVckXSZmDL0",
        "colab_type": "code",
        "colab": {}
      },
      "source": [
        "gen_opt  = optim.Adam(gen.parameters() , lr=learning_rate, betas=(0.5, 0.999), weight_decay=1e-05)\n",
        "disc_opt = optim.Adam(disc.parameters(), lr=learning_rate, betas=(0.5, 0.999), weight_decay=1e-05)\n",
        "# disc_opt = optim.SGD(disc.parameters(), lr=learning_rate)"
      ],
      "execution_count": 0,
      "outputs": []
    },
    {
      "cell_type": "markdown",
      "metadata": {
        "id": "FpBbUF9DmDL2",
        "colab_type": "text"
      },
      "source": [
        "## Load scores"
      ]
    },
    {
      "cell_type": "code",
      "metadata": {
        "id": "m9v-IZO8mDL3",
        "colab_type": "code",
        "colab": {}
      },
      "source": [
        "from prd_score import compute_prd, compute_prd_from_embedding, _prd_to_f_beta\n",
        "from sklearn.metrics import auc"
      ],
      "execution_count": 0,
      "outputs": []
    },
    {
      "cell_type": "code",
      "metadata": {
        "id": "J7z0U53UNIV9",
        "colab_type": "code",
        "colab": {}
      },
      "source": [
        "from Regressor import Regressor, load_embedder\n",
        "embedder = load_embedder('./embedder.tp')"
      ],
      "execution_count": 0,
      "outputs": []
    },
    {
      "cell_type": "code",
      "metadata": {
        "id": "jumtrlNo2Gq7",
        "colab_type": "code",
        "colab": {}
      },
      "source": [
        "def D_train(EnergyDeposit_b,ParticleMomentum_ParticlePoint_ParticlePDG_b,ibatch,gen_input=None):\n",
        "    #=======================Train the discriminator=======================#\n",
        "    disc_opt.zero_grad()\n",
        "    disc_loss = 0\n",
        "    disc_prior = 0\n",
        "    disc_noise = 0\n",
        "    disc_real = 0\n",
        "    disc_fake = 0\n",
        "    EnergyDeposit_b = add_instance_noise(EnergyDeposit_b)\n",
        "    raw_real,output_real = disc(EnergyDeposit_b,ParticleMomentum_ParticlePoint_ParticlePDG_b)\n",
        "    \n",
        "    # disc_real = raw_real.mean()\n",
        "    if gen_input is not None:\n",
        "        EnergyDeposit_gen = gen_input\n",
        "    else:\n",
        "        noise = torch.randn(len(EnergyDeposit_b), NOISEIMAGE_DIM, NOISEIMAGE_DIM).to(device)\n",
        "        EnergyDeposit_gen = gen(noise, ParticleMomentum_ParticlePoint_ParticlePDG_b)\n",
        "    \n",
        "    EnergyDeposit_gen = add_instance_noise(EnergyDeposit_gen)\n",
        "    raw_fake,output_fake = disc(EnergyDeposit_gen.detach(),ParticleMomentum_ParticlePoint_ParticlePDG_b)\n",
        "    # print(raw_fake.shape)\n",
        "    \n",
        "    \n",
        "    # disc_fake = raw_fake.mean()\n",
        "    \n",
        "    if TASK==\"WASSERSTEIN\":\n",
        "        penalty = calc_gradient_penalty(disc,\n",
        "                                        EnergyDeposit_gen.data,\n",
        "                                        ParticleMomentum_ParticlePoint_ParticlePDG_b,\n",
        "                                        EnergyDeposit_b.data,\n",
        "                                        lambda_reg)\n",
        "        disc_real = raw_real.mean()\n",
        "        disc_fake = raw_fake.mean()\n",
        "        disc_loss = disc_fake-disc_real+penalty\n",
        "        experiment.log_metric(\"gradient_penalty\", penalty.data.item(),step=ibatch)\n",
        "\n",
        "    elif TASK == \"BAYESIAN\":\n",
        "        labelv_real = Variable(0.9+0.1*torch.rand(len(EnergyDeposit_b), 1).to(device))\n",
        "        labelv_fake = Variable(0.1*torch.rand(len(EnergyDeposit_b), 1).to(device)) \n",
        "        disc_real = criterion(output_real,labelv_real)\n",
        "        disc_fake = criterion(output_fake, labelv_fake)\n",
        "        disc_prior = dprior_criterion(disc.parameters())\n",
        "        disc_noise = dnoise_criterion(disc.parameters())\n",
        "        disc_loss = disc_real + disc_fake + disc_prior + disc_noise\n",
        "        experiment.log_metric(\"d_prior\", disc_prior.data.item(),step=ibatch)\n",
        "        experiment.log_metric(\"d_noise\", disc_noise.data.item(),step=ibatch)\n",
        "    \n",
        "    disc_loss.backward()\n",
        "    disc_opt.step()\n",
        "\n",
        "    experiment.log_metric(\"d_real\", disc_real.data.item(),step=ibatch)\n",
        "    experiment.log_metric(\"d_fake\", disc_fake.data.item(),step=ibatch)\n",
        "    experiment.log_metric(\"d_loss\", disc_loss.data.item(),step=ibatch)\n",
        "        \n",
        "    return"
      ],
      "execution_count": 0,
      "outputs": []
    },
    {
      "cell_type": "code",
      "metadata": {
        "id": "oHv4ORXp5BpP",
        "colab_type": "code",
        "colab": {}
      },
      "source": [
        "def G_train(EnergyDeposit_b,ParticleMomentum_ParticlePoint_ParticlePDG_b,ibatch):\n",
        "    #=======================Train the generator=======================#\n",
        "    gen_opt.zero_grad()\n",
        "    gen_loss = 0\n",
        "    gen_real = 0\n",
        "    gen_prior = 0\n",
        "    gen_noise = 0\n",
        "    noise = torch.randn(len(EnergyDeposit_b), NOISEIMAGE_DIM,NOISEIMAGE_DIM).to(device)\n",
        "    EnergyDeposit_gen = gen(noise, ParticleMomentum_ParticlePoint_ParticlePDG_b)\n",
        "    EnergyDeposit_gen = add_instance_noise(EnergyDeposit_gen)\n",
        "    # if unrolled_steps>0:\n",
        "    # disc_back = copy.deepcopy(disc)\n",
        "    # for istep in range(unrolled_steps):\n",
        "    #     D_train(EnergyDeposit_b,ParticleMomentum_ParticlePoint_ParticlePDG_b,EnergyDeposit_gen)\n",
        "    \n",
        "    raw_gen,output_gen = disc(EnergyDeposit_gen,ParticleMomentum_ParticlePoint_ParticlePDG_b)\n",
        "    if TASK==\"WASSERSTEIN\":\n",
        "        gen_real = raw_gen.mean()\n",
        "        gen_loss = -gen_real\n",
        "    elif TASK==\"BAYESIAN\":\n",
        "        labelv_real = Variable(torch.ones(len(EnergyDeposit_b), 1).to(device))\n",
        "        gen_real = criterion(output_gen,labelv_real)\n",
        "        gen_prior = gprior_criterion(gen.parameters())\n",
        "        gen_noise = gnoise_criterion(gen.parameters())\n",
        "        gen_loss = gen_real+gen_prior+gen_noise\n",
        "        experiment.log_metric(\"g_prior_loss\", gen_prior.data.item(),step=ibatch)\n",
        "        experiment.log_metric(\"g_noise_loss\", gen_noise.data.item(),step=ibatch)\n",
        "    # gen_real.backward()\n",
        "        # gen_loss.data.item(),gen_real.data.item(),gen_prior.data.item(),gen_noise.data.item()\n",
        "    experiment.log_metric(\"g_loss\", gen_loss.data.item(),step=ibatch)\n",
        "    experiment.log_metric(\"g_real_loss\", gen_real.data.item(),step=ibatch)\n",
        "             \n",
        "    gen_loss.backward()\n",
        "    gen_opt.step()\n",
        "    # disc.load(disc_back)\n",
        "    return "
      ],
      "execution_count": 0,
      "outputs": []
    },
    {
      "cell_type": "code",
      "metadata": {
        "id": "k7Dbdy2y-0Bt",
        "colab_type": "code",
        "colab": {}
      },
      "source": [
        "def CalculatePRDScore(EnergyDeposit_b,EnergyDeposit_gen):\n",
        "    for EnergyDeposit_b, ParticleMomentum_b, ParticlePoint_b, ParticlePDG_b in validation_loader:\n",
        "        noise = torch.randn(len(EnergyDeposit_b), NOISEIMAGE_DIM, NOISEIMAGE_DIM).to(device)\n",
        "        ParticleMomentum_ParticlePoint_ParticlePDG_b = torch.cat([ParticleMomentum_b.to(device), ParticlePoint_b.to(device),ParticlePDG_b.to(device)], dim=1)\n",
        "        EnergyDeposit_gen = gen(noise, ParticleMomentum_ParticlePoint_ParticlePDG_b)\n",
        "\n",
        "        data_real = embedder.get_encoding(torch.tensor(EnergyDeposit_b).float().view(-1, 1, 30, 30)).detach().numpy()\n",
        "        data_fake = embedder.get_encoding(torch.tensor(EnergyDeposit_gen.cpu()).float().view(-1, 1, 30, 30)).detach().numpy()\n",
        "        precision, recall = compute_prd_from_embedding(data_real, data_fake,num_clusters=20,num_runs=10)\n",
        "        # precisions, recalls = calc_pr_rec(data_real,data_fake)\n",
        "        prd_auc_ = auc(precision, recall)\n",
        "        plt.figure(figsize=(15,12))\n",
        "        plt.step(recall, precision, color='r', alpha=1,  label='PR')\n",
        "        experiment.log_figure(figure=plt)\n",
        "        break\n",
        "\n",
        "    return prd_auc_"
      ],
      "execution_count": 0,
      "outputs": []
    },
    {
      "cell_type": "code",
      "metadata": {
        "id": "c18oWujomDL6",
        "colab_type": "code",
        "colab": {}
      },
      "source": [
        "LIPSITZ_WEIGHTS = False\n",
        "# ntrain_d = 1\n",
        "def run_training(epochs):\n",
        "    ibatch = 0\n",
        "    dis_epoch_loss = []\n",
        "    gen_epoch_loss = []\n",
        "    predictions_dis = []\n",
        "    predictions_gen = []\n",
        "    TotalEnergyDeposit_dis = []\n",
        "    TotalEnergyDeposit_gen = []    \n",
        "    prd_auc = []  \n",
        "    for epoch in tqdm(range(epochs)):\n",
        "        first = True\n",
        "        \n",
        "        for EnergyDeposit_b, ParticleMomentum_b, ParticlePoint_b, ParticlePDG_b in train_loader:\n",
        "            EnergyDeposit_b, ParticleMomentum_b, ParticlePoint_b, ParticlePDG_b = EnergyDeposit_b.to(device), \\\n",
        "                                                                   ParticleMomentum_b.to(device), \\\n",
        "                                                                   ParticlePoint_b.to(device),\\\n",
        "                                                                   ParticlePDG_b.view(-1,1).to(device)\n",
        "\n",
        "            ParticleMomentum_ParticlePoint_ParticlePDG_b = torch.cat([ParticleMomentum_b.to(device), ParticlePoint_b.to(device), ParticlePDG_b.to(device)], dim=1)\n",
        "            for itrain in range(ntrain_d):\n",
        "                D_train(EnergyDeposit_b, ParticleMomentum_ParticlePoint_ParticlePDG_b,ibatch)\n",
        "            G_train(EnergyDeposit_b, ParticleMomentum_ParticlePoint_ParticlePDG_b,ibatch)\n",
        "            if LIPSITZ_WEIGHTS:                    \n",
        "                [p.data.clamp_(-0.01, 0.01) for p in disc.parameters()]\n",
        "            \n",
        "            # noise = torch.randn(len(EnergyDeposit_b), NOISEIMAGE_DIM, NOISEIMAGE_DIM).to(device)\n",
        "            # EnergyDeposit_gen = gen(noise, ParticleMomentum_ParticlePoint_ParticlePDG_b)\n",
        "            # dis_epoch_loss.append(D_loss)\n",
        "            # gen_epoch_loss.append(G_loss)\n",
        "            # raw_dis,output_dis = disc(EnergyDeposit_b, ParticleMomentum_ParticlePoint_ParticlePDG_b)\n",
        "            # output_dis = output_dis.data[:, 0].detach().cpu().numpy().ravel()\n",
        "            # raw_gen,output_gen = disc(EnergyDeposit_gen, ParticleMomentum_ParticlePoint_ParticlePDG_b)\n",
        "            # output_gen = output_gen.data[:, 0].detach().cpu().numpy().ravel()\n",
        "            # predictions_dis.append(list(output_dis))\n",
        "            # predictions_gen.append(list(output_gen))\n",
        "            \n",
        "            if first:\n",
        "                prd_auc_ = CalculatePRDScore(EnergyDeposit_b,EnergyDeposit_gen)\n",
        "                prd_auc.append(prd_auc_)\n",
        "                experiment.log_metric(\"PRD_AUC\", prd_auc_,step=epoch)                \n",
        "#             if first:\n",
        "                generator_cpu = ModelGConvTranspose(z_dim=NOISEIMAGE_DIM, MomentumPointPDGScale = MomentumPointPDGScale,EnergyScale = EnergyDepositScale)\n",
        "                generator_cpu.load_state_dict(gen.state_dict())\n",
        "                # generator_cpu.eval()\n",
        "                torch.save(generator_cpu.state_dict(), '/gdrive/My Drive/gan%d.pt'%(epoch))\n",
        "                first=False\n",
        "            \n",
        "            clear_output()\n",
        "            if ibatch %100 ==0:\n",
        "                plt.figure(figsize=(15,12))\n",
        "                grid = plt.GridSpec(2, 3, wspace=0.4, hspace=0.3)\n",
        "                plt.subplot(grid[0,0])\n",
        "                # plt.semilogy(dis_epoch_loss, label='dis_epoch_loss')\n",
        "                # plt.semilogy(gen_epoch_loss, label='gen_epoch_loss')\n",
        "                # plt.legend()\n",
        "\n",
        "                plt.subplot(grid[0,1])\n",
        "                # plt.hist(predictions_dis[-1], bins=40, label='dis_epoch_loss',color=\"blue\",range=[0,1])\n",
        "                # plt.hist(predictions_gen[-1], bins=40, label='gen_epoch_loss',color=\"orange\",range=[0,1])\n",
        "                # plt.legend()\n",
        "\n",
        "                plt.subplot(grid[0,2])\n",
        "                plt.plot(prd_auc, label='prd_auc')\n",
        "                plt.ylim(0,1)\n",
        "                plt.legend()\n",
        "\n",
        "                plt.subplot(grid[1, 0])\n",
        "                plt.imshow(EnergyDeposit_gen[0][0].cpu().detach().numpy(),vmin=0)\n",
        "                plt.subplot(grid[1, 1])\n",
        "                plt.imshow(EnergyDeposit_gen[1][0].cpu().detach().numpy(),vmin=0)                \n",
        "                plt.subplot(grid[1, 2])\n",
        "                plt.imshow(EnergyDeposit_b[0][0].cpu().detach().numpy(),vmin=0)\n",
        "                experiment.log_figure(figure_name=\"status%d\"%(ibatch),figure=plt,step =ibatch)\n",
        "#             plt.show()\n",
        "            ibatch += 1\n",
        "\n"
      ],
      "execution_count": 0,
      "outputs": []
    },
    {
      "cell_type": "code",
      "metadata": {
        "scrolled": false,
        "id": "zPLcnlKhmDMH",
        "colab_type": "code",
        "colab": {}
      },
      "source": [
        "with experiment.train():\n",
        "    run_training(N_EPOCH)"
      ],
      "execution_count": 0,
      "outputs": []
    },
    {
      "cell_type": "markdown",
      "metadata": {
        "id": "GT2fiNDMmDMJ",
        "colab_type": "text"
      },
      "source": [
        "#### Transfer generator on CPU:"
      ]
    },
    {
      "cell_type": "code",
      "metadata": {
        "id": "CTumKz8smDMK",
        "colab_type": "code",
        "colab": {}
      },
      "source": [
        "generator_cpu = ModelGConvTranspose(z_dim=NOISEIMAGE_DIM,MomentumPointPDGScale = MomentumPointPDGScale,EnergyScale = EnergyDepositScale)\n",
        "# generator_cpu.load_state_dict(gen.state_dict())\n",
        "generator_cpu.load_state_dict(torch.load('/gdrive/My Drive/gan80.pt'))\n",
        "# generator_cpu.eval()"
      ],
      "execution_count": 0,
      "outputs": []
    },
    {
      "cell_type": "markdown",
      "metadata": {
        "id": "RrzMuZGzmDMM",
        "colab_type": "text"
      },
      "source": [
        "### Save model on disk"
      ]
    },
    {
      "cell_type": "code",
      "metadata": {
        "id": "zXwtnaSBmDMM",
        "colab_type": "code",
        "colab": {}
      },
      "source": [
        "torch.save(generator_cpu.state_dict(), './gan_middle.pt')"
      ],
      "execution_count": 0,
      "outputs": []
    },
    {
      "cell_type": "markdown",
      "metadata": {
        "id": "nITR2bZwmDMO",
        "colab_type": "text"
      },
      "source": [
        "## Making predictions"
      ]
    },
    {
      "cell_type": "markdown",
      "metadata": {
        "id": "ihAqZQxvmDMP",
        "colab_type": "text"
      },
      "source": [
        "#### Validation predictions"
      ]
    },
    {
      "cell_type": "code",
      "metadata": {
        "scrolled": true,
        "id": "rVhVrubhmDMP",
        "colab_type": "code",
        "colab": {}
      },
      "source": [
        "data_val = np.load(val_data_path, allow_pickle=True)\n",
        "ParticleMomentum_val = torch.tensor(data_val['ParticleMomentum']).float()\n",
        "ParticlePoint_val = torch.tensor(data_val['ParticlePoint'][:, :2]).float()\n",
        "ParticlePDG_val = torch.tensor(data_val['ParticlePDG'].reshape(-1,1)).float()\n",
        "ParticleMomentum_ParticlePoint_ParticlePDG_val = torch.cat([ParticleMomentum_val, ParticlePoint_val,ParticlePDG_val], dim=1)\n",
        "calo_dataset_val = utils.TensorDataset(ParticleMomentum_ParticlePoint_ParticlePDG_val)\n",
        "calo_dataloader_val = torch.utils.data.DataLoader(calo_dataset_val, batch_size=1024, shuffle=False)\n",
        "\n",
        "with torch.no_grad():\n",
        "    EnergyDeposit_val = []\n",
        "    for ParticleMomentum_ParticlePoint_ParticlePDG_val_batch in tqdm(calo_dataloader_val):\n",
        "        noise = torch.randn(len(ParticleMomentum_ParticlePoint_ParticlePDG_val_batch[0]), NOISEIMAGE_DIM,NOISEIMAGE_DIM)\n",
        "        EnergyDeposit_val_batch = generator_cpu(noise, ParticleMomentum_ParticlePoint_ParticlePDG_val_batch[0]).detach().numpy()\n",
        "        EnergyDeposit_val.append(EnergyDeposit_val_batch)\n",
        "    np.savez_compressed('./data_val_prediction.npz', \n",
        "                        EnergyDeposit=np.concatenate(EnergyDeposit_val, axis=0).reshape(-1, 30, 30))\n",
        "\n",
        "    del EnergyDeposit_val\n",
        "del data_val; del ParticleMomentum_val; del ParticlePoint_val; del ParticleMomentum_ParticlePoint_ParticlePDG_val;\n",
        "del calo_dataset_val; calo_dataloader_val"
      ],
      "execution_count": 0,
      "outputs": []
    },
    {
      "cell_type": "markdown",
      "metadata": {
        "id": "Uz2T9U3-mDMS",
        "colab_type": "text"
      },
      "source": [
        "#### Test predictions"
      ]
    },
    {
      "cell_type": "code",
      "metadata": {
        "id": "666U1Q_smDMS",
        "colab_type": "code",
        "colab": {}
      },
      "source": [
        "data_test = np.load(test_data_path, allow_pickle=True)\n",
        "ParticleMomentum_test = torch.tensor(data_test['ParticleMomentum']).float()\n",
        "ParticlePoint_test = torch.tensor(data_test['ParticlePoint'][:, :2]).float()\n",
        "ParticlePDG_test = torch.tensor(data_test['ParticlePDG'].reshape(-1,1)).float()\n",
        "ParticleMomentum_ParticlePoint_ParticlePDG_test = torch.cat([ParticleMomentum_test, ParticlePoint_test, ParticlePDG_test], dim=1)\n",
        "calo_dataset_test = utils.TensorDataset(ParticleMomentum_ParticlePoint_ParticlePDG_test)\n",
        "calo_dataloader_test = torch.utils.data.DataLoader(calo_dataset_test, batch_size=1024, shuffle=False)\n",
        "\n",
        "with torch.no_grad():\n",
        "    EnergyDeposit_test = []\n",
        "    for ParticleMomentum_ParticlePoint_ParticlePDG_test_batch in tqdm(calo_dataloader_test):\n",
        "        noise = torch.randn(len(ParticleMomentum_ParticlePoint_ParticlePDG_test_batch[0]), NOISE_DIM)\n",
        "        EnergyDeposit_test_batch = generator_cpu(noise, ParticleMomentum_ParticlePoint_ParticlePDG_test_batch[0]).detach().numpy()\n",
        "        EnergyDeposit_test.append(EnergyDeposit_test_batch)\n",
        "    np.savez_compressed('./data_test_prediction.npz', \n",
        "                        EnergyDeposit=np.concatenate(EnergyDeposit_test, axis=0).reshape(-1, 30, 30))\n",
        "\n",
        "    del EnergyDeposit_test\n",
        "del data_test; del ParticleMomentum_test; del ParticlePoint_test; del ParticleMomentum_ParticlePoint_ParticlePDG_test;\n",
        "del calo_dataset_test; calo_dataloader_test"
      ],
      "execution_count": 0,
      "outputs": []
    },
    {
      "cell_type": "markdown",
      "metadata": {
        "id": "_AIKCQMtmDMU",
        "colab_type": "text"
      },
      "source": [
        "## `zip-zip` files together"
      ]
    },
    {
      "cell_type": "code",
      "metadata": {
        "id": "Kvbj0nhzmDMV",
        "colab_type": "code",
        "colab": {}
      },
      "source": [
        "!zip solution.zip data_val_prediction.npz data_test_prediction.npz"
      ],
      "execution_count": 0,
      "outputs": []
    },
    {
      "cell_type": "code",
      "metadata": {
        "id": "bG-4EvGOmDMW",
        "colab_type": "code",
        "colab": {}
      },
      "source": [
        "from IPython.display import FileLink\n",
        "FileLink('./solution.zip')"
      ],
      "execution_count": 0,
      "outputs": []
    },
    {
      "cell_type": "markdown",
      "metadata": {
        "id": "QGp0K2LrmDMY",
        "colab_type": "text"
      },
      "source": [
        "# A few words about metrics"
      ]
    },
    {
      "cell_type": "markdown",
      "metadata": {
        "id": "K_j_38JamDMa",
        "colab_type": "text"
      },
      "source": [
        "### Lets generate some fake data"
      ]
    },
    {
      "cell_type": "code",
      "metadata": {
        "id": "47UHZk7B0Lei",
        "colab_type": "code",
        "colab": {}
      },
      "source": [
        "for EnergyDeposit_b, ParticleMomentum_b, ParticlePoint_b, ParticlePDG_b in validation_loader:\n",
        "    break"
      ],
      "execution_count": 0,
      "outputs": []
    },
    {
      "cell_type": "code",
      "metadata": {
        "id": "0kyqaIyhmDMa",
        "colab_type": "code",
        "colab": {}
      },
      "source": [
        "noise = torch.randn(len(ParticleMomentum_b), NOISE_DIM)\n",
        "with torch.no_grad():\n",
        "    ParticleMomentum_ParticlePoint_ParticlePDG = torch.cat([ParticleMomentum_b, \n",
        "                                                ParticlePoint_b,\n",
        "                                                ParticlePDG_b], dim=1)\n",
        "    EnergyDeposit_gen = generator_cpu(noise, ParticleMomentum_ParticlePoint_ParticlePDG.cpu())"
      ],
      "execution_count": 0,
      "outputs": []
    },
    {
      "cell_type": "code",
      "metadata": {
        "id": "s353zPylmDMc",
        "colab_type": "code",
        "colab": {}
      },
      "source": [
        "EnergyDeposit_gen = EnergyDeposit_gen.detach().cpu().numpy().reshape(-1, 30, 30)\n",
        "EnergyDeposit_b = EnergyDeposit_b.detach().cpu().numpy().reshape(-1, 30, 30)"
      ],
      "execution_count": 0,
      "outputs": []
    },
    {
      "cell_type": "markdown",
      "metadata": {
        "id": "-TD90ylsmDMd",
        "colab_type": "text"
      },
      "source": [
        "#### Plot one image"
      ]
    },
    {
      "cell_type": "code",
      "metadata": {
        "id": "gxhjGZGYmDMe",
        "colab_type": "code",
        "colab": {}
      },
      "source": [
        "plt.figure()\n",
        "plt.imshow(EnergyDeposit_gen[2])\n",
        "plt.colorbar()"
      ],
      "execution_count": 0,
      "outputs": []
    },
    {
      "cell_type": "markdown",
      "metadata": {
        "id": "LTftFOhSmDMg",
        "colab_type": "text"
      },
      "source": [
        "## Calculate PRD score between these batch "
      ]
    },
    {
      "cell_type": "code",
      "metadata": {
        "id": "BWEusQu0mDMg",
        "colab_type": "code",
        "colab": {}
      },
      "source": [
        "class Regressor(nn.Module):\n",
        "    def __init__(self):\n",
        "        super(Regressor, self).__init__()\n",
        "        self.batchnorm0 = nn.BatchNorm2d(1)\n",
        "        self.conv1 = nn.Conv2d(1, 16, 2, stride=2)\n",
        "        self.batchnorm1 = nn.BatchNorm2d(16)\n",
        "        self.conv2 = nn.Conv2d(16, 32, 2, stride=2)\n",
        "        self.batchnorm2 = nn.BatchNorm2d(32)\n",
        "        self.conv3 = nn.Conv2d(32, 64, 2, stride=2)\n",
        "        self.batchnorm3 = nn.BatchNorm2d(64)\n",
        "        self.conv4 = nn.Conv2d(64, 64, 2)\n",
        "        \n",
        "        self.dropout = nn.Dropout(p=0.3)\n",
        "        \n",
        "        self.fc1 = nn.Linear(256, 256) \n",
        "        self.batchnorm4 = nn.BatchNorm1d(256)\n",
        "        self.fc2 = nn.Linear(256, 128)\n",
        "        self.fc3 = nn.Linear(128, 64)\n",
        "        self.fc4 = nn.Linear(64, 2 + 3)\n",
        "        self.fc5 = nn.Linear(64, 1)\n",
        "        \n",
        "    def forward(self, x):\n",
        "        x = self.batchnorm0(self.dropout(x))\n",
        "        x = self.batchnorm1(self.dropout(F.relu(self.conv1(x))))\n",
        "        x = self.batchnorm2(F.relu(self.conv2(x)))\n",
        "        x = self.batchnorm3(F.relu(self.conv3(x)))\n",
        "        x = F.relu(self.conv4(x)) # 64, 5, 5\n",
        "        x = x.view(len(x), -1)\n",
        "        x = self.dropout(x)\n",
        "        x = self.batchnorm4(self.dropout(F.relu(self.fc1(x))))\n",
        "        x = F.leaky_relu(self.fc2(x))\n",
        "        x = torch.tanh(self.fc3(x))\n",
        "        return self.fc4(x), self.fc5(x)\n",
        "    \n",
        "    def get_encoding(self, x):\n",
        "        x = self.batchnorm0(self.dropout(x))\n",
        "        x = self.batchnorm1(self.dropout(F.relu(self.conv1(x))))\n",
        "        x = self.batchnorm2(F.relu(self.conv2(x)))\n",
        "        x = self.batchnorm3(F.relu(self.conv3(x)))\n",
        "        x = F.relu(self.conv4(x)) # 64, 5, 5\n",
        "        x = x.view(len(x), -1)\n",
        "        x = self.dropout(x)\n",
        "        x = self.batchnorm4(self.dropout(F.relu(self.fc1(x))))\n",
        "        x = F.leaky_relu(self.fc2(x))\n",
        "        x = self.fc3(x)\n",
        "        return x\n",
        "    \n",
        "\n",
        "def load_embedder(path):\n",
        "    embedder = torch.load(path)\n",
        "    embedder.eval()\n",
        "    return embedder\n",
        "\n",
        "embedder = load_embedder('./embedder.tp')"
      ],
      "execution_count": 0,
      "outputs": []
    },
    {
      "cell_type": "code",
      "metadata": {
        "id": "Yd63IOwVmDMi",
        "colab_type": "code",
        "colab": {}
      },
      "source": [
        "data_real = embedder.get_encoding(torch.tensor(EnergyDeposit_b).float().view(-1, 1, 30, 30)).detach().numpy()\n",
        "data_fake = embedder.get_encoding(torch.tensor(EnergyDeposit_gen).float().view(-1, 1, 30, 30)).detach().numpy()"
      ],
      "execution_count": 0,
      "outputs": []
    },
    {
      "cell_type": "code",
      "metadata": {
        "id": "cGM2uI_qmDMj",
        "colab_type": "code",
        "colab": {}
      },
      "source": [
        "def plot_pr_aucs(precisions, recalls):\n",
        "    plt.figure(figsize=(12, 12))\n",
        "    pr_aucs = []\n",
        "    for i in range(len(recalls)):\n",
        "        plt.step(recalls[i], precisions[i], color='b', alpha=0.2,  label='PR-AUC={}'.format(auc(precisions[i], recalls[i])))\n",
        "        pr_aucs.append(auc(precisions[i], recalls[i]))\n",
        "    plt.step(np.mean(recalls, axis=0), np.mean(precisions, axis=0), color='r', alpha=1,  label='average')\n",
        "    plt.fill_between(np.mean(recalls, axis=0), \n",
        "                     np.mean(precisions, axis=0) - np.std(precisions, axis=0) * 3,\n",
        "                     np.mean(precisions, axis=0) + np.std(precisions, axis=0) * 3, color='g', alpha=0.2,  label='std')\n",
        "\n",
        "    plt.xlabel('Recall')\n",
        "    plt.ylabel('Precision')\n",
        "\n",
        "    # plt.ylim([0.0, 1.05])\n",
        "    # plt.xlim([0.0, 1.0])\n",
        "    print(np.mean(pr_aucs), np.std(pr_aucs))\n",
        "    plt.legend()\n",
        "    \n",
        "    return pr_aucs\n",
        "\n",
        "def calc_pr_rec(data_real, data_fake, num_clusters=20, num_runs=10, NUM_RUNS=10):\n",
        "    precisions = []\n",
        "    recalls = []\n",
        "    for i in tqdm(range(NUM_RUNS)):\n",
        "        precision, recall = compute_prd_from_embedding(data_real, data_fake, num_clusters=num_clusters, num_runs=num_runs)\n",
        "        precisions.append(precision)\n",
        "        recalls.append(recall)\n",
        "    return precisions, recalls"
      ],
      "execution_count": 0,
      "outputs": []
    },
    {
      "cell_type": "code",
      "metadata": {
        "id": "9NApjdKVmDMl",
        "colab_type": "code",
        "colab": {}
      },
      "source": [
        "precisions, recalls = calc_pr_rec(data_real, data_fake, num_clusters=100, num_runs=20)"
      ],
      "execution_count": 0,
      "outputs": []
    },
    {
      "cell_type": "code",
      "metadata": {
        "id": "L0D4-j__mDMp",
        "colab_type": "code",
        "colab": {}
      },
      "source": [
        "pr_aucs = plot_pr_aucs(precisions, recalls)\n",
        "plt.title('Num_clusters={}, num_runs={}, first third'.format(100, 20))\n",
        "plt.show()"
      ],
      "execution_count": 0,
      "outputs": []
    },
    {
      "cell_type": "code",
      "metadata": {
        "id": "erF_MpJ_mDMq",
        "colab_type": "code",
        "colab": {}
      },
      "source": [
        "pr_aucs"
      ],
      "execution_count": 0,
      "outputs": []
    },
    {
      "cell_type": "markdown",
      "metadata": {
        "id": "jXkiQuGlmDMs",
        "colab_type": "text"
      },
      "source": [
        "## Physical metrics"
      ]
    },
    {
      "cell_type": "code",
      "metadata": {
        "id": "CI_33EaxmDMt",
        "colab_type": "code",
        "colab": {}
      },
      "source": [
        "import matplotlib.lines as mlines\n",
        "def newline(p1, p2):\n",
        "    ax = plt.gca()\n",
        "    xmin, xmax = ax.get_xbound()\n",
        "\n",
        "    if(p2[0] == p1[0]):\n",
        "        xmin = xmax = p1[0]\n",
        "        ymin, ymax = ax.get_ybound()\n",
        "    else:\n",
        "        ymax = p1[1]+(p2[1]-p1[1])/(p2[0]-p1[0])*(xmax-p1[0])\n",
        "        ymin = p1[1]+(p2[1]-p1[1])/(p2[0]-p1[0])*(xmin-p1[0])\n",
        "\n",
        "    l = mlines.Line2D([xmin,xmax], [ymin,ymax])\n",
        "    ax.add_line(l)\n",
        "    return l\n",
        "\n",
        "def plot_axes_for_shower(ecal, point, p):\n",
        "    x = np.linspace(-14.5, 14.5, 30)\n",
        "    y = np.linspace(-14.5, 14.5, 30)\n",
        "\n",
        "    xx, yy = np.meshgrid(x, y)\n",
        "    zoff = 25.\n",
        "    ipic = 3\n",
        "    orth = np.array([-p[1], p[0]])\n",
        "\n",
        "    pref = point[:2] + p[:2] * zoff / p[2]\n",
        "\n",
        "    p1 = pref - 10 * p[:2]\n",
        "    p2 = pref + 10 * p[:2]\n",
        "    p3 = pref - 10 * orth\n",
        "    p4 = pref + 10 * orth\n",
        "\n",
        "    plt.contourf(xx, yy, np.log(ecal + 1), cmap=plt.cm.inferno)\n",
        "    newline(p1, p2)\n",
        "    newline(p3, p4)\n",
        "    plt.colorbar()"
      ],
      "execution_count": 0,
      "outputs": []
    },
    {
      "cell_type": "code",
      "metadata": {
        "id": "nR08nJ9gmDMv",
        "colab_type": "code",
        "colab": {}
      },
      "source": [
        "idx = 2\n",
        "plot_axes_for_shower(EnergyDeposit[idx], point=ParticlePoint[idx].detach().numpy(),\n",
        "                     p=ParticleMomentum[idx].detach().numpy())"
      ],
      "execution_count": 0,
      "outputs": []
    },
    {
      "cell_type": "code",
      "metadata": {
        "id": "HUCqH0_SmDMz",
        "colab_type": "code",
        "colab": {}
      },
      "source": [
        "from calogan_metrics import get_assymetry, get_shower_width, get_sparsity_level"
      ],
      "execution_count": 0,
      "outputs": []
    },
    {
      "cell_type": "code",
      "metadata": {
        "id": "zbvzfsYUmDM0",
        "colab_type": "code",
        "colab": {}
      },
      "source": [
        "assym = get_assymetry(EnergyDeposit, ParticleMomentum.detach().numpy(), ParticlePoint.detach().numpy(), orthog=False)\n",
        "assym_ortho = get_assymetry(EnergyDeposit, ParticleMomentum.detach().numpy(), ParticlePoint.detach().numpy(), orthog=True)\n",
        "sh_width = get_shower_width(EnergyDeposit, ParticleMomentum.detach().numpy(), ParticlePoint.detach().numpy(), orthog=False)\n",
        "sh_width_ortho = get_shower_width(EnergyDeposit, ParticleMomentum.detach().numpy(), ParticlePoint.detach().numpy(), orthog=True)\n",
        "sparsity_level = get_sparsity_level(EnergyDeposit)"
      ],
      "execution_count": 0,
      "outputs": []
    },
    {
      "cell_type": "markdown",
      "metadata": {
        "id": "2eJLvn3EmDM2",
        "colab_type": "text"
      },
      "source": [
        "## Longitudual cluster asymmetry"
      ]
    },
    {
      "cell_type": "code",
      "metadata": {
        "id": "NEORbnE7mDM2",
        "colab_type": "code",
        "colab": {}
      },
      "source": [
        "sns.set(font_scale=2)\n",
        "plt.hist(assym, bins=50, range=[-1, 1], color='red', alpha=0.3, normed=True, label='MC');\n",
        "plt.xlabel('Longitudual cluster asymmetry')\n",
        "plt.legend(loc='best')"
      ],
      "execution_count": 0,
      "outputs": []
    },
    {
      "cell_type": "markdown",
      "metadata": {
        "id": "15wFghYcmDM3",
        "colab_type": "text"
      },
      "source": [
        "## Transverse cluster asymmetry"
      ]
    },
    {
      "cell_type": "code",
      "metadata": {
        "id": "vfge5LTMmDM4",
        "colab_type": "code",
        "colab": {}
      },
      "source": [
        "sns.set(font_scale=2)\n",
        "plt.hist(assym_ortho, bins=50, range=[-1, 1], color='red', alpha=0.3, normed=True, label='MC');\n",
        "plt.xlabel('Transverse cluster asymmetry')\n",
        "plt.legend(loc='best')"
      ],
      "execution_count": 0,
      "outputs": []
    },
    {
      "cell_type": "markdown",
      "metadata": {
        "id": "H4lWh8VAmDM5",
        "colab_type": "text"
      },
      "source": [
        "## Cluster longitudual width"
      ]
    },
    {
      "cell_type": "code",
      "metadata": {
        "id": "xB27rAtImDM6",
        "colab_type": "code",
        "colab": {}
      },
      "source": [
        "plt.hist(sh_width, bins=50, range=[0, 15], normed=True, alpha=0.3, color='red', label='MC');\n",
        "plt.title('Shower longitudial width')\n",
        "plt.legend(loc='best')\n",
        "plt.xlabel('Cluster longitudual width [cm]')\n",
        "plt.ylabel('Arbitrary units')"
      ],
      "execution_count": 0,
      "outputs": []
    },
    {
      "cell_type": "markdown",
      "metadata": {
        "id": "gC-HiFBamDM7",
        "colab_type": "text"
      },
      "source": [
        "## Cluster trasverse width"
      ]
    },
    {
      "cell_type": "code",
      "metadata": {
        "id": "dBIu8gwLmDM9",
        "colab_type": "code",
        "colab": {}
      },
      "source": [
        "plt.hist(sh_width_ortho, bins=50, range=[0,10], normed=True, alpha=0.3, color='blue', label='MC');\n",
        "#plt.title('Shower transverse width')\n",
        "plt.legend(loc='best')\n",
        "plt.xlabel('Cluster trasverse width [cm]')\n",
        "plt.ylabel('Arbitrary units')"
      ],
      "execution_count": 0,
      "outputs": []
    },
    {
      "cell_type": "markdown",
      "metadata": {
        "id": "8pFbBYvOmDNA",
        "colab_type": "text"
      },
      "source": [
        "## Sparsity"
      ]
    },
    {
      "cell_type": "code",
      "metadata": {
        "id": "ob53fPO_mDNA",
        "colab_type": "code",
        "colab": {}
      },
      "source": [
        "alphas = np.log(np.logspace(-5, -1, 20))\n",
        "means_r = np.mean(sparsity_level, axis=1)\n",
        "stddev_r = np.std(sparsity_level, axis=1)"
      ],
      "execution_count": 0,
      "outputs": []
    },
    {
      "cell_type": "code",
      "metadata": {
        "id": "QygKaRldmDNB",
        "colab_type": "code",
        "colab": {}
      },
      "source": [
        "plt.plot(alphas, means_r, color='red')\n",
        "plt.fill_between(alphas, means_r-stddev_r, means_r+stddev_r, color='red', alpha=0.3)\n",
        "plt.legend(['MC'])\n",
        "plt.title('Sparsity')\n",
        "plt.xlabel('log10(Threshold/GeV)')\n",
        "plt.ylabel('Fraction of cells above threshold')"
      ],
      "execution_count": 0,
      "outputs": []
    },
    {
      "cell_type": "code",
      "metadata": {
        "id": "5-imUBMEmDND",
        "colab_type": "code",
        "colab": {}
      },
      "source": [
        "from calogan_metrics import get_physical_stats\n",
        "real_phys_stats = get_physical_stats(EnergyDeposit, ParticleMomentum.detach().numpy(), ParticlePoint.detach().numpy())\n",
        "gen_phys_stats = get_physical_stats(EnergyDeposit_gen, ParticleMomentum.detach().numpy(), ParticlePoint.detach().numpy())"
      ],
      "execution_count": 0,
      "outputs": []
    },
    {
      "cell_type": "code",
      "metadata": {
        "id": "wp_s9vGcmDNE",
        "colab_type": "code",
        "colab": {}
      },
      "source": [
        "precisions, recalls = calc_pr_rec(real_phys_stats, gen_phys_stats, num_clusters=100, num_runs=20)"
      ],
      "execution_count": 0,
      "outputs": []
    },
    {
      "cell_type": "code",
      "metadata": {
        "id": "Btvs99JKmDNI",
        "colab_type": "code",
        "colab": {}
      },
      "source": [
        "pr_aucs = plot_pr_aucs(precisions, recalls)\n",
        "plt.title('Num_clusters={}, num_runs={}, first third'.format(100, 20))\n",
        "plt.show()"
      ],
      "execution_count": 0,
      "outputs": []
    },
    {
      "cell_type": "code",
      "metadata": {
        "id": "uOyBgN-4mDNJ",
        "colab_type": "code",
        "colab": {}
      },
      "source": [
        "pr_aucs"
      ],
      "execution_count": 0,
      "outputs": []
    }
  ]
}